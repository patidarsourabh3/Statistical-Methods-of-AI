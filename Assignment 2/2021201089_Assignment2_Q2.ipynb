{
 "cells": [
  {
   "cell_type": "markdown",
   "id": "improving-pepper",
   "metadata": {},
   "source": [
    "# Assignment 2 - Question 2\n",
    "The objective of this assignment is to get you familiarize with  the  problem  of  `Linear Regression`.\n",
    "\n",
    "## Instructions\n",
    "- Write your code and analysis in the indicated cells.\n",
    "- Ensure that this notebook runs without errors when the cells are run in sequence.\n",
    "- Do not attempt to change the contents of other cells.\n",
    "- No inbuilt functions to be used until specified\n",
    "\n",
    "## Submission\n",
    "- Ensure that this notebook runs without errors when the cells are run in sequence.\n",
    "- Rename the notebook to `<roll_number>_Assignment2_Q2.ipynb`."
   ]
  },
  {
   "cell_type": "markdown",
   "id": "final-transaction",
   "metadata": {},
   "source": [
    "## 2.0 Background about the dataset\n",
    "\n",
    "TLDR: You have 4 independent variables (`float`) for each molecule. You can use a linear combination of these 4 independent variables to predict the bandgap (dependent variable) of each molecule.\n",
    "\n",
    "You can read more about the problem in [Li et al, Bandgap tuning strategy by cations and halide ions of lead halide perovskites learned from machine learning, RSC Adv., 2021,11, 15688-15694](https://doi.org/10.1039/D1RA03117A)."
   ]
  },
  {
   "cell_type": "code",
   "execution_count": 1,
   "id": "lyric-olympus",
   "metadata": {},
   "outputs": [],
   "source": [
    "import csv\n",
    "import random\n",
    "import numpy as np\n",
    "import matplotlib.pyplot as plt\n",
    "from sklearn.metrics import mean_squared_error\n",
    "from sklearn.linear_model import LinearRegression\n",
    "import pandas as pd"
   ]
  },
  {
   "cell_type": "code",
   "execution_count": 2,
   "id": "hundred-receipt",
   "metadata": {},
   "outputs": [],
   "source": [
    "all_molecules = list()\n",
    "\n",
    "with open('bg_data.txt', 'r') as infile:\n",
    "    input_rows = csv.DictReader(infile)\n",
    "    \n",
    "    for row in input_rows:\n",
    "        current_mol = ([float(row['Cs']), float(row['FA']), float(row['Cl']), float(row['Br'])], float(row['Bandgap']))\n",
    "        all_molecules.append(current_mol)\n",
    "\n",
    "random.shuffle(all_molecules)\n",
    "\n",
    "\n",
    "num_train = int(len(all_molecules) * 0.8)\n",
    "\n",
    "# each point in x_train has 4 values - 1 for each feature\n",
    "x_train = [x[0] for x in all_molecules[:num_train]]\n",
    "# each point in y_train has 1 value - the bandgap of the molecule\n",
    "y_train = [x[1] for x in all_molecules[:num_train]]\n",
    "\n",
    "x_test = [x[0] for x in all_molecules[num_train:]]\n",
    "y_test = [x[1] for x in all_molecules[num_train:]]"
   ]
  },
  {
   "cell_type": "code",
   "execution_count": 3,
   "id": "1c49e02a",
   "metadata": {},
   "outputs": [
    {
     "data": {
      "text/plain": [
       "87"
      ]
     },
     "execution_count": 3,
     "metadata": {},
     "output_type": "execute_result"
    }
   ],
   "source": [
    "len(x_train)"
   ]
  },
  {
   "cell_type": "markdown",
   "id": "square-direction",
   "metadata": {},
   "source": [
    "### 2.1 Implement a Linear Regression model that minimizes the MSE **without using any libraries**. You may use NumPy to vectorize your code, but *do not use numpy.polyfit* or anything similar.\n",
    "\n",
    "2.1.1 Explain how you plan to implement Linear Regression in 5-10 lines.\n",
    "\n",
    "We are given a dataset which is divided into x_train, x_test, y_train and y_test. x_train has 4 dimensions and y_train is single value. We have 87 rows which means we have 87 datapoints to train our linear regression model. So theoritically our model will look like y = w0 + w1*x1 +w2*x2 + w3*x3 + w4*x4 where x1,x2,x3,x4 are given points and we need to optimize weight(w0-w4). To optimize weights we will use gradient descent technique. Firstly we will add a column with value 1 to calculate bias in each x_train datapoint. tIntially we will assign value = 0 to all the weights. Now we will decide on learning rate and number of iterations. Now, we will find optimal weight for given learning rate by updating weight according to the below formula - \n",
    "\n",
    "                    Wnew = W - learning_rate * (dJ/dW)\n",
    "                    To find dJ/dW,\n",
    "                    we can write dJ/dW = (dJ/dy) * (dy/dW)\n",
    "                    where dJ/dy =  d((y-wTx)^2)/dy\n",
    "                                = 2 * (y-wTx)\n",
    "                    and dy/dW = d(wTx)/dW\n",
    "                              = x\n",
    "                              \n",
    "                    So now dJ/dW = 2 * x * (y-wTx)\n",
    "Now we will reiterate the above formula for given number of iterations and the Wnew we get will be our optimal for given learning rate. We will use multiple learning rates and we will select the learning rate which will give us least error. Using the W we will find the value of y_pred. "
   ]
  },
  {
   "cell_type": "markdown",
   "id": "addressed-winter",
   "metadata": {},
   "source": [
    "2.1.2 Implement Linear Regression using `x_train` and `y_train` as the train dataset.\n",
    "\n",
    "2.1.2.1 Choose the best learning rate and print the learning rate for which you achieved the best MSE."
   ]
  },
  {
   "cell_type": "code",
   "execution_count": 4,
   "id": "4b3f2266",
   "metadata": {},
   "outputs": [],
   "source": [
    "# model = LinearRegression()\n",
    "# model.fit(x_train,y_train)\n",
    "# y_pred_with_inbulit = model.predict(x_test)\n",
    "# err(y_test,y_pred_with_inbulit)"
   ]
  },
  {
   "cell_type": "code",
   "execution_count": 5,
   "id": "ecb765cf",
   "metadata": {},
   "outputs": [
    {
     "data": {
      "text/plain": [
       "array([1.  , 0.  , 0.55, 0.  , 0.45])"
      ]
     },
     "execution_count": 5,
     "metadata": {},
     "output_type": "execute_result"
    }
   ],
   "source": [
    "ones = np.ones(len(x_train))\n",
    "x_train_homo = np.insert(x_train, 0, ones, axis=1)\n",
    "x_train_homo[0]"
   ]
  },
  {
   "cell_type": "code",
   "execution_count": 6,
   "id": "angry-depression",
   "metadata": {},
   "outputs": [],
   "source": [
    "# # implement Linear Regression\n",
    "# x_train_homo = np.array(x_train_homo)\n",
    "# y_train = np.array(y_train)\n",
    "# AtransposeA = np.matmul(x_train_homo.T, x_train_homo)\n",
    "# AtransposeAinverse = np.linalg.inv(AtransposeA)\n",
    "# AtransposeAinverse = np.matmul(AtransposeAinverse, x_train_homo.T)\n",
    "# W = np.matmul(AtransposeAinverse,y_train)\n",
    "# W"
   ]
  },
  {
   "cell_type": "code",
   "execution_count": 7,
   "id": "c31ad14b",
   "metadata": {},
   "outputs": [],
   "source": [
    "y_train = np.array(y_train)\n",
    "x_test = np.array(x_test)\n",
    "y_test = np.array(y_test)"
   ]
  },
  {
   "cell_type": "code",
   "execution_count": 8,
   "id": "e43822d6",
   "metadata": {},
   "outputs": [],
   "source": [
    "def err(y_test,y_pred):\n",
    "    error = 0\n",
    "    for i in range(0,len(y_pred)):\n",
    "        error = error + (y_test[i]-y_pred[i])**2\n",
    "    error = np.sqrt(error)\n",
    "    error = error/len(y_pred)\n",
    "    return error"
   ]
  },
  {
   "cell_type": "code",
   "execution_count": 9,
   "id": "99adc189",
   "metadata": {},
   "outputs": [],
   "source": [
    "def linear_regression(x_train_homo, y_train, learning_rate, iterations):\n",
    "    W = np.zeros(5)\n",
    "    error_list = []\n",
    "    W_list = []\n",
    "    for lr in learning_rate:\n",
    "        for i in range(iterations):\n",
    "            y_dash = np.matmul(x_train_homo, W)\n",
    "            W_dash = (np.matmul(x_train_homo.T, (y_dash-y_train)))\n",
    "            W_dash = 2 * lr * W_dash\n",
    "            W_dash = W_dash / len(x_train_homo)\n",
    "            W = W - W_dash\n",
    "        error_list.append(mean_squared_error(y_train, y_dash))\n",
    "        W_list.append(W)\n",
    "    return error_list, W_list"
   ]
  },
  {
   "cell_type": "code",
   "execution_count": 10,
   "id": "c51b0a7b",
   "metadata": {},
   "outputs": [],
   "source": [
    "learning_rate = [0.01,0.02,0.05,0.1,0.5,0.7]\n",
    "iterations = 1000\n",
    "error_list, W_list = linear_regression(x_train_homo, y_train, learning_rate, iterations)"
   ]
  },
  {
   "cell_type": "code",
   "execution_count": 11,
   "id": "1bd01e46",
   "metadata": {},
   "outputs": [
    {
     "data": {
      "image/png": "[encoded data removed]",
      "text/plain": [
       "<Figure size 432x288 with 1 Axes>"
      ]
     },
     "metadata": {
      "needs_background": "light"
     },
     "output_type": "display_data"
    }
   ],
   "source": [
    "plt.plot(learning_rate,error_list)\n",
    "plt.xlabel(\"Learning Rate\")\n",
    "plt.ylabel(\"Root mean squared error\")\n",
    "plt.show()"
   ]
  },
  {
   "cell_type": "code",
   "execution_count": 12,
   "id": "e75f76ed",
   "metadata": {},
   "outputs": [
    {
     "name": "stdout",
     "output_type": "stream",
     "text": [
      "0.005285273346637032\n",
      "0.00255021238526648\n",
      "0.0025379530934735773\n",
      "0.0025453350655262994\n",
      "0.0025453489035301056\n",
      "0.0025453489035301086\n"
     ]
    }
   ],
   "source": [
    "W_final = []\n",
    "min_error = 99999999999999999\n",
    "y_pred_final = []\n",
    "for W in W_list:\n",
    "    y_pred = []\n",
    "    for entry in x_test:\n",
    "        ans = W[0] + W[1]*entry[0] + W[2]*entry[1]  + W[3]*entry[2]  + W[4]*entry[3] \n",
    "        y_pred.append(ans)\n",
    "    error = mean_squared_error(y_test, y_pred)\n",
    "    print(error)\n",
    "    if error<min_error:\n",
    "        min_error = error \n",
    "        y_pred_final = y_pred\n",
    "        W_final = W"
   ]
  },
  {
   "cell_type": "code",
   "execution_count": 13,
   "id": "2f49d5a8",
   "metadata": {},
   "outputs": [
    {
     "data": {
      "text/plain": [
       "array([ 1.6015729 , -0.01542301, -0.12278509,  1.54441783,  0.62931325])"
      ]
     },
     "execution_count": 13,
     "metadata": {},
     "output_type": "execute_result"
    }
   ],
   "source": [
    "W_final"
   ]
  },
  {
   "cell_type": "markdown",
   "id": "angry-tampa",
   "metadata": {},
   "source": [
    "2.1.3 Make a [Parity Plot](https://en.wikipedia.org/wiki/Parity_plot) of your model's bandgap predictions on the test set with the actual values."
   ]
  },
  {
   "cell_type": "code",
   "execution_count": 14,
   "id": "foster-center",
   "metadata": {},
   "outputs": [
    {
     "data": {
      "image/png": "[encoded data removed]",
      "text/plain": [
       "<Figure size 720x1440 with 1 Axes>"
      ]
     },
     "metadata": {
      "needs_background": "light"
     },
     "output_type": "display_data"
    }
   ],
   "source": [
    "# Get the predictions of x_test into `y_pred`\n",
    "\n",
    "#\n",
    "# ...\n",
    "#\n",
    "\n",
    "import matplotlib.pyplot as plt\n",
    "fig, ax = plt.subplots(figsize=(10,20))\n",
    "\n",
    "ax.scatter(y_test, y_pred_final, color=\"green\")\n",
    "\n",
    "lims = [\n",
    "    np.min([ax.get_xlim(), ax.get_ylim()]),\n",
    "    np.max([ax.get_xlim(), ax.get_ylim()]),\n",
    "]\n",
    "ax.plot(lims, lims, 'k-', alpha=0.75, zorder=0)\n",
    "ax.set_aspect('equal')\n",
    "ax.set_xlim(lims)\n",
    "ax.set_ylim(lims)\n",
    "\n",
    "ax.set_title('Parity Plot of Custom Linear Regression')\n",
    "ax.set_xlabel('Ground truth bandgap values')\n",
    "ax.set_ylabel('Predicted bandgap values')\n",
    "plt.show()"
   ]
  },
  {
   "cell_type": "markdown",
   "id": "dominant-chaos",
   "metadata": {},
   "source": [
    "### 2.2 Implement Ridge regression\n",
    "2.2.1 Explain Ridge regression briefly in 1-2 lines.\n",
    "\n",
    "Ridge Regression is a L2 norm ‘regularization’ technique that work by adding penalty equivalent to square of the magnitude of coefficients(features) along with minimizing the error between predicted and actual observations."
   ]
  },
  {
   "cell_type": "markdown",
   "id": "tight-forwarding",
   "metadata": {},
   "source": [
    "2.2.2 Implement Ridge regression and make a table of different RMSE scores you achieved with different values of alpha. What does the parameter `alpha` do? How does it affect the results here? Explain in 5-10 lines in total. (You can use scikit-learn from this cell onwards)\n",
    "\n",
    "Answer - The parameter alpha is used to refrain the model from getting overfitted. Value of alpha ranges from 0 to infinity. Alpha is equal to 0 means its a simple linear regression model. Basically alpha is used to emphasis the more dominant feature and de-emphasis the lesser dominant feature which improves over model accuracy. When we increase the alpha the complexity of model reduce but we need to be careful while taking the value of alpha because higher value of alpha can cause underfitting. We can avoid this by using cross-validation method.\n",
    "\n",
    "In this case we have taken, some value of alpha ranges from 0.01 to 5. We have found out that as we increase the value of alpha the testing error increases as we can see in below alpha value Vs error plot."
   ]
  },
  {
   "cell_type": "code",
   "execution_count": 15,
   "id": "violent-northern",
   "metadata": {},
   "outputs": [],
   "source": [
    "# you should not have imported sklearn before this point\n",
    "import sklearn\n",
    "\n",
    "\n",
    "# implement Ridge regression and make a table where you explore the effect of different values of `alpha`"
   ]
  },
  {
   "cell_type": "code",
   "execution_count": 16,
   "id": "20de8fd0",
   "metadata": {},
   "outputs": [],
   "source": [
    "def root_mean_squared_error(y_test, y_pred1):\n",
    "    return np.sqrt(np.sum((y_test-y_pred1)**2))/len(y_test)"
   ]
  },
  {
   "cell_type": "code",
   "execution_count": 17,
   "id": "7e6b437b",
   "metadata": {},
   "outputs": [
    {
     "data": {
      "text/html": [
       "<div>\n",
       "<style scoped>\n",
       "    .dataframe tbody tr th:only-of-type {\n",
       "        vertical-align: middle;\n",
       "    }\n",
       "\n",
       "    .dataframe tbody tr th {\n",
       "        vertical-align: top;\n",
       "    }\n",
       "\n",
       "    .dataframe thead th {\n",
       "        text-align: right;\n",
       "    }\n",
       "</style>\n",
       "<table border=\"1\" class=\"dataframe\">\n",
       "  <thead>\n",
       "    <tr style=\"text-align: right;\">\n",
       "      <th></th>\n",
       "      <th>Alpha</th>\n",
       "      <th>Root Mean Squared Error</th>\n",
       "    </tr>\n",
       "  </thead>\n",
       "  <tbody>\n",
       "    <tr>\n",
       "      <th>0</th>\n",
       "      <td>0.01</td>\n",
       "      <td>0.010723</td>\n",
       "    </tr>\n",
       "    <tr>\n",
       "      <th>1</th>\n",
       "      <td>0.05</td>\n",
       "      <td>0.010627</td>\n",
       "    </tr>\n",
       "    <tr>\n",
       "      <th>2</th>\n",
       "      <td>0.10</td>\n",
       "      <td>0.010586</td>\n",
       "    </tr>\n",
       "    <tr>\n",
       "      <th>3</th>\n",
       "      <td>0.20</td>\n",
       "      <td>0.010745</td>\n",
       "    </tr>\n",
       "    <tr>\n",
       "      <th>4</th>\n",
       "      <td>0.40</td>\n",
       "      <td>0.011791</td>\n",
       "    </tr>\n",
       "    <tr>\n",
       "      <th>5</th>\n",
       "      <td>0.60</td>\n",
       "      <td>0.013402</td>\n",
       "    </tr>\n",
       "    <tr>\n",
       "      <th>6</th>\n",
       "      <td>0.80</td>\n",
       "      <td>0.015241</td>\n",
       "    </tr>\n",
       "    <tr>\n",
       "      <th>7</th>\n",
       "      <td>1.00</td>\n",
       "      <td>0.017132</td>\n",
       "    </tr>\n",
       "    <tr>\n",
       "      <th>8</th>\n",
       "      <td>2.00</td>\n",
       "      <td>0.025637</td>\n",
       "    </tr>\n",
       "    <tr>\n",
       "      <th>9</th>\n",
       "      <td>5.00</td>\n",
       "      <td>0.041292</td>\n",
       "    </tr>\n",
       "  </tbody>\n",
       "</table>\n",
       "</div>"
      ],
      "text/plain": [
       "   Alpha  Root Mean Squared Error\n",
       "0   0.01                 0.010723\n",
       "1   0.05                 0.010627\n",
       "2   0.10                 0.010586\n",
       "3   0.20                 0.010745\n",
       "4   0.40                 0.011791\n",
       "5   0.60                 0.013402\n",
       "6   0.80                 0.015241\n",
       "7   1.00                 0.017132\n",
       "8   2.00                 0.025637\n",
       "9   5.00                 0.041292"
      ]
     },
     "execution_count": 17,
     "metadata": {},
     "output_type": "execute_result"
    }
   ],
   "source": [
    "alpha_list = [0.01,0.05,0.1,0.2,0.4,0.6,0.8,1,2,5]\n",
    "error = []\n",
    "for a in alpha_list:\n",
    "    model = sklearn.linear_model.Ridge(alpha = a)\n",
    "    model.fit(x_train,y_train)\n",
    "    y_pred_ridge = model.predict(x_test)\n",
    "    error.append(root_mean_squared_error(y_test, y_pred_ridge))\n",
    "df = pd.DataFrame(list(zip(alpha_list, error)), columns=['Alpha', 'Root Mean Squared Error'])\n",
    "df"
   ]
  },
  {
   "cell_type": "code",
   "execution_count": 18,
   "id": "634058b1",
   "metadata": {},
   "outputs": [
    {
     "data": {
      "image/png": "[encoded data removed]",
      "text/plain": [
       "<Figure size 432x288 with 1 Axes>"
      ]
     },
     "metadata": {
      "needs_background": "light"
     },
     "output_type": "display_data"
    }
   ],
   "source": [
    "#Graph between alpha vs error\n",
    "plt.plot(alpha_list, error,marker='o')\n",
    "plt.xlabel(\"Alpha\")\n",
    "plt.ylabel(\"Mean squared error\")\n",
    "plt.show()"
   ]
  },
  {
   "cell_type": "markdown",
   "id": "adolescent-temperature",
   "metadata": {},
   "source": [
    "### 2.3 Implement Lasso regression\n",
    "2.3.1 Explain Lasso regression briefly in 1-2 lines.\n",
    "\n",
    "Lasso Regression is a L1 norm ‘regularization’ technique that work by adding penalty equivalent to absolute value of the magnitude of coefficients(features) along with minimizing the error between predicted and actual observations."
   ]
  },
  {
   "cell_type": "markdown",
   "id": "popular-wonder",
   "metadata": {},
   "source": [
    "2.3.2 Implement Lasso regression and make a table of different RMSE scores you achieved with different values of alpha. What does the parameter `alpha` do? How does it affect the results here? Explain in 5-10 lines in total.\n",
    "\n",
    "The parameter alpha is used to refrain the model from getting overfitted. Value of alpha ranges from 0 to infinity. Alpha is equal to 0 means its a simple linear regression model. Basically alpha is used to emphasis the more dominant feature and de-emphasis the lesser dominant feature which improves over model accuracy. When we increase the alpha the complexity of model reduce but we need to be careful while taking the value of alpha because higher value of alpha can cause underfitting. We can avoid this by using cross-validation method.\n",
    "\n",
    "In this case we have taken, some value of alpha ranges from 0.01 to 0.8. We have found out that as we increase the value of alpha the testing error increases as we can see in below alpha value Vs error plot. After a certain value the error becomes constant which means the model is conversed. "
   ]
  },
  {
   "cell_type": "code",
   "execution_count": 19,
   "id": "extra-brighton",
   "metadata": {},
   "outputs": [],
   "source": [
    "# implement Lasso regression and make a table where you explore the effect of different values of `alpha`"
   ]
  },
  {
   "cell_type": "code",
   "execution_count": 20,
   "id": "accompanied-worst",
   "metadata": {},
   "outputs": [
    {
     "data": {
      "text/html": [
       "<div>\n",
       "<style scoped>\n",
       "    .dataframe tbody tr th:only-of-type {\n",
       "        vertical-align: middle;\n",
       "    }\n",
       "\n",
       "    .dataframe tbody tr th {\n",
       "        vertical-align: top;\n",
       "    }\n",
       "\n",
       "    .dataframe thead th {\n",
       "        text-align: right;\n",
       "    }\n",
       "</style>\n",
       "<table border=\"1\" class=\"dataframe\">\n",
       "  <thead>\n",
       "    <tr style=\"text-align: right;\">\n",
       "      <th></th>\n",
       "      <th>Alpha</th>\n",
       "      <th>Root Mean Squared Error</th>\n",
       "    </tr>\n",
       "  </thead>\n",
       "  <tbody>\n",
       "    <tr>\n",
       "      <th>0</th>\n",
       "      <td>0.01</td>\n",
       "      <td>0.014118</td>\n",
       "    </tr>\n",
       "    <tr>\n",
       "      <th>1</th>\n",
       "      <td>0.05</td>\n",
       "      <td>0.054713</td>\n",
       "    </tr>\n",
       "    <tr>\n",
       "      <th>2</th>\n",
       "      <td>0.10</td>\n",
       "      <td>0.091597</td>\n",
       "    </tr>\n",
       "    <tr>\n",
       "      <th>3</th>\n",
       "      <td>0.20</td>\n",
       "      <td>0.093163</td>\n",
       "    </tr>\n",
       "    <tr>\n",
       "      <th>4</th>\n",
       "      <td>0.40</td>\n",
       "      <td>0.093163</td>\n",
       "    </tr>\n",
       "    <tr>\n",
       "      <th>5</th>\n",
       "      <td>0.60</td>\n",
       "      <td>0.093163</td>\n",
       "    </tr>\n",
       "    <tr>\n",
       "      <th>6</th>\n",
       "      <td>0.80</td>\n",
       "      <td>0.093163</td>\n",
       "    </tr>\n",
       "  </tbody>\n",
       "</table>\n",
       "</div>"
      ],
      "text/plain": [
       "   Alpha  Root Mean Squared Error\n",
       "0   0.01                 0.014118\n",
       "1   0.05                 0.054713\n",
       "2   0.10                 0.091597\n",
       "3   0.20                 0.093163\n",
       "4   0.40                 0.093163\n",
       "5   0.60                 0.093163\n",
       "6   0.80                 0.093163"
      ]
     },
     "execution_count": 20,
     "metadata": {},
     "output_type": "execute_result"
    }
   ],
   "source": [
    "alpha_list = [0.01,0.05,0.1,0.2,0.4,0.6,0.8]\n",
    "error = []\n",
    "for a in alpha_list:\n",
    "    model = sklearn.linear_model.Lasso(alpha = a)\n",
    "    model.fit(x_train,y_train)\n",
    "    y_pred_lasso = model.predict(x_test)\n",
    "    error.append(root_mean_squared_error(y_test, y_pred_lasso))\n",
    "df = pd.DataFrame(list(zip(alpha_list, error)), columns=['Alpha', 'Root Mean Squared Error'])\n",
    "df"
   ]
  },
  {
   "cell_type": "code",
   "execution_count": 21,
   "id": "eb9dbd50",
   "metadata": {},
   "outputs": [
    {
     "data": {
      "image/png": "[encoded data removed]",
      "text/plain": [
       "<Figure size 432x288 with 1 Axes>"
      ]
     },
     "metadata": {
      "needs_background": "light"
     },
     "output_type": "display_data"
    }
   ],
   "source": [
    "#Graph between alpha vs error\n",
    "plt.plot(alpha_list, error,marker='o')\n",
    "plt.xlabel(\"Alpha\")\n",
    "plt.ylabel(\"Mean squared error\")\n",
    "plt.show()"
   ]
  }
 ],
 "metadata": {
  "kernelspec": {
   "display_name": "Python 3 (ipykernel)",
   "language": "python",
   "name": "python3"
  },
  "language_info": {
   "codemirror_mode": {
    "name": "ipython",
    "version": 3
   },
   "file_extension": ".py",
   "mimetype": "text/x-python",
   "name": "python",
   "nbconvert_exporter": "python",
   "pygments_lexer": "ipython3",
   "version": "3.8.10"
  }
 },
 "nbformat": 4,
 "nbformat_minor": 5
}
