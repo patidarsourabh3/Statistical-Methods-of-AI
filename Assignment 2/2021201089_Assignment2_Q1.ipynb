{
  "cells": [
    {
      "cell_type": "markdown",
      "metadata": {
        "id": "moZXj5KOZEeb"
      },
      "source": [
        "# Assignment 2 - Question 1\n",
        "The objective of this assignment is to get you familiarize with  the  problem  of  `Clustering`.\n",
        "\n",
        "## Instructions\n",
        "- Write your code and analysis in the indicated cells.\n",
        "- Ensure that this notebook runs without errors when the cells are run in sequence.\n",
        "- Do not attempt to change the contents of other cells.\n",
        "- No inbuilt functions to be used until specified\n",
        "\n",
        "## Submission\n",
        "- Ensure that this notebook runs without errors when the cells are run in sequence.\n",
        "- Rename the notebook to `<roll_number>_Assignment2_Q1.ipynb`."
      ]
    },
    {
      "cell_type": "code",
      "execution_count": 1,
      "metadata": {
        "colab": {
          "base_uri": "https://localhost:8080/"
        },
        "id": "TdEXGGO0AqkW",
        "outputId": "c8d9884e-eb0a-4a52-86cc-bc5c4e5a00be"
      },
      "outputs": [
        {
          "output_type": "stream",
          "name": "stdout",
          "text": [
            "[nltk_data] Downloading package punkt to /root/nltk_data...\n",
            "[nltk_data]   Package punkt is already up-to-date!\n"
          ]
        }
      ],
      "source": [
        "import nltk\n",
        "nltk.download('punkt')    \n",
        "# if u r facing issues while importing nltk, please uncomment above line and run\n",
        "import re\n",
        "import numpy as np\n",
        "import sklearn\n",
        "from nltk.tokenize import RegexpTokenizer\n",
        "from nltk.tokenize import sent_tokenize\n",
        "from sklearn.feature_extraction.text import TfidfVectorizer\n",
        "from scipy.spatial.distance import cdist\n",
        "import random\n",
        "import sklearn.metrics "
      ]
    },
    {
      "cell_type": "code",
      "execution_count": 2,
      "metadata": {
        "colab": {
          "base_uri": "https://localhost:8080/"
        },
        "id": "5N2FkdFMxixH",
        "outputId": "44fb7649-5181-430a-9ab2-e5fac473580b"
      },
      "outputs": [
        {
          "output_type": "stream",
          "name": "stdout",
          "text": [
            "Requirement already satisfied: sentence-transformers in /usr/local/lib/python3.7/dist-packages (2.2.0)\n",
            "Requirement already satisfied: scikit-learn in /usr/local/lib/python3.7/dist-packages (from sentence-transformers) (1.0.2)\n",
            "Requirement already satisfied: tqdm in /usr/local/lib/python3.7/dist-packages (from sentence-transformers) (4.62.3)\n",
            "Requirement already satisfied: numpy in /usr/local/lib/python3.7/dist-packages (from sentence-transformers) (1.21.5)\n",
            "Requirement already satisfied: torchvision in /usr/local/lib/python3.7/dist-packages (from sentence-transformers) (0.11.1+cu111)\n",
            "Requirement already satisfied: transformers<5.0.0,>=4.6.0 in /usr/local/lib/python3.7/dist-packages (from sentence-transformers) (4.16.2)\n",
            "Requirement already satisfied: huggingface-hub in /usr/local/lib/python3.7/dist-packages (from sentence-transformers) (0.4.0)\n",
            "Requirement already satisfied: nltk in /usr/local/lib/python3.7/dist-packages (from sentence-transformers) (3.2.5)\n",
            "Requirement already satisfied: sentencepiece in /usr/local/lib/python3.7/dist-packages (from sentence-transformers) (0.1.96)\n",
            "Requirement already satisfied: scipy in /usr/local/lib/python3.7/dist-packages (from sentence-transformers) (1.4.1)\n",
            "Requirement already satisfied: torch>=1.6.0 in /usr/local/lib/python3.7/dist-packages (from sentence-transformers) (1.10.0+cu111)\n",
            "Requirement already satisfied: typing-extensions in /usr/local/lib/python3.7/dist-packages (from torch>=1.6.0->sentence-transformers) (3.10.0.2)\n",
            "Requirement already satisfied: tokenizers!=0.11.3,>=0.10.1 in /usr/local/lib/python3.7/dist-packages (from transformers<5.0.0,>=4.6.0->sentence-transformers) (0.11.5)\n",
            "Requirement already satisfied: regex!=2019.12.17 in /usr/local/lib/python3.7/dist-packages (from transformers<5.0.0,>=4.6.0->sentence-transformers) (2019.12.20)\n",
            "Requirement already satisfied: pyyaml>=5.1 in /usr/local/lib/python3.7/dist-packages (from transformers<5.0.0,>=4.6.0->sentence-transformers) (6.0)\n",
            "Requirement already satisfied: packaging>=20.0 in /usr/local/lib/python3.7/dist-packages (from transformers<5.0.0,>=4.6.0->sentence-transformers) (21.3)\n",
            "Requirement already satisfied: importlib-metadata in /usr/local/lib/python3.7/dist-packages (from transformers<5.0.0,>=4.6.0->sentence-transformers) (4.11.0)\n",
            "Requirement already satisfied: filelock in /usr/local/lib/python3.7/dist-packages (from transformers<5.0.0,>=4.6.0->sentence-transformers) (3.4.2)\n",
            "Requirement already satisfied: sacremoses in /usr/local/lib/python3.7/dist-packages (from transformers<5.0.0,>=4.6.0->sentence-transformers) (0.0.47)\n",
            "Requirement already satisfied: requests in /usr/local/lib/python3.7/dist-packages (from transformers<5.0.0,>=4.6.0->sentence-transformers) (2.23.0)\n",
            "Requirement already satisfied: pyparsing!=3.0.5,>=2.0.2 in /usr/local/lib/python3.7/dist-packages (from packaging>=20.0->transformers<5.0.0,>=4.6.0->sentence-transformers) (3.0.7)\n",
            "Requirement already satisfied: zipp>=0.5 in /usr/local/lib/python3.7/dist-packages (from importlib-metadata->transformers<5.0.0,>=4.6.0->sentence-transformers) (3.7.0)\n",
            "Requirement already satisfied: six in /usr/local/lib/python3.7/dist-packages (from nltk->sentence-transformers) (1.15.0)\n",
            "Requirement already satisfied: idna<3,>=2.5 in /usr/local/lib/python3.7/dist-packages (from requests->transformers<5.0.0,>=4.6.0->sentence-transformers) (2.10)\n",
            "Requirement already satisfied: urllib3!=1.25.0,!=1.25.1,<1.26,>=1.21.1 in /usr/local/lib/python3.7/dist-packages (from requests->transformers<5.0.0,>=4.6.0->sentence-transformers) (1.24.3)\n",
            "Requirement already satisfied: certifi>=2017.4.17 in /usr/local/lib/python3.7/dist-packages (from requests->transformers<5.0.0,>=4.6.0->sentence-transformers) (2021.10.8)\n",
            "Requirement already satisfied: chardet<4,>=3.0.2 in /usr/local/lib/python3.7/dist-packages (from requests->transformers<5.0.0,>=4.6.0->sentence-transformers) (3.0.4)\n",
            "Requirement already satisfied: joblib in /usr/local/lib/python3.7/dist-packages (from sacremoses->transformers<5.0.0,>=4.6.0->sentence-transformers) (1.1.0)\n",
            "Requirement already satisfied: click in /usr/local/lib/python3.7/dist-packages (from sacremoses->transformers<5.0.0,>=4.6.0->sentence-transformers) (7.1.2)\n",
            "Requirement already satisfied: threadpoolctl>=2.0.0 in /usr/local/lib/python3.7/dist-packages (from scikit-learn->sentence-transformers) (3.1.0)\n",
            "Requirement already satisfied: pillow!=8.3.0,>=5.3.0 in /usr/local/lib/python3.7/dist-packages (from torchvision->sentence-transformers) (7.1.2)\n"
          ]
        }
      ],
      "source": [
        "!pip install sentence-transformers\n",
        "from sentence_transformers import SentenceTransformer\n"
      ]
    },
    {
      "cell_type": "markdown",
      "metadata": {
        "id": "s-1irtUhxlp2"
      },
      "source": [
        "# Dataset\n",
        "\n",
        "\n",
        "\n",
        "*   Try to explore the dataset and first understand\n",
        "*   Steps while processing the dataset:\n",
        "\n",
        "1.   Load the dataset\n",
        ">> The 20 newsgroups dataset comprises around 18000 newsgroups posts on 20 topics split in two subsets: train and test. Here, we only use train part of the dataset as we don't need any training.\n",
        "\n",
        "2.   pre-processing of the dataset\n",
        ">>   A set of basic pre-processing steps are given below, if you can do it better, it is appreciable\n",
        "3.   Trying to obtain the embeddings for the text. \n",
        ">> Here, we used bert model to obtain the embeddings, if you want to use anyother sentence/word embeddings (ELMo,universal sentence encoder, or other bert models) you can use it, but not mandatorily change it)\n",
        "\n",
        "PS: You need not completely understand how bert works. If you are interested, few links will be mentioned below."
      ]
    },
    {
      "cell_type": "code",
      "execution_count": 3,
      "metadata": {
        "id": "oqkn6iSNmEo1"
      },
      "outputs": [],
      "source": [
        "# loading of dataset\n",
        "\n",
        "from sklearn.datasets import fetch_20newsgroups\n",
        "newsgroups_train = fetch_20newsgroups(subset='train')\n",
        "\n",
        "# print(list(newsgroups_train))\n",
        "#['data', 'filenames', 'target_names', 'target', 'DESCR']\n",
        "# all we require for our task is data and target. \n",
        "#target_names describe the different groups present (which are 20) all over the dataset\n",
        "\n",
        "# print(list(newsgroups_train.target_names))"
      ]
    },
    {
      "cell_type": "code",
      "execution_count": 4,
      "metadata": {
        "id": "NNRbIfsX01hD"
      },
      "outputs": [],
      "source": [
        "bert_model = SentenceTransformer('bert-base-nli-mean-tokens')"
      ]
    },
    {
      "cell_type": "code",
      "execution_count": 5,
      "metadata": {
        "id": "kp8UL8lP5U2k"
      },
      "outputs": [],
      "source": [
        "#preprocessing of sentences and the article\n",
        "\n",
        "def remove_punct(text):\n",
        "    text = re.sub('[^a-zA-Z0-9 ]+','', text)\n",
        "    return text\n",
        "\n",
        "def remove_urls(text):\n",
        "    url_pattern = re.compile(r'https?://\\S+|www\\.\\S+')\n",
        "    return url_pattern.sub(r'', text)\n",
        "\n",
        "def remove_tag(text):   \n",
        "    text=' '.join(text)\n",
        "    html_pattern = re.compile('<.*?>')\n",
        "    return html_pattern.sub(r'', text)\n",
        "\n",
        "def pre_process_sentence(sentence):\n",
        "    sentence = sentence.lower()\n",
        "    sentence = remove_punct(remove_urls(sentence))\n",
        "    return sentence\n",
        "\n",
        "def pre_process_article(article):\n",
        "    article = str(article).replace(\"\\n\", '')\n",
        "    article = sent_tokenize(article)\n",
        "    sentences = []\n",
        "    for each in article:\n",
        "        if len(each.split(\":\")) > 1:\n",
        "            continue\n",
        "        sentences.append(pre_process_sentence(each))\n",
        "    return sentences\n",
        "\n"
      ]
    },
    {
      "cell_type": "code",
      "execution_count": 6,
      "metadata": {
        "id": "72IcGYs980zK"
      },
      "outputs": [],
      "source": [
        "def get_review_embedding(article):\n",
        "  sentences = pre_process_article(article)\n",
        "\n",
        "  #here review(input) has to be a list of sentences\n",
        "  #use suitable embeddings to get an embedding for the whole review\n",
        "  #usage of sentence embeddings is recommended\n",
        "\n",
        "  sentence_embeddings = bert_model.encode(sentences)\n",
        "\n",
        "  # take average of all sentence embeddings to obtain a review embedding \n",
        "  review_embedding = np.zeros(768)\n",
        "  for each in sentence_embeddings:\n",
        "    review_embedding = np.add(np.array(each), review_embedding)\n",
        "\n",
        "  return review_embedding\n"
      ]
    },
    {
      "cell_type": "code",
      "execution_count": 7,
      "metadata": {
        "id": "pbkl4Ux0JPi2"
      },
      "outputs": [],
      "source": [
        "X, y = newsgroups_train.data, newsgroups_train.target"
      ]
    },
    {
      "cell_type": "markdown",
      "source": [
        ""
      ],
      "metadata": {
        "id": "lU0h7_QxWaHi"
      }
    },
    {
      "cell_type": "code",
      "execution_count": 8,
      "metadata": {
        "id": "-RpWSlh8bxRG",
        "colab": {
          "base_uri": "https://localhost:8080/"
        },
        "outputId": "0d153ea9-9380-4f82-f5e6-78b5a0b6cc81"
      },
      "outputs": [
        {
          "output_type": "stream",
          "name": "stdout",
          "text": [
            "1000\n",
            "2000\n",
            "3000\n",
            "4000\n",
            "5000\n",
            "6000\n",
            "7000\n",
            "8000\n",
            "9000\n",
            "10000\n",
            "11000\n"
          ]
        }
      ],
      "source": [
        "X_embedded = []\n",
        "count = 0\n",
        "for article in X:\n",
        "  count = count + 1\n",
        "  if count%1000 ==0:\n",
        "    print(count)  \n",
        "  X_embedded.append(get_review_embedding(article))"
      ]
    },
    {
      "cell_type": "code",
      "execution_count": 9,
      "metadata": {
        "id": "HDJG1tPOuwC1"
      },
      "outputs": [],
      "source": [
        "# def dist(v1,v2):\n",
        "#     return np.sqrt(np.sum(np.square(np.subtract(v1,v2))))"
      ]
    },
    {
      "cell_type": "code",
      "source": [
        "# def update_centroids(k,final_list, X_embedded, centroids):\n",
        "#   newCentroids = []\n",
        "#   for i in range(k):\n",
        "#     l = []\n",
        "#     for j in final_list[i]:\n",
        "#       l.append(X_embedded[j])\n",
        "#     # print(\"L = \")\n",
        "#     # print(l)\n",
        "#     if len(final_list[i]) == 0:\n",
        "#       newCentroids.append(centroids[i])\n",
        "#     else:\n",
        "#       newCentroids.append(np.mean(l,axis=0))\n",
        "#   return newCentroids\n"
      ],
      "metadata": {
        "id": "7p6y1_mHaHH8"
      },
      "execution_count": 10,
      "outputs": []
    },
    {
      "cell_type": "code",
      "execution_count": 11,
      "metadata": {
        "id": "GArI-A7-uwFZ"
      },
      "outputs": [],
      "source": [
        "# def mera_apna_kmeans(k,X_embedded, niter):\n",
        "#   z = random.sample(range(0,len(X)), k)\n",
        "#   # print(z)\n",
        "#   centroids = []\n",
        "#   for i in z:\n",
        "#     centroids.append(X_embedded[i])\n",
        "  \n",
        "#   # print(centroids)\n",
        "#   for j in range(niter):\n",
        "#     final_list = []\n",
        "#     for i in range(k):\n",
        "#       final_list.append([])\n",
        "#     for i in range(len(X)):\n",
        "#       min_d = 999999999999999999\n",
        "#       min_c = -1\n",
        "#       for c in range(len(centroids)):\n",
        "#         d = dist(X_embedded[i],centroids[c])\n",
        "#         if d<min_d:\n",
        "#           min_d = d\n",
        "#           min_c = c\n",
        "#       final_list[min_c].append(i)\n",
        "#     # print(centroids)\n",
        "#     old_centroids = centroids.copy()\n",
        "#     centroids = update_centroids(k,final_list, X_embedded, centroids)\n",
        "#     # print(j)\n",
        "\n",
        "#   return centroids\n"
      ]
    },
    {
      "cell_type": "code",
      "source": [
        "# #finding distortion \n",
        "# distortions = []\n",
        "# for k in range(1,40):\n",
        "#   final_centroids = mera_apna_kmeans(k,X_new,10)\n",
        "#   d = sum(np.min(cdist(X_new, final_centroids,'euclidean'), axis=1)/ len(X_new))\n",
        "#   distortions.append(d)\n",
        "#   print(\"For K = \", k,d)\n",
        "\n",
        "# distortions"
      ],
      "metadata": {
        "id": "0wB5fKQA3MRP"
      },
      "execution_count": 12,
      "outputs": []
    },
    {
      "cell_type": "code",
      "execution_count": 13,
      "metadata": {
        "id": "JkaKG4WW9eXx"
      },
      "outputs": [],
      "source": [
        "# data visualization \n",
        "\n",
        "# Try to visualise the points from all the domains and try to visualise them \n",
        "# hint: you can use PCA \n",
        "\n",
        "import sklearn\n",
        "from sklearn.decomposition import PCA\n",
        "import matplotlib.pyplot as plt\n",
        "\n",
        "\n"
      ]
    },
    {
      "cell_type": "markdown",
      "metadata": {
        "id": "uZH6gO7HA5jk"
      },
      "source": [
        "# K_Means Algorithm\n"
      ]
    },
    {
      "cell_type": "code",
      "execution_count": 14,
      "metadata": {
        "id": "T9TBSHWfgWxU",
        "colab": {
          "base_uri": "https://localhost:8080/"
        },
        "outputId": "d67e7524-668f-4062-b393-a51d7dc91101"
      },
      "outputs": [
        {
          "output_type": "execute_result",
          "data": {
            "text/plain": [
              "KMeans(n_clusters=3)"
            ]
          },
          "metadata": {},
          "execution_count": 14
        }
      ],
      "source": [
        "# code to write your Kmeans algorithm\n",
        "# implement your KMeans algorithm here, and visualise the clusters obtained \n",
        "\n",
        "from sklearn.cluster import KMeans\n",
        "from sklearn.decomposition import PCA\n",
        "\n",
        "pca = PCA(n_components=2)\n",
        "pca = pca.fit_transform(X_embedded)\n",
        "\n",
        "kmeans = KMeans(n_clusters = 3)\n",
        "kmeans.fit(pca)\n"
      ]
    },
    {
      "cell_type": "code",
      "source": [
        "kmeans.cluster_centers_"
      ],
      "metadata": {
        "colab": {
          "base_uri": "https://localhost:8080/"
        },
        "id": "AJwZqcH5GnmV",
        "outputId": "795e836b-81ef-4477-dcd2-83d224e5ffdb"
      },
      "execution_count": 15,
      "outputs": [
        {
          "output_type": "execute_result",
          "data": {
            "text/plain": [
              "array([[ 5.15673117e+02, -4.90830222e+01],\n",
              "       [ 3.16542608e+03,  9.49278473e+01],\n",
              "       [-2.42180043e+01,  1.32716335e+00]])"
            ]
          },
          "metadata": {},
          "execution_count": 15
        }
      ]
    },
    {
      "cell_type": "code",
      "source": [
        "#code for visualisation of clusters\n",
        "# Visualizing the clustering\n",
        "plt.figure(figsize =(6, 6))\n",
        "plt.scatter(pca[:,0], pca[:,1],c = kmeans.fit_predict(pca), cmap ='rainbow')\n",
        "plt.scatter(kmeans.cluster_centers_[:,0], kmeans.cluster_centers_[:,1],color='black', marker = 'x')\n",
        "plt.xlabel('Component 0')\n",
        "plt.ylabel('Component 1')\n",
        "plt.show()"
      ],
      "metadata": {
        "colab": {
          "base_uri": "https://localhost:8080/",
          "height": 388
        },
        "id": "WUA-1OPVn5IH",
        "outputId": "41bd499d-55f8-4d4f-af10-8cbb87694e12"
      },
      "execution_count": 16,
      "outputs": [
        {
          "output_type": "display_data",
          "data": {
            "image/png": "[encoded data removed]",
            "text/plain": [
              "<Figure size 432x432 with 1 Axes>"
            ]
          },
          "metadata": {
            "needs_background": "light"
          }
        }
      ]
    },
    {
      "cell_type": "markdown",
      "metadata": {
        "id": "m2t9Cz6yuJmO"
      },
      "source": [
        "# Elbow method\n",
        "\n",
        "\n",
        "\n",
        "*   Try to understand how elbow method works\n",
        "*   Plot the graph between average distance and the number of clusters\n",
        "*   Use elbow method to find the optimal number of clusters, \n",
        "\n",
        "\n",
        "\n",
        "\n",
        "\n"
      ]
    },
    {
      "cell_type": "markdown",
      "source": [
        "#### Elbow Method\n",
        "\n",
        "In the Elbow method, we are actually varying the number of clusters (K) from 1 – 10. For each value of K, we are calculating WCSS ( Within-Cluster Sum of Square ). WCSS is the sum of squared distance between each point and the centroid in a cluster. When we plot the WCSS with the K value, the plot looks like an Elbow. As the number of clusters increases, the WCSS value will start to decrease. When we analyze the graph we can see that the graph will rapidly change at a point and thus creating an elbow shape. From this point, the graph starts to move almost parallel to the X-axis. The K value corresponding to this point is the optimal K value or an optimal number of clusters.\n"
      ],
      "metadata": {
        "id": "ne6320ueEtoO"
      }
    },
    {
      "cell_type": "code",
      "execution_count": 17,
      "metadata": {
        "id": "JW_stdJuub4s",
        "colab": {
          "base_uri": "https://localhost:8080/",
          "height": 295
        },
        "outputId": "17d6031e-4931-40f2-d371-784d78104f7e"
      },
      "outputs": [
        {
          "output_type": "display_data",
          "data": {
            "image/png": "[encoded data removed]",
            "text/plain": [
              "<Figure size 432x288 with 1 Axes>"
            ]
          },
          "metadata": {
            "needs_background": "light"
          }
        }
      ],
      "source": [
        "def elbow_method():\n",
        "  distance = []\n",
        "  K = [x for x in range(1,11)]\n",
        "  for k in K:\n",
        "    kmeans = KMeans(n_clusters = k)\n",
        "    kmeans.fit(X_embedded)\n",
        "    dist  = kmeans.inertia_\n",
        "    # dist = sum(np.min(cdist(X_embedded, kmeans.cluster_centers_,\n",
        "                                        # 'euclidean'), axis = 1))\n",
        "\n",
        "    distance.append(dist)\n",
        "  plt.plot(K, distance, marker = 'o')\n",
        "  plt.xlabel('Values of K')\n",
        "  plt.ylabel('Distortion')\n",
        "  plt.title('The Elbow Method using Distortion')\n",
        "  plt.show()\n",
        "  return\n",
        "\n",
        "elbow_method()"
      ]
    },
    {
      "cell_type": "markdown",
      "source": [
        "From the above we can say that the optimal value of k lies between 3 to 5 as we can see the elbow on this values. So get the better insight now we will see the silhouette method. We will take the value of k from 3 to 5 and check thier Silhouette score. The value of K for which the silhoette score is highest will be our optimal k. "
      ],
      "metadata": {
        "id": "5ko0wbgaB0he"
      }
    },
    {
      "cell_type": "markdown",
      "metadata": {
        "id": "2jHeGh-xuuDc"
      },
      "source": [
        "# Silhouette Method\n",
        "\n",
        "\n",
        "*   Compute silhouette score varying the K number of clusters\n",
        "\n",
        "*   Plot the graph between silhoutte score and number of clusters \n",
        "\n",
        "*   Find the optimal number of clusters using silhouette method\n",
        "\n",
        "\n",
        "\n",
        "\n",
        "> Report the optimal number of clusters you obtained from above two methods (elbow and silhouette)\n",
        "\n",
        "\n"
      ]
    },
    {
      "cell_type": "code",
      "execution_count": 18,
      "metadata": {
        "id": "lKRJ4IBMuwfd",
        "colab": {
          "base_uri": "https://localhost:8080/",
          "height": 295
        },
        "outputId": "559b32d2-6c6b-4678-e10b-90159e5ca5d2"
      },
      "outputs": [
        {
          "output_type": "display_data",
          "data": {
            "image/png": "[encoded data removed]",
            "text/plain": [
              "<Figure size 432x288 with 1 Axes>"
            ]
          },
          "metadata": {
            "needs_background": "light"
          }
        }
      ],
      "source": [
        "def silhouette_scor():\n",
        "  silhouette = []\n",
        "  K = [x for x in range(2,11)]\n",
        "  for k in K:\n",
        "    kmeans = KMeans(n_clusters = k)\n",
        "    kmeans.fit(X_embedded)\n",
        "    # cluster_labels = \n",
        "    dist = sklearn.metrics.silhouette_score(X_embedded, kmeans.labels_)\n",
        "    silhouette.append(dist)\n",
        "\n",
        "  plt.plot(K, silhouette, marker ='o')\n",
        "  plt.xlabel('Values of K')\n",
        "  plt.ylabel('Distortion')\n",
        "  plt.title('The Silhouette Score')\n",
        "  plt.show()\n",
        "  return\n",
        "  \n",
        "silhouette_scor() "
      ]
    },
    {
      "cell_type": "markdown",
      "source": [
        "From Elbow method we have found that value of k can be from 3 to 5. Silhouette score for k = 2 is highest but value of elbow method suggest that optimal k should be between 3 to 5 so we will check the silhouette score for value of k between 3 to 5. We found that k=3 has highest silhoutte score. Hence k = 3 is our optimal value for k. "
      ],
      "metadata": {
        "id": "ZsdU6tfKHzHT"
      }
    },
    {
      "cell_type": "markdown",
      "metadata": {
        "id": "JEvLJxmnuCof"
      },
      "source": [
        "# Agglomerative clustering"
      ]
    },
    {
      "cell_type": "code",
      "execution_count": 19,
      "metadata": {
        "id": "nzssThP1g_NN"
      },
      "outputs": [],
      "source": [
        "# code to write your Kmeans algorithm\n",
        "#implement your KMeans algorithm here, and visualise the clusters obtained \n",
        "\n",
        "from sklearn.cluster import AgglomerativeClustering\n",
        "\n",
        "# def AgglomerativeClusterings():\n",
        "#   clustering = AgglomerativeClustering().fit(visuals)\n",
        "#   clustering.labels_\n"
      ]
    },
    {
      "cell_type": "code",
      "execution_count": 20,
      "metadata": {
        "id": "whf5OLe2wf6o"
      },
      "outputs": [],
      "source": [
        "#code for visualisation of clusters\n",
        "\n",
        "ac2 = AgglomerativeClustering(distance_threshold=0, n_clusters = None)\n",
        "ac2 = ac2.fit(X_embedded)\n",
        "# Visualizing the clustering"
      ]
    },
    {
      "cell_type": "markdown",
      "metadata": {
        "id": "ZdNC7XxxwuJW"
      },
      "source": [
        "# Dendogram\n",
        "\n",
        "\n",
        "*   Try to understand the difference between agglomerative clustering and \"Divisive\" clustering. \n",
        "*   Plot dendograms for both kinds of clustering\n",
        "*   Find the optimal number of clusters with the help of Dendogram\n",
        "\n"
      ]
    },
    {
      "cell_type": "code",
      "source": [
        "import scipy.cluster.hierarchy as shc "
      ],
      "metadata": {
        "id": "KwSEMSWujtC2"
      },
      "execution_count": 21,
      "outputs": []
    },
    {
      "cell_type": "code",
      "source": [
        "def plot_dendrogram(model, **kwargs):\n",
        "    \n",
        "    counts = np.zeros(model.children_.shape[0])\n",
        "    n_samples = len(model.labels_)\n",
        "    for i, merge in enumerate(model.children_):\n",
        "        current_count = 0\n",
        "        for child_idx in merge:\n",
        "            if child_idx < n_samples:\n",
        "                current_count += 1  # leaf node\n",
        "            else:\n",
        "                current_count += counts[child_idx - n_samples]\n",
        "        counts[i] = current_count\n",
        "\n",
        "    linkage_matrix = np.column_stack(\n",
        "        [model.children_, model.distances_, counts]\n",
        "    ).astype(float)\n",
        "\n",
        "    # Plot the corresponding dendrogram\n",
        "    shc.dendrogram(linkage_matrix, **kwargs)\n",
        "\n",
        "plot_dendrogram(ac2, truncate_mode=\"level\", p=4)"
      ],
      "metadata": {
        "colab": {
          "base_uri": "https://localhost:8080/",
          "height": 286
        },
        "id": "rsgBum1HPglO",
        "outputId": "bd32662a-d2ce-4fae-9c56-4ae37e4b8612"
      },
      "execution_count": 22,
      "outputs": [
        {
          "output_type": "display_data",
          "data": {
            "image/png": "[encoded data removed]",
            "text/plain": [
              "<Figure size 432x288 with 1 Axes>"
            ]
          },
          "metadata": {
            "needs_background": "light"
          }
        }
      ]
    },
    {
      "cell_type": "markdown",
      "source": [
        "With the help of dendogram we can find the optimal number of clusters. To find optimal number of clusters we draw a line parallel to x-axis and see that line which crosses the largest distance line. IN this case the optimal number of clusters is 2."
      ],
      "metadata": {
        "id": "YwaW_8jlLaCT"
      }
    },
    {
      "cell_type": "markdown",
      "metadata": {
        "id": "B3On7lpA11eB"
      },
      "source": [
        "# useful links to understand BERT\n",
        "\n",
        "*  https://towardsdatascience.com/bert-explained-state-of-the-art-language-model-for-nlp-f8b21a9b6270#:~:text=How%20BERT%20works,%2Dwords)%20in%20a%20text.&text=As%20opposed%20to%20directional%20models,sequence%20of%20words%20at%20once.\n",
        "\n",
        "\n"
      ]
    }
  ],
  "metadata": {
    "colab": {
      "name": "2021201089_Assignment2_Q1.ipynb",
      "provenance": [],
      "collapsed_sections": [
        "B3On7lpA11eB"
      ]
    },
    "kernelspec": {
      "display_name": "Python 3 (ipykernel)",
      "language": "python",
      "name": "python3"
    },
    "language_info": {
      "codemirror_mode": {
        "name": "ipython",
        "version": 3
      },
      "file_extension": ".py",
      "mimetype": "text/x-python",
      "name": "python",
      "nbconvert_exporter": "python",
      "pygments_lexer": "ipython3",
      "version": "3.8.10"
    },
    "accelerator": "GPU"
  },
  "nbformat": 4,
  "nbformat_minor": 0
}