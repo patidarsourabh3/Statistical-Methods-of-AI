{
  "metadata": {
    "kernelspec": {
      "language": "python",
      "display_name": "Python 3",
      "name": "python3"
    },
    "language_info": {
      "pygments_lexer": "ipython3",
      "nbconvert_exporter": "python",
      "version": "3.6.4",
      "file_extension": ".py",
      "codemirror_mode": {
        "name": "ipython",
        "version": 3
      },
      "name": "python",
      "mimetype": "text/x-python"
    },
    "colab": {
      "name": "2021201089_Assignment3_Q3.ipynb",
      "provenance": []
    },
    "widgets": {
      "application/vnd.jupyter.widget-state+json": {
        "c94efa41a6734aea84ecf72521528b18": {
          "model_module": "@jupyter-widgets/controls",
          "model_name": "HBoxModel",
          "model_module_version": "1.5.0",
          "state": {
            "_dom_classes": [],
            "_model_module": "@jupyter-widgets/controls",
            "_model_module_version": "1.5.0",
            "_model_name": "HBoxModel",
            "_view_count": null,
            "_view_module": "@jupyter-widgets/controls",
            "_view_module_version": "1.5.0",
            "_view_name": "HBoxView",
            "box_style": "",
            "children": [
              "IPY_MODEL_c47692d5b631429db5eeec79e678cab6",
              "IPY_MODEL_9bb01666ea9e4b89b7fb6248758c48ea",
              "IPY_MODEL_96cabdda314c4eebbdba5445a9561cd6"
            ],
            "layout": "IPY_MODEL_f21aca0bbd63436d9a137e9f13c3433a"
          }
        },
        "c47692d5b631429db5eeec79e678cab6": {
          "model_module": "@jupyter-widgets/controls",
          "model_name": "HTMLModel",
          "model_module_version": "1.5.0",
          "state": {
            "_dom_classes": [],
            "_model_module": "@jupyter-widgets/controls",
            "_model_module_version": "1.5.0",
            "_model_name": "HTMLModel",
            "_view_count": null,
            "_view_module": "@jupyter-widgets/controls",
            "_view_module_version": "1.5.0",
            "_view_name": "HTMLView",
            "description": "",
            "description_tooltip": null,
            "layout": "IPY_MODEL_55b5ce81c47c4485a552e47df3df764f",
            "placeholder": "​",
            "style": "IPY_MODEL_7e109907b7784d2f8fbfb1ae3e3906b6",
            "value": "Downloading: 100%"
          }
        },
        "9bb01666ea9e4b89b7fb6248758c48ea": {
          "model_module": "@jupyter-widgets/controls",
          "model_name": "FloatProgressModel",
          "model_module_version": "1.5.0",
          "state": {
            "_dom_classes": [],
            "_model_module": "@jupyter-widgets/controls",
            "_model_module_version": "1.5.0",
            "_model_name": "FloatProgressModel",
            "_view_count": null,
            "_view_module": "@jupyter-widgets/controls",
            "_view_module_version": "1.5.0",
            "_view_name": "ProgressView",
            "bar_style": "success",
            "description": "",
            "description_tooltip": null,
            "layout": "IPY_MODEL_3da60a25ba444f2a9a864315e465d5bd",
            "max": 690,
            "min": 0,
            "orientation": "horizontal",
            "style": "IPY_MODEL_64f3618a16e8439ea3bfd26eb9ef2599",
            "value": 690
          }
        },
        "96cabdda314c4eebbdba5445a9561cd6": {
          "model_module": "@jupyter-widgets/controls",
          "model_name": "HTMLModel",
          "model_module_version": "1.5.0",
          "state": {
            "_dom_classes": [],
            "_model_module": "@jupyter-widgets/controls",
            "_model_module_version": "1.5.0",
            "_model_name": "HTMLModel",
            "_view_count": null,
            "_view_module": "@jupyter-widgets/controls",
            "_view_module_version": "1.5.0",
            "_view_name": "HTMLView",
            "description": "",
            "description_tooltip": null,
            "layout": "IPY_MODEL_7bf7666a0c334aeeb09287b2527d5fe0",
            "placeholder": "​",
            "style": "IPY_MODEL_b3f09424f2194d8c88d069a7c9694f85",
            "value": " 690/690 [00:00&lt;00:00, 4.70kB/s]"
          }
        },
        "f21aca0bbd63436d9a137e9f13c3433a": {
          "model_module": "@jupyter-widgets/base",
          "model_name": "LayoutModel",
          "model_module_version": "1.2.0",
          "state": {
            "_model_module": "@jupyter-widgets/base",
            "_model_module_version": "1.2.0",
            "_model_name": "LayoutModel",
            "_view_count": null,
            "_view_module": "@jupyter-widgets/base",
            "_view_module_version": "1.2.0",
            "_view_name": "LayoutView",
            "align_content": null,
            "align_items": null,
            "align_self": null,
            "border": null,
            "bottom": null,
            "display": null,
            "flex": null,
            "flex_flow": null,
            "grid_area": null,
            "grid_auto_columns": null,
            "grid_auto_flow": null,
            "grid_auto_rows": null,
            "grid_column": null,
            "grid_gap": null,
            "grid_row": null,
            "grid_template_areas": null,
            "grid_template_columns": null,
            "grid_template_rows": null,
            "height": null,
            "justify_content": null,
            "justify_items": null,
            "left": null,
            "margin": null,
            "max_height": null,
            "max_width": null,
            "min_height": null,
            "min_width": null,
            "object_fit": null,
            "object_position": null,
            "order": null,
            "overflow": null,
            "overflow_x": null,
            "overflow_y": null,
            "padding": null,
            "right": null,
            "top": null,
            "visibility": null,
            "width": null
          }
        },
        "55b5ce81c47c4485a552e47df3df764f": {
          "model_module": "@jupyter-widgets/base",
          "model_name": "LayoutModel",
          "model_module_version": "1.2.0",
          "state": {
            "_model_module": "@jupyter-widgets/base",
            "_model_module_version": "1.2.0",
            "_model_name": "LayoutModel",
            "_view_count": null,
            "_view_module": "@jupyter-widgets/base",
            "_view_module_version": "1.2.0",
            "_view_name": "LayoutView",
            "align_content": null,
            "align_items": null,
            "align_self": null,
            "border": null,
            "bottom": null,
            "display": null,
            "flex": null,
            "flex_flow": null,
            "grid_area": null,
            "grid_auto_columns": null,
            "grid_auto_flow": null,
            "grid_auto_rows": null,
            "grid_column": null,
            "grid_gap": null,
            "grid_row": null,
            "grid_template_areas": null,
            "grid_template_columns": null,
            "grid_template_rows": null,
            "height": null,
            "justify_content": null,
            "justify_items": null,
            "left": null,
            "margin": null,
            "max_height": null,
            "max_width": null,
            "min_height": null,
            "min_width": null,
            "object_fit": null,
            "object_position": null,
            "order": null,
            "overflow": null,
            "overflow_x": null,
            "overflow_y": null,
            "padding": null,
            "right": null,
            "top": null,
            "visibility": null,
            "width": null
          }
        },
        "7e109907b7784d2f8fbfb1ae3e3906b6": {
          "model_module": "@jupyter-widgets/controls",
          "model_name": "DescriptionStyleModel",
          "model_module_version": "1.5.0",
          "state": {
            "_model_module": "@jupyter-widgets/controls",
            "_model_module_version": "1.5.0",
            "_model_name": "DescriptionStyleModel",
            "_view_count": null,
            "_view_module": "@jupyter-widgets/base",
            "_view_module_version": "1.2.0",
            "_view_name": "StyleView",
            "description_width": ""
          }
        },
        "3da60a25ba444f2a9a864315e465d5bd": {
          "model_module": "@jupyter-widgets/base",
          "model_name": "LayoutModel",
          "model_module_version": "1.2.0",
          "state": {
            "_model_module": "@jupyter-widgets/base",
            "_model_module_version": "1.2.0",
            "_model_name": "LayoutModel",
            "_view_count": null,
            "_view_module": "@jupyter-widgets/base",
            "_view_module_version": "1.2.0",
            "_view_name": "LayoutView",
            "align_content": null,
            "align_items": null,
            "align_self": null,
            "border": null,
            "bottom": null,
            "display": null,
            "flex": null,
            "flex_flow": null,
            "grid_area": null,
            "grid_auto_columns": null,
            "grid_auto_flow": null,
            "grid_auto_rows": null,
            "grid_column": null,
            "grid_gap": null,
            "grid_row": null,
            "grid_template_areas": null,
            "grid_template_columns": null,
            "grid_template_rows": null,
            "height": null,
            "justify_content": null,
            "justify_items": null,
            "left": null,
            "margin": null,
            "max_height": null,
            "max_width": null,
            "min_height": null,
            "min_width": null,
            "object_fit": null,
            "object_position": null,
            "order": null,
            "overflow": null,
            "overflow_x": null,
            "overflow_y": null,
            "padding": null,
            "right": null,
            "top": null,
            "visibility": null,
            "width": null
          }
        },
        "64f3618a16e8439ea3bfd26eb9ef2599": {
          "model_module": "@jupyter-widgets/controls",
          "model_name": "ProgressStyleModel",
          "model_module_version": "1.5.0",
          "state": {
            "_model_module": "@jupyter-widgets/controls",
            "_model_module_version": "1.5.0",
            "_model_name": "ProgressStyleModel",
            "_view_count": null,
            "_view_module": "@jupyter-widgets/base",
            "_view_module_version": "1.2.0",
            "_view_name": "StyleView",
            "bar_color": null,
            "description_width": ""
          }
        },
        "7bf7666a0c334aeeb09287b2527d5fe0": {
          "model_module": "@jupyter-widgets/base",
          "model_name": "LayoutModel",
          "model_module_version": "1.2.0",
          "state": {
            "_model_module": "@jupyter-widgets/base",
            "_model_module_version": "1.2.0",
            "_model_name": "LayoutModel",
            "_view_count": null,
            "_view_module": "@jupyter-widgets/base",
            "_view_module_version": "1.2.0",
            "_view_name": "LayoutView",
            "align_content": null,
            "align_items": null,
            "align_self": null,
            "border": null,
            "bottom": null,
            "display": null,
            "flex": null,
            "flex_flow": null,
            "grid_area": null,
            "grid_auto_columns": null,
            "grid_auto_flow": null,
            "grid_auto_rows": null,
            "grid_column": null,
            "grid_gap": null,
            "grid_row": null,
            "grid_template_areas": null,
            "grid_template_columns": null,
            "grid_template_rows": null,
            "height": null,
            "justify_content": null,
            "justify_items": null,
            "left": null,
            "margin": null,
            "max_height": null,
            "max_width": null,
            "min_height": null,
            "min_width": null,
            "object_fit": null,
            "object_position": null,
            "order": null,
            "overflow": null,
            "overflow_x": null,
            "overflow_y": null,
            "padding": null,
            "right": null,
            "top": null,
            "visibility": null,
            "width": null
          }
        },
        "b3f09424f2194d8c88d069a7c9694f85": {
          "model_module": "@jupyter-widgets/controls",
          "model_name": "DescriptionStyleModel",
          "model_module_version": "1.5.0",
          "state": {
            "_model_module": "@jupyter-widgets/controls",
            "_model_module_version": "1.5.0",
            "_model_name": "DescriptionStyleModel",
            "_view_count": null,
            "_view_module": "@jupyter-widgets/base",
            "_view_module_version": "1.2.0",
            "_view_name": "StyleView",
            "description_width": ""
          }
        },
        "017f1d6ef4b24281893a0f0c61336fb7": {
          "model_module": "@jupyter-widgets/controls",
          "model_name": "HBoxModel",
          "model_module_version": "1.5.0",
          "state": {
            "_dom_classes": [],
            "_model_module": "@jupyter-widgets/controls",
            "_model_module_version": "1.5.0",
            "_model_name": "HBoxModel",
            "_view_count": null,
            "_view_module": "@jupyter-widgets/controls",
            "_view_module_version": "1.5.0",
            "_view_name": "HBoxView",
            "box_style": "",
            "children": [
              "IPY_MODEL_cce7bce30d5143bfb51630e53f0f745b",
              "IPY_MODEL_84e35b209f5c4ac5b589f06b10b64cf2",
              "IPY_MODEL_4d4de27a7e3e45888feb296702ae8d3d"
            ],
            "layout": "IPY_MODEL_901766e73d9a4c908fec0ef64a183d12"
          }
        },
        "cce7bce30d5143bfb51630e53f0f745b": {
          "model_module": "@jupyter-widgets/controls",
          "model_name": "HTMLModel",
          "model_module_version": "1.5.0",
          "state": {
            "_dom_classes": [],
            "_model_module": "@jupyter-widgets/controls",
            "_model_module_version": "1.5.0",
            "_model_name": "HTMLModel",
            "_view_count": null,
            "_view_module": "@jupyter-widgets/controls",
            "_view_module_version": "1.5.0",
            "_view_name": "HTMLView",
            "description": "",
            "description_tooltip": null,
            "layout": "IPY_MODEL_21c7b6a2b26f4607a5df35925fc21f39",
            "placeholder": "​",
            "style": "IPY_MODEL_2e2dfc3e032c4d078bd13d82cba28896",
            "value": "Downloading: 100%"
          }
        },
        "84e35b209f5c4ac5b589f06b10b64cf2": {
          "model_module": "@jupyter-widgets/controls",
          "model_name": "FloatProgressModel",
          "model_module_version": "1.5.0",
          "state": {
            "_dom_classes": [],
            "_model_module": "@jupyter-widgets/controls",
            "_model_module_version": "1.5.0",
            "_model_name": "FloatProgressModel",
            "_view_count": null,
            "_view_module": "@jupyter-widgets/controls",
            "_view_module_version": "1.5.0",
            "_view_name": "ProgressView",
            "bar_style": "success",
            "description": "",
            "description_tooltip": null,
            "layout": "IPY_MODEL_c7aabea778a4427d92ada27d7b307e22",
            "max": 190,
            "min": 0,
            "orientation": "horizontal",
            "style": "IPY_MODEL_405c8552f31a4b59acce5c05e13cdadb",
            "value": 190
          }
        },
        "4d4de27a7e3e45888feb296702ae8d3d": {
          "model_module": "@jupyter-widgets/controls",
          "model_name": "HTMLModel",
          "model_module_version": "1.5.0",
          "state": {
            "_dom_classes": [],
            "_model_module": "@jupyter-widgets/controls",
            "_model_module_version": "1.5.0",
            "_model_name": "HTMLModel",
            "_view_count": null,
            "_view_module": "@jupyter-widgets/controls",
            "_view_module_version": "1.5.0",
            "_view_name": "HTMLView",
            "description": "",
            "description_tooltip": null,
            "layout": "IPY_MODEL_b20921250da84564a94d165fae396601",
            "placeholder": "​",
            "style": "IPY_MODEL_12a42b513c9b440baeddac399587fc28",
            "value": " 190/190 [00:00&lt;00:00, 1.37kB/s]"
          }
        },
        "901766e73d9a4c908fec0ef64a183d12": {
          "model_module": "@jupyter-widgets/base",
          "model_name": "LayoutModel",
          "model_module_version": "1.2.0",
          "state": {
            "_model_module": "@jupyter-widgets/base",
            "_model_module_version": "1.2.0",
            "_model_name": "LayoutModel",
            "_view_count": null,
            "_view_module": "@jupyter-widgets/base",
            "_view_module_version": "1.2.0",
            "_view_name": "LayoutView",
            "align_content": null,
            "align_items": null,
            "align_self": null,
            "border": null,
            "bottom": null,
            "display": null,
            "flex": null,
            "flex_flow": null,
            "grid_area": null,
            "grid_auto_columns": null,
            "grid_auto_flow": null,
            "grid_auto_rows": null,
            "grid_column": null,
            "grid_gap": null,
            "grid_row": null,
            "grid_template_areas": null,
            "grid_template_columns": null,
            "grid_template_rows": null,
            "height": null,
            "justify_content": null,
            "justify_items": null,
            "left": null,
            "margin": null,
            "max_height": null,
            "max_width": null,
            "min_height": null,
            "min_width": null,
            "object_fit": null,
            "object_position": null,
            "order": null,
            "overflow": null,
            "overflow_x": null,
            "overflow_y": null,
            "padding": null,
            "right": null,
            "top": null,
            "visibility": null,
            "width": null
          }
        },
        "21c7b6a2b26f4607a5df35925fc21f39": {
          "model_module": "@jupyter-widgets/base",
          "model_name": "LayoutModel",
          "model_module_version": "1.2.0",
          "state": {
            "_model_module": "@jupyter-widgets/base",
            "_model_module_version": "1.2.0",
            "_model_name": "LayoutModel",
            "_view_count": null,
            "_view_module": "@jupyter-widgets/base",
            "_view_module_version": "1.2.0",
            "_view_name": "LayoutView",
            "align_content": null,
            "align_items": null,
            "align_self": null,
            "border": null,
            "bottom": null,
            "display": null,
            "flex": null,
            "flex_flow": null,
            "grid_area": null,
            "grid_auto_columns": null,
            "grid_auto_flow": null,
            "grid_auto_rows": null,
            "grid_column": null,
            "grid_gap": null,
            "grid_row": null,
            "grid_template_areas": null,
            "grid_template_columns": null,
            "grid_template_rows": null,
            "height": null,
            "justify_content": null,
            "justify_items": null,
            "left": null,
            "margin": null,
            "max_height": null,
            "max_width": null,
            "min_height": null,
            "min_width": null,
            "object_fit": null,
            "object_position": null,
            "order": null,
            "overflow": null,
            "overflow_x": null,
            "overflow_y": null,
            "padding": null,
            "right": null,
            "top": null,
            "visibility": null,
            "width": null
          }
        },
        "2e2dfc3e032c4d078bd13d82cba28896": {
          "model_module": "@jupyter-widgets/controls",
          "model_name": "DescriptionStyleModel",
          "model_module_version": "1.5.0",
          "state": {
            "_model_module": "@jupyter-widgets/controls",
            "_model_module_version": "1.5.0",
            "_model_name": "DescriptionStyleModel",
            "_view_count": null,
            "_view_module": "@jupyter-widgets/base",
            "_view_module_version": "1.2.0",
            "_view_name": "StyleView",
            "description_width": ""
          }
        },
        "c7aabea778a4427d92ada27d7b307e22": {
          "model_module": "@jupyter-widgets/base",
          "model_name": "LayoutModel",
          "model_module_version": "1.2.0",
          "state": {
            "_model_module": "@jupyter-widgets/base",
            "_model_module_version": "1.2.0",
            "_model_name": "LayoutModel",
            "_view_count": null,
            "_view_module": "@jupyter-widgets/base",
            "_view_module_version": "1.2.0",
            "_view_name": "LayoutView",
            "align_content": null,
            "align_items": null,
            "align_self": null,
            "border": null,
            "bottom": null,
            "display": null,
            "flex": null,
            "flex_flow": null,
            "grid_area": null,
            "grid_auto_columns": null,
            "grid_auto_flow": null,
            "grid_auto_rows": null,
            "grid_column": null,
            "grid_gap": null,
            "grid_row": null,
            "grid_template_areas": null,
            "grid_template_columns": null,
            "grid_template_rows": null,
            "height": null,
            "justify_content": null,
            "justify_items": null,
            "left": null,
            "margin": null,
            "max_height": null,
            "max_width": null,
            "min_height": null,
            "min_width": null,
            "object_fit": null,
            "object_position": null,
            "order": null,
            "overflow": null,
            "overflow_x": null,
            "overflow_y": null,
            "padding": null,
            "right": null,
            "top": null,
            "visibility": null,
            "width": null
          }
        },
        "405c8552f31a4b59acce5c05e13cdadb": {
          "model_module": "@jupyter-widgets/controls",
          "model_name": "ProgressStyleModel",
          "model_module_version": "1.5.0",
          "state": {
            "_model_module": "@jupyter-widgets/controls",
            "_model_module_version": "1.5.0",
            "_model_name": "ProgressStyleModel",
            "_view_count": null,
            "_view_module": "@jupyter-widgets/base",
            "_view_module_version": "1.2.0",
            "_view_name": "StyleView",
            "bar_color": null,
            "description_width": ""
          }
        },
        "b20921250da84564a94d165fae396601": {
          "model_module": "@jupyter-widgets/base",
          "model_name": "LayoutModel",
          "model_module_version": "1.2.0",
          "state": {
            "_model_module": "@jupyter-widgets/base",
            "_model_module_version": "1.2.0",
            "_model_name": "LayoutModel",
            "_view_count": null,
            "_view_module": "@jupyter-widgets/base",
            "_view_module_version": "1.2.0",
            "_view_name": "LayoutView",
            "align_content": null,
            "align_items": null,
            "align_self": null,
            "border": null,
            "bottom": null,
            "display": null,
            "flex": null,
            "flex_flow": null,
            "grid_area": null,
            "grid_auto_columns": null,
            "grid_auto_flow": null,
            "grid_auto_rows": null,
            "grid_column": null,
            "grid_gap": null,
            "grid_row": null,
            "grid_template_areas": null,
            "grid_template_columns": null,
            "grid_template_rows": null,
            "height": null,
            "justify_content": null,
            "justify_items": null,
            "left": null,
            "margin": null,
            "max_height": null,
            "max_width": null,
            "min_height": null,
            "min_width": null,
            "object_fit": null,
            "object_position": null,
            "order": null,
            "overflow": null,
            "overflow_x": null,
            "overflow_y": null,
            "padding": null,
            "right": null,
            "top": null,
            "visibility": null,
            "width": null
          }
        },
        "12a42b513c9b440baeddac399587fc28": {
          "model_module": "@jupyter-widgets/controls",
          "model_name": "DescriptionStyleModel",
          "model_module_version": "1.5.0",
          "state": {
            "_model_module": "@jupyter-widgets/controls",
            "_model_module_version": "1.5.0",
            "_model_name": "DescriptionStyleModel",
            "_view_count": null,
            "_view_module": "@jupyter-widgets/base",
            "_view_module_version": "1.2.0",
            "_view_name": "StyleView",
            "description_width": ""
          }
        },
        "3e29c0410b174587a85b7f119a3c6c38": {
          "model_module": "@jupyter-widgets/controls",
          "model_name": "HBoxModel",
          "model_module_version": "1.5.0",
          "state": {
            "_dom_classes": [],
            "_model_module": "@jupyter-widgets/controls",
            "_model_module_version": "1.5.0",
            "_model_name": "HBoxModel",
            "_view_count": null,
            "_view_module": "@jupyter-widgets/controls",
            "_view_module_version": "1.5.0",
            "_view_name": "HBoxView",
            "box_style": "",
            "children": [
              "IPY_MODEL_68df17f0245d43418ae1cfb0b94b4485",
              "IPY_MODEL_dc33126c3bf447feba638be1a3fcef75",
              "IPY_MODEL_d0eb5a30981f48679744896edfa51314"
            ],
            "layout": "IPY_MODEL_918c27f8fee34382a10e96d0d092a9c4"
          }
        },
        "68df17f0245d43418ae1cfb0b94b4485": {
          "model_module": "@jupyter-widgets/controls",
          "model_name": "HTMLModel",
          "model_module_version": "1.5.0",
          "state": {
            "_dom_classes": [],
            "_model_module": "@jupyter-widgets/controls",
            "_model_module_version": "1.5.0",
            "_model_name": "HTMLModel",
            "_view_count": null,
            "_view_module": "@jupyter-widgets/controls",
            "_view_module_version": "1.5.0",
            "_view_name": "HTMLView",
            "description": "",
            "description_tooltip": null,
            "layout": "IPY_MODEL_8ec98a47c2d7433f9b5964c61c62d7cb",
            "placeholder": "​",
            "style": "IPY_MODEL_a0c778682f6643f4b84eec6d9dfbc30e",
            "value": "Downloading: 100%"
          }
        },
        "dc33126c3bf447feba638be1a3fcef75": {
          "model_module": "@jupyter-widgets/controls",
          "model_name": "FloatProgressModel",
          "model_module_version": "1.5.0",
          "state": {
            "_dom_classes": [],
            "_model_module": "@jupyter-widgets/controls",
            "_model_module_version": "1.5.0",
            "_model_name": "FloatProgressModel",
            "_view_count": null,
            "_view_module": "@jupyter-widgets/controls",
            "_view_module_version": "1.5.0",
            "_view_name": "ProgressView",
            "bar_style": "success",
            "description": "",
            "description_tooltip": null,
            "layout": "IPY_MODEL_947f282658fd46ba98944a9d08b3b8e2",
            "max": 3693,
            "min": 0,
            "orientation": "horizontal",
            "style": "IPY_MODEL_de5f216fa627426a81f1490cafcc1533",
            "value": 3693
          }
        },
        "d0eb5a30981f48679744896edfa51314": {
          "model_module": "@jupyter-widgets/controls",
          "model_name": "HTMLModel",
          "model_module_version": "1.5.0",
          "state": {
            "_dom_classes": [],
            "_model_module": "@jupyter-widgets/controls",
            "_model_module_version": "1.5.0",
            "_model_name": "HTMLModel",
            "_view_count": null,
            "_view_module": "@jupyter-widgets/controls",
            "_view_module_version": "1.5.0",
            "_view_name": "HTMLView",
            "description": "",
            "description_tooltip": null,
            "layout": "IPY_MODEL_776ff37818b649fcb19532ba2aa0f40f",
            "placeholder": "​",
            "style": "IPY_MODEL_806a40e2a33d4304bc39899ceacb8392",
            "value": " 3.69k/3.69k [00:00&lt;00:00, 8.90kB/s]"
          }
        },
        "918c27f8fee34382a10e96d0d092a9c4": {
          "model_module": "@jupyter-widgets/base",
          "model_name": "LayoutModel",
          "model_module_version": "1.2.0",
          "state": {
            "_model_module": "@jupyter-widgets/base",
            "_model_module_version": "1.2.0",
            "_model_name": "LayoutModel",
            "_view_count": null,
            "_view_module": "@jupyter-widgets/base",
            "_view_module_version": "1.2.0",
            "_view_name": "LayoutView",
            "align_content": null,
            "align_items": null,
            "align_self": null,
            "border": null,
            "bottom": null,
            "display": null,
            "flex": null,
            "flex_flow": null,
            "grid_area": null,
            "grid_auto_columns": null,
            "grid_auto_flow": null,
            "grid_auto_rows": null,
            "grid_column": null,
            "grid_gap": null,
            "grid_row": null,
            "grid_template_areas": null,
            "grid_template_columns": null,
            "grid_template_rows": null,
            "height": null,
            "justify_content": null,
            "justify_items": null,
            "left": null,
            "margin": null,
            "max_height": null,
            "max_width": null,
            "min_height": null,
            "min_width": null,
            "object_fit": null,
            "object_position": null,
            "order": null,
            "overflow": null,
            "overflow_x": null,
            "overflow_y": null,
            "padding": null,
            "right": null,
            "top": null,
            "visibility": null,
            "width": null
          }
        },
        "8ec98a47c2d7433f9b5964c61c62d7cb": {
          "model_module": "@jupyter-widgets/base",
          "model_name": "LayoutModel",
          "model_module_version": "1.2.0",
          "state": {
            "_model_module": "@jupyter-widgets/base",
            "_model_module_version": "1.2.0",
            "_model_name": "LayoutModel",
            "_view_count": null,
            "_view_module": "@jupyter-widgets/base",
            "_view_module_version": "1.2.0",
            "_view_name": "LayoutView",
            "align_content": null,
            "align_items": null,
            "align_self": null,
            "border": null,
            "bottom": null,
            "display": null,
            "flex": null,
            "flex_flow": null,
            "grid_area": null,
            "grid_auto_columns": null,
            "grid_auto_flow": null,
            "grid_auto_rows": null,
            "grid_column": null,
            "grid_gap": null,
            "grid_row": null,
            "grid_template_areas": null,
            "grid_template_columns": null,
            "grid_template_rows": null,
            "height": null,
            "justify_content": null,
            "justify_items": null,
            "left": null,
            "margin": null,
            "max_height": null,
            "max_width": null,
            "min_height": null,
            "min_width": null,
            "object_fit": null,
            "object_position": null,
            "order": null,
            "overflow": null,
            "overflow_x": null,
            "overflow_y": null,
            "padding": null,
            "right": null,
            "top": null,
            "visibility": null,
            "width": null
          }
        },
        "a0c778682f6643f4b84eec6d9dfbc30e": {
          "model_module": "@jupyter-widgets/controls",
          "model_name": "DescriptionStyleModel",
          "model_module_version": "1.5.0",
          "state": {
            "_model_module": "@jupyter-widgets/controls",
            "_model_module_version": "1.5.0",
            "_model_name": "DescriptionStyleModel",
            "_view_count": null,
            "_view_module": "@jupyter-widgets/base",
            "_view_module_version": "1.2.0",
            "_view_name": "StyleView",
            "description_width": ""
          }
        },
        "947f282658fd46ba98944a9d08b3b8e2": {
          "model_module": "@jupyter-widgets/base",
          "model_name": "LayoutModel",
          "model_module_version": "1.2.0",
          "state": {
            "_model_module": "@jupyter-widgets/base",
            "_model_module_version": "1.2.0",
            "_model_name": "LayoutModel",
            "_view_count": null,
            "_view_module": "@jupyter-widgets/base",
            "_view_module_version": "1.2.0",
            "_view_name": "LayoutView",
            "align_content": null,
            "align_items": null,
            "align_self": null,
            "border": null,
            "bottom": null,
            "display": null,
            "flex": null,
            "flex_flow": null,
            "grid_area": null,
            "grid_auto_columns": null,
            "grid_auto_flow": null,
            "grid_auto_rows": null,
            "grid_column": null,
            "grid_gap": null,
            "grid_row": null,
            "grid_template_areas": null,
            "grid_template_columns": null,
            "grid_template_rows": null,
            "height": null,
            "justify_content": null,
            "justify_items": null,
            "left": null,
            "margin": null,
            "max_height": null,
            "max_width": null,
            "min_height": null,
            "min_width": null,
            "object_fit": null,
            "object_position": null,
            "order": null,
            "overflow": null,
            "overflow_x": null,
            "overflow_y": null,
            "padding": null,
            "right": null,
            "top": null,
            "visibility": null,
            "width": null
          }
        },
        "de5f216fa627426a81f1490cafcc1533": {
          "model_module": "@jupyter-widgets/controls",
          "model_name": "ProgressStyleModel",
          "model_module_version": "1.5.0",
          "state": {
            "_model_module": "@jupyter-widgets/controls",
            "_model_module_version": "1.5.0",
            "_model_name": "ProgressStyleModel",
            "_view_count": null,
            "_view_module": "@jupyter-widgets/base",
            "_view_module_version": "1.2.0",
            "_view_name": "StyleView",
            "bar_color": null,
            "description_width": ""
          }
        },
        "776ff37818b649fcb19532ba2aa0f40f": {
          "model_module": "@jupyter-widgets/base",
          "model_name": "LayoutModel",
          "model_module_version": "1.2.0",
          "state": {
            "_model_module": "@jupyter-widgets/base",
            "_model_module_version": "1.2.0",
            "_model_name": "LayoutModel",
            "_view_count": null,
            "_view_module": "@jupyter-widgets/base",
            "_view_module_version": "1.2.0",
            "_view_name": "LayoutView",
            "align_content": null,
            "align_items": null,
            "align_self": null,
            "border": null,
            "bottom": null,
            "display": null,
            "flex": null,
            "flex_flow": null,
            "grid_area": null,
            "grid_auto_columns": null,
            "grid_auto_flow": null,
            "grid_auto_rows": null,
            "grid_column": null,
            "grid_gap": null,
            "grid_row": null,
            "grid_template_areas": null,
            "grid_template_columns": null,
            "grid_template_rows": null,
            "height": null,
            "justify_content": null,
            "justify_items": null,
            "left": null,
            "margin": null,
            "max_height": null,
            "max_width": null,
            "min_height": null,
            "min_width": null,
            "object_fit": null,
            "object_position": null,
            "order": null,
            "overflow": null,
            "overflow_x": null,
            "overflow_y": null,
            "padding": null,
            "right": null,
            "top": null,
            "visibility": null,
            "width": null
          }
        },
        "806a40e2a33d4304bc39899ceacb8392": {
          "model_module": "@jupyter-widgets/controls",
          "model_name": "DescriptionStyleModel",
          "model_module_version": "1.5.0",
          "state": {
            "_model_module": "@jupyter-widgets/controls",
            "_model_module_version": "1.5.0",
            "_model_name": "DescriptionStyleModel",
            "_view_count": null,
            "_view_module": "@jupyter-widgets/base",
            "_view_module_version": "1.2.0",
            "_view_name": "StyleView",
            "description_width": ""
          }
        },
        "1c68cf78b1674300b383ce294ddf4fc4": {
          "model_module": "@jupyter-widgets/controls",
          "model_name": "HBoxModel",
          "model_module_version": "1.5.0",
          "state": {
            "_dom_classes": [],
            "_model_module": "@jupyter-widgets/controls",
            "_model_module_version": "1.5.0",
            "_model_name": "HBoxModel",
            "_view_count": null,
            "_view_module": "@jupyter-widgets/controls",
            "_view_module_version": "1.5.0",
            "_view_name": "HBoxView",
            "box_style": "",
            "children": [
              "IPY_MODEL_95ed8a6e64d9418cbc2ba6ba4691965c",
              "IPY_MODEL_cdc92741dfc64886b661df5a5a4c84a6",
              "IPY_MODEL_64a773cc2a6c406eabff9b3c281b8f3a"
            ],
            "layout": "IPY_MODEL_2f08ec05f4e441db9bcdafa2d07503c4"
          }
        },
        "95ed8a6e64d9418cbc2ba6ba4691965c": {
          "model_module": "@jupyter-widgets/controls",
          "model_name": "HTMLModel",
          "model_module_version": "1.5.0",
          "state": {
            "_dom_classes": [],
            "_model_module": "@jupyter-widgets/controls",
            "_model_module_version": "1.5.0",
            "_model_name": "HTMLModel",
            "_view_count": null,
            "_view_module": "@jupyter-widgets/controls",
            "_view_module_version": "1.5.0",
            "_view_name": "HTMLView",
            "description": "",
            "description_tooltip": null,
            "layout": "IPY_MODEL_3486e3bc137d4b34bbaef55fd43545e9",
            "placeholder": "​",
            "style": "IPY_MODEL_f9042240f128432b87cf41df3838ab0e",
            "value": "Downloading: 100%"
          }
        },
        "cdc92741dfc64886b661df5a5a4c84a6": {
          "model_module": "@jupyter-widgets/controls",
          "model_name": "FloatProgressModel",
          "model_module_version": "1.5.0",
          "state": {
            "_dom_classes": [],
            "_model_module": "@jupyter-widgets/controls",
            "_model_module_version": "1.5.0",
            "_model_name": "FloatProgressModel",
            "_view_count": null,
            "_view_module": "@jupyter-widgets/controls",
            "_view_module_version": "1.5.0",
            "_view_name": "ProgressView",
            "bar_style": "success",
            "description": "",
            "description_tooltip": null,
            "layout": "IPY_MODEL_b66f6d5596c047739a3cb87a4e5e0e90",
            "max": 629,
            "min": 0,
            "orientation": "horizontal",
            "style": "IPY_MODEL_80e170465f764ffcb52eef3ba316904f",
            "value": 629
          }
        },
        "64a773cc2a6c406eabff9b3c281b8f3a": {
          "model_module": "@jupyter-widgets/controls",
          "model_name": "HTMLModel",
          "model_module_version": "1.5.0",
          "state": {
            "_dom_classes": [],
            "_model_module": "@jupyter-widgets/controls",
            "_model_module_version": "1.5.0",
            "_model_name": "HTMLModel",
            "_view_count": null,
            "_view_module": "@jupyter-widgets/controls",
            "_view_module_version": "1.5.0",
            "_view_name": "HTMLView",
            "description": "",
            "description_tooltip": null,
            "layout": "IPY_MODEL_e810c1b531c84e3e83863864c0b9d218",
            "placeholder": "​",
            "style": "IPY_MODEL_f5ab4cf942bd46b395ec9049bf9531d1",
            "value": " 629/629 [00:00&lt;00:00, 10.2kB/s]"
          }
        },
        "2f08ec05f4e441db9bcdafa2d07503c4": {
          "model_module": "@jupyter-widgets/base",
          "model_name": "LayoutModel",
          "model_module_version": "1.2.0",
          "state": {
            "_model_module": "@jupyter-widgets/base",
            "_model_module_version": "1.2.0",
            "_model_name": "LayoutModel",
            "_view_count": null,
            "_view_module": "@jupyter-widgets/base",
            "_view_module_version": "1.2.0",
            "_view_name": "LayoutView",
            "align_content": null,
            "align_items": null,
            "align_self": null,
            "border": null,
            "bottom": null,
            "display": null,
            "flex": null,
            "flex_flow": null,
            "grid_area": null,
            "grid_auto_columns": null,
            "grid_auto_flow": null,
            "grid_auto_rows": null,
            "grid_column": null,
            "grid_gap": null,
            "grid_row": null,
            "grid_template_areas": null,
            "grid_template_columns": null,
            "grid_template_rows": null,
            "height": null,
            "justify_content": null,
            "justify_items": null,
            "left": null,
            "margin": null,
            "max_height": null,
            "max_width": null,
            "min_height": null,
            "min_width": null,
            "object_fit": null,
            "object_position": null,
            "order": null,
            "overflow": null,
            "overflow_x": null,
            "overflow_y": null,
            "padding": null,
            "right": null,
            "top": null,
            "visibility": null,
            "width": null
          }
        },
        "3486e3bc137d4b34bbaef55fd43545e9": {
          "model_module": "@jupyter-widgets/base",
          "model_name": "LayoutModel",
          "model_module_version": "1.2.0",
          "state": {
            "_model_module": "@jupyter-widgets/base",
            "_model_module_version": "1.2.0",
            "_model_name": "LayoutModel",
            "_view_count": null,
            "_view_module": "@jupyter-widgets/base",
            "_view_module_version": "1.2.0",
            "_view_name": "LayoutView",
            "align_content": null,
            "align_items": null,
            "align_self": null,
            "border": null,
            "bottom": null,
            "display": null,
            "flex": null,
            "flex_flow": null,
            "grid_area": null,
            "grid_auto_columns": null,
            "grid_auto_flow": null,
            "grid_auto_rows": null,
            "grid_column": null,
            "grid_gap": null,
            "grid_row": null,
            "grid_template_areas": null,
            "grid_template_columns": null,
            "grid_template_rows": null,
            "height": null,
            "justify_content": null,
            "justify_items": null,
            "left": null,
            "margin": null,
            "max_height": null,
            "max_width": null,
            "min_height": null,
            "min_width": null,
            "object_fit": null,
            "object_position": null,
            "order": null,
            "overflow": null,
            "overflow_x": null,
            "overflow_y": null,
            "padding": null,
            "right": null,
            "top": null,
            "visibility": null,
            "width": null
          }
        },
        "f9042240f128432b87cf41df3838ab0e": {
          "model_module": "@jupyter-widgets/controls",
          "model_name": "DescriptionStyleModel",
          "model_module_version": "1.5.0",
          "state": {
            "_model_module": "@jupyter-widgets/controls",
            "_model_module_version": "1.5.0",
            "_model_name": "DescriptionStyleModel",
            "_view_count": null,
            "_view_module": "@jupyter-widgets/base",
            "_view_module_version": "1.2.0",
            "_view_name": "StyleView",
            "description_width": ""
          }
        },
        "b66f6d5596c047739a3cb87a4e5e0e90": {
          "model_module": "@jupyter-widgets/base",
          "model_name": "LayoutModel",
          "model_module_version": "1.2.0",
          "state": {
            "_model_module": "@jupyter-widgets/base",
            "_model_module_version": "1.2.0",
            "_model_name": "LayoutModel",
            "_view_count": null,
            "_view_module": "@jupyter-widgets/base",
            "_view_module_version": "1.2.0",
            "_view_name": "LayoutView",
            "align_content": null,
            "align_items": null,
            "align_self": null,
            "border": null,
            "bottom": null,
            "display": null,
            "flex": null,
            "flex_flow": null,
            "grid_area": null,
            "grid_auto_columns": null,
            "grid_auto_flow": null,
            "grid_auto_rows": null,
            "grid_column": null,
            "grid_gap": null,
            "grid_row": null,
            "grid_template_areas": null,
            "grid_template_columns": null,
            "grid_template_rows": null,
            "height": null,
            "justify_content": null,
            "justify_items": null,
            "left": null,
            "margin": null,
            "max_height": null,
            "max_width": null,
            "min_height": null,
            "min_width": null,
            "object_fit": null,
            "object_position": null,
            "order": null,
            "overflow": null,
            "overflow_x": null,
            "overflow_y": null,
            "padding": null,
            "right": null,
            "top": null,
            "visibility": null,
            "width": null
          }
        },
        "80e170465f764ffcb52eef3ba316904f": {
          "model_module": "@jupyter-widgets/controls",
          "model_name": "ProgressStyleModel",
          "model_module_version": "1.5.0",
          "state": {
            "_model_module": "@jupyter-widgets/controls",
            "_model_module_version": "1.5.0",
            "_model_name": "ProgressStyleModel",
            "_view_count": null,
            "_view_module": "@jupyter-widgets/base",
            "_view_module_version": "1.2.0",
            "_view_name": "StyleView",
            "bar_color": null,
            "description_width": ""
          }
        },
        "e810c1b531c84e3e83863864c0b9d218": {
          "model_module": "@jupyter-widgets/base",
          "model_name": "LayoutModel",
          "model_module_version": "1.2.0",
          "state": {
            "_model_module": "@jupyter-widgets/base",
            "_model_module_version": "1.2.0",
            "_model_name": "LayoutModel",
            "_view_count": null,
            "_view_module": "@jupyter-widgets/base",
            "_view_module_version": "1.2.0",
            "_view_name": "LayoutView",
            "align_content": null,
            "align_items": null,
            "align_self": null,
            "border": null,
            "bottom": null,
            "display": null,
            "flex": null,
            "flex_flow": null,
            "grid_area": null,
            "grid_auto_columns": null,
            "grid_auto_flow": null,
            "grid_auto_rows": null,
            "grid_column": null,
            "grid_gap": null,
            "grid_row": null,
            "grid_template_areas": null,
            "grid_template_columns": null,
            "grid_template_rows": null,
            "height": null,
            "justify_content": null,
            "justify_items": null,
            "left": null,
            "margin": null,
            "max_height": null,
            "max_width": null,
            "min_height": null,
            "min_width": null,
            "object_fit": null,
            "object_position": null,
            "order": null,
            "overflow": null,
            "overflow_x": null,
            "overflow_y": null,
            "padding": null,
            "right": null,
            "top": null,
            "visibility": null,
            "width": null
          }
        },
        "f5ab4cf942bd46b395ec9049bf9531d1": {
          "model_module": "@jupyter-widgets/controls",
          "model_name": "DescriptionStyleModel",
          "model_module_version": "1.5.0",
          "state": {
            "_model_module": "@jupyter-widgets/controls",
            "_model_module_version": "1.5.0",
            "_model_name": "DescriptionStyleModel",
            "_view_count": null,
            "_view_module": "@jupyter-widgets/base",
            "_view_module_version": "1.2.0",
            "_view_name": "StyleView",
            "description_width": ""
          }
        },
        "a5a6772e4fe84b3cbb4247d6cfab8f06": {
          "model_module": "@jupyter-widgets/controls",
          "model_name": "HBoxModel",
          "model_module_version": "1.5.0",
          "state": {
            "_dom_classes": [],
            "_model_module": "@jupyter-widgets/controls",
            "_model_module_version": "1.5.0",
            "_model_name": "HBoxModel",
            "_view_count": null,
            "_view_module": "@jupyter-widgets/controls",
            "_view_module_version": "1.5.0",
            "_view_name": "HBoxView",
            "box_style": "",
            "children": [
              "IPY_MODEL_88186fea8d304ce4808547ac92b9fe17",
              "IPY_MODEL_57c20c321e3e45b48266df756b0f4e92",
              "IPY_MODEL_498b4d6ba3754c7c8a7af2cd53c9b72c"
            ],
            "layout": "IPY_MODEL_b7546ac2591c491fbd8712d759af5738"
          }
        },
        "88186fea8d304ce4808547ac92b9fe17": {
          "model_module": "@jupyter-widgets/controls",
          "model_name": "HTMLModel",
          "model_module_version": "1.5.0",
          "state": {
            "_dom_classes": [],
            "_model_module": "@jupyter-widgets/controls",
            "_model_module_version": "1.5.0",
            "_model_name": "HTMLModel",
            "_view_count": null,
            "_view_module": "@jupyter-widgets/controls",
            "_view_module_version": "1.5.0",
            "_view_name": "HTMLView",
            "description": "",
            "description_tooltip": null,
            "layout": "IPY_MODEL_23cdb178590144b6a4b02a732a568ac3",
            "placeholder": "​",
            "style": "IPY_MODEL_97390c3761054a588e72af6eddd3cf97",
            "value": "Downloading: 100%"
          }
        },
        "57c20c321e3e45b48266df756b0f4e92": {
          "model_module": "@jupyter-widgets/controls",
          "model_name": "FloatProgressModel",
          "model_module_version": "1.5.0",
          "state": {
            "_dom_classes": [],
            "_model_module": "@jupyter-widgets/controls",
            "_model_module_version": "1.5.0",
            "_model_name": "FloatProgressModel",
            "_view_count": null,
            "_view_module": "@jupyter-widgets/controls",
            "_view_module_version": "1.5.0",
            "_view_name": "ProgressView",
            "bar_style": "success",
            "description": "",
            "description_tooltip": null,
            "layout": "IPY_MODEL_5ca124f5cc6a41f28dbad2d9b8a33873",
            "max": 122,
            "min": 0,
            "orientation": "horizontal",
            "style": "IPY_MODEL_f854c30083d14598ac5b084ce7851758",
            "value": 122
          }
        },
        "498b4d6ba3754c7c8a7af2cd53c9b72c": {
          "model_module": "@jupyter-widgets/controls",
          "model_name": "HTMLModel",
          "model_module_version": "1.5.0",
          "state": {
            "_dom_classes": [],
            "_model_module": "@jupyter-widgets/controls",
            "_model_module_version": "1.5.0",
            "_model_name": "HTMLModel",
            "_view_count": null,
            "_view_module": "@jupyter-widgets/controls",
            "_view_module_version": "1.5.0",
            "_view_name": "HTMLView",
            "description": "",
            "description_tooltip": null,
            "layout": "IPY_MODEL_0744364fabe54b77b5e2c3d6f498b54b",
            "placeholder": "​",
            "style": "IPY_MODEL_07dadbc5566f4b45ab9c4b1079960691",
            "value": " 122/122 [00:00&lt;00:00, 713B/s]"
          }
        },
        "b7546ac2591c491fbd8712d759af5738": {
          "model_module": "@jupyter-widgets/base",
          "model_name": "LayoutModel",
          "model_module_version": "1.2.0",
          "state": {
            "_model_module": "@jupyter-widgets/base",
            "_model_module_version": "1.2.0",
            "_model_name": "LayoutModel",
            "_view_count": null,
            "_view_module": "@jupyter-widgets/base",
            "_view_module_version": "1.2.0",
            "_view_name": "LayoutView",
            "align_content": null,
            "align_items": null,
            "align_self": null,
            "border": null,
            "bottom": null,
            "display": null,
            "flex": null,
            "flex_flow": null,
            "grid_area": null,
            "grid_auto_columns": null,
            "grid_auto_flow": null,
            "grid_auto_rows": null,
            "grid_column": null,
            "grid_gap": null,
            "grid_row": null,
            "grid_template_areas": null,
            "grid_template_columns": null,
            "grid_template_rows": null,
            "height": null,
            "justify_content": null,
            "justify_items": null,
            "left": null,
            "margin": null,
            "max_height": null,
            "max_width": null,
            "min_height": null,
            "min_width": null,
            "object_fit": null,
            "object_position": null,
            "order": null,
            "overflow": null,
            "overflow_x": null,
            "overflow_y": null,
            "padding": null,
            "right": null,
            "top": null,
            "visibility": null,
            "width": null
          }
        },
        "23cdb178590144b6a4b02a732a568ac3": {
          "model_module": "@jupyter-widgets/base",
          "model_name": "LayoutModel",
          "model_module_version": "1.2.0",
          "state": {
            "_model_module": "@jupyter-widgets/base",
            "_model_module_version": "1.2.0",
            "_model_name": "LayoutModel",
            "_view_count": null,
            "_view_module": "@jupyter-widgets/base",
            "_view_module_version": "1.2.0",
            "_view_name": "LayoutView",
            "align_content": null,
            "align_items": null,
            "align_self": null,
            "border": null,
            "bottom": null,
            "display": null,
            "flex": null,
            "flex_flow": null,
            "grid_area": null,
            "grid_auto_columns": null,
            "grid_auto_flow": null,
            "grid_auto_rows": null,
            "grid_column": null,
            "grid_gap": null,
            "grid_row": null,
            "grid_template_areas": null,
            "grid_template_columns": null,
            "grid_template_rows": null,
            "height": null,
            "justify_content": null,
            "justify_items": null,
            "left": null,
            "margin": null,
            "max_height": null,
            "max_width": null,
            "min_height": null,
            "min_width": null,
            "object_fit": null,
            "object_position": null,
            "order": null,
            "overflow": null,
            "overflow_x": null,
            "overflow_y": null,
            "padding": null,
            "right": null,
            "top": null,
            "visibility": null,
            "width": null
          }
        },
        "97390c3761054a588e72af6eddd3cf97": {
          "model_module": "@jupyter-widgets/controls",
          "model_name": "DescriptionStyleModel",
          "model_module_version": "1.5.0",
          "state": {
            "_model_module": "@jupyter-widgets/controls",
            "_model_module_version": "1.5.0",
            "_model_name": "DescriptionStyleModel",
            "_view_count": null,
            "_view_module": "@jupyter-widgets/base",
            "_view_module_version": "1.2.0",
            "_view_name": "StyleView",
            "description_width": ""
          }
        },
        "5ca124f5cc6a41f28dbad2d9b8a33873": {
          "model_module": "@jupyter-widgets/base",
          "model_name": "LayoutModel",
          "model_module_version": "1.2.0",
          "state": {
            "_model_module": "@jupyter-widgets/base",
            "_model_module_version": "1.2.0",
            "_model_name": "LayoutModel",
            "_view_count": null,
            "_view_module": "@jupyter-widgets/base",
            "_view_module_version": "1.2.0",
            "_view_name": "LayoutView",
            "align_content": null,
            "align_items": null,
            "align_self": null,
            "border": null,
            "bottom": null,
            "display": null,
            "flex": null,
            "flex_flow": null,
            "grid_area": null,
            "grid_auto_columns": null,
            "grid_auto_flow": null,
            "grid_auto_rows": null,
            "grid_column": null,
            "grid_gap": null,
            "grid_row": null,
            "grid_template_areas": null,
            "grid_template_columns": null,
            "grid_template_rows": null,
            "height": null,
            "justify_content": null,
            "justify_items": null,
            "left": null,
            "margin": null,
            "max_height": null,
            "max_width": null,
            "min_height": null,
            "min_width": null,
            "object_fit": null,
            "object_position": null,
            "order": null,
            "overflow": null,
            "overflow_x": null,
            "overflow_y": null,
            "padding": null,
            "right": null,
            "top": null,
            "visibility": null,
            "width": null
          }
        },
        "f854c30083d14598ac5b084ce7851758": {
          "model_module": "@jupyter-widgets/controls",
          "model_name": "ProgressStyleModel",
          "model_module_version": "1.5.0",
          "state": {
            "_model_module": "@jupyter-widgets/controls",
            "_model_module_version": "1.5.0",
            "_model_name": "ProgressStyleModel",
            "_view_count": null,
            "_view_module": "@jupyter-widgets/base",
            "_view_module_version": "1.2.0",
            "_view_name": "StyleView",
            "bar_color": null,
            "description_width": ""
          }
        },
        "0744364fabe54b77b5e2c3d6f498b54b": {
          "model_module": "@jupyter-widgets/base",
          "model_name": "LayoutModel",
          "model_module_version": "1.2.0",
          "state": {
            "_model_module": "@jupyter-widgets/base",
            "_model_module_version": "1.2.0",
            "_model_name": "LayoutModel",
            "_view_count": null,
            "_view_module": "@jupyter-widgets/base",
            "_view_module_version": "1.2.0",
            "_view_name": "LayoutView",
            "align_content": null,
            "align_items": null,
            "align_self": null,
            "border": null,
            "bottom": null,
            "display": null,
            "flex": null,
            "flex_flow": null,
            "grid_area": null,
            "grid_auto_columns": null,
            "grid_auto_flow": null,
            "grid_auto_rows": null,
            "grid_column": null,
            "grid_gap": null,
            "grid_row": null,
            "grid_template_areas": null,
            "grid_template_columns": null,
            "grid_template_rows": null,
            "height": null,
            "justify_content": null,
            "justify_items": null,
            "left": null,
            "margin": null,
            "max_height": null,
            "max_width": null,
            "min_height": null,
            "min_width": null,
            "object_fit": null,
            "object_position": null,
            "order": null,
            "overflow": null,
            "overflow_x": null,
            "overflow_y": null,
            "padding": null,
            "right": null,
            "top": null,
            "visibility": null,
            "width": null
          }
        },
        "07dadbc5566f4b45ab9c4b1079960691": {
          "model_module": "@jupyter-widgets/controls",
          "model_name": "DescriptionStyleModel",
          "model_module_version": "1.5.0",
          "state": {
            "_model_module": "@jupyter-widgets/controls",
            "_model_module_version": "1.5.0",
            "_model_name": "DescriptionStyleModel",
            "_view_count": null,
            "_view_module": "@jupyter-widgets/base",
            "_view_module_version": "1.2.0",
            "_view_name": "StyleView",
            "description_width": ""
          }
        },
        "b047768ecf284d869fabdbe547558d51": {
          "model_module": "@jupyter-widgets/controls",
          "model_name": "HBoxModel",
          "model_module_version": "1.5.0",
          "state": {
            "_dom_classes": [],
            "_model_module": "@jupyter-widgets/controls",
            "_model_module_version": "1.5.0",
            "_model_name": "HBoxModel",
            "_view_count": null,
            "_view_module": "@jupyter-widgets/controls",
            "_view_module_version": "1.5.0",
            "_view_name": "HBoxView",
            "box_style": "",
            "children": [
              "IPY_MODEL_f871bd53e82f4ee08710b1e8ffb79c82",
              "IPY_MODEL_b9843a2742a9456d9ed00fb796a49bcf",
              "IPY_MODEL_9c48fd689d5d460fb4ffc0e449cd2281"
            ],
            "layout": "IPY_MODEL_7165d117d108408bb73c9e0e2478451a"
          }
        },
        "f871bd53e82f4ee08710b1e8ffb79c82": {
          "model_module": "@jupyter-widgets/controls",
          "model_name": "HTMLModel",
          "model_module_version": "1.5.0",
          "state": {
            "_dom_classes": [],
            "_model_module": "@jupyter-widgets/controls",
            "_model_module_version": "1.5.0",
            "_model_name": "HTMLModel",
            "_view_count": null,
            "_view_module": "@jupyter-widgets/controls",
            "_view_module_version": "1.5.0",
            "_view_name": "HTMLView",
            "description": "",
            "description_tooltip": null,
            "layout": "IPY_MODEL_e65de5e1f04447dc8e57de3f7489c216",
            "placeholder": "​",
            "style": "IPY_MODEL_e1c1edc1ca6c4c5c99c3b4be87fef7d2",
            "value": "Downloading: 100%"
          }
        },
        "b9843a2742a9456d9ed00fb796a49bcf": {
          "model_module": "@jupyter-widgets/controls",
          "model_name": "FloatProgressModel",
          "model_module_version": "1.5.0",
          "state": {
            "_dom_classes": [],
            "_model_module": "@jupyter-widgets/controls",
            "_model_module_version": "1.5.0",
            "_model_name": "FloatProgressModel",
            "_view_count": null,
            "_view_module": "@jupyter-widgets/controls",
            "_view_module_version": "1.5.0",
            "_view_name": "ProgressView",
            "bar_style": "success",
            "description": "",
            "description_tooltip": null,
            "layout": "IPY_MODEL_4ee2d4ad7afd4d718ecf31c06d87c5e5",
            "max": 229,
            "min": 0,
            "orientation": "horizontal",
            "style": "IPY_MODEL_5fb5bfea41d84ac0a4eed2a33fb5a1ec",
            "value": 229
          }
        },
        "9c48fd689d5d460fb4ffc0e449cd2281": {
          "model_module": "@jupyter-widgets/controls",
          "model_name": "HTMLModel",
          "model_module_version": "1.5.0",
          "state": {
            "_dom_classes": [],
            "_model_module": "@jupyter-widgets/controls",
            "_model_module_version": "1.5.0",
            "_model_name": "HTMLModel",
            "_view_count": null,
            "_view_module": "@jupyter-widgets/controls",
            "_view_module_version": "1.5.0",
            "_view_name": "HTMLView",
            "description": "",
            "description_tooltip": null,
            "layout": "IPY_MODEL_a3b3cecec6cd45bcadb8dab7a399944a",
            "placeholder": "​",
            "style": "IPY_MODEL_0cf17e62200349e9a08b9332a12b9186",
            "value": " 229/229 [00:00&lt;00:00, 3.84kB/s]"
          }
        },
        "7165d117d108408bb73c9e0e2478451a": {
          "model_module": "@jupyter-widgets/base",
          "model_name": "LayoutModel",
          "model_module_version": "1.2.0",
          "state": {
            "_model_module": "@jupyter-widgets/base",
            "_model_module_version": "1.2.0",
            "_model_name": "LayoutModel",
            "_view_count": null,
            "_view_module": "@jupyter-widgets/base",
            "_view_module_version": "1.2.0",
            "_view_name": "LayoutView",
            "align_content": null,
            "align_items": null,
            "align_self": null,
            "border": null,
            "bottom": null,
            "display": null,
            "flex": null,
            "flex_flow": null,
            "grid_area": null,
            "grid_auto_columns": null,
            "grid_auto_flow": null,
            "grid_auto_rows": null,
            "grid_column": null,
            "grid_gap": null,
            "grid_row": null,
            "grid_template_areas": null,
            "grid_template_columns": null,
            "grid_template_rows": null,
            "height": null,
            "justify_content": null,
            "justify_items": null,
            "left": null,
            "margin": null,
            "max_height": null,
            "max_width": null,
            "min_height": null,
            "min_width": null,
            "object_fit": null,
            "object_position": null,
            "order": null,
            "overflow": null,
            "overflow_x": null,
            "overflow_y": null,
            "padding": null,
            "right": null,
            "top": null,
            "visibility": null,
            "width": null
          }
        },
        "e65de5e1f04447dc8e57de3f7489c216": {
          "model_module": "@jupyter-widgets/base",
          "model_name": "LayoutModel",
          "model_module_version": "1.2.0",
          "state": {
            "_model_module": "@jupyter-widgets/base",
            "_model_module_version": "1.2.0",
            "_model_name": "LayoutModel",
            "_view_count": null,
            "_view_module": "@jupyter-widgets/base",
            "_view_module_version": "1.2.0",
            "_view_name": "LayoutView",
            "align_content": null,
            "align_items": null,
            "align_self": null,
            "border": null,
            "bottom": null,
            "display": null,
            "flex": null,
            "flex_flow": null,
            "grid_area": null,
            "grid_auto_columns": null,
            "grid_auto_flow": null,
            "grid_auto_rows": null,
            "grid_column": null,
            "grid_gap": null,
            "grid_row": null,
            "grid_template_areas": null,
            "grid_template_columns": null,
            "grid_template_rows": null,
            "height": null,
            "justify_content": null,
            "justify_items": null,
            "left": null,
            "margin": null,
            "max_height": null,
            "max_width": null,
            "min_height": null,
            "min_width": null,
            "object_fit": null,
            "object_position": null,
            "order": null,
            "overflow": null,
            "overflow_x": null,
            "overflow_y": null,
            "padding": null,
            "right": null,
            "top": null,
            "visibility": null,
            "width": null
          }
        },
        "e1c1edc1ca6c4c5c99c3b4be87fef7d2": {
          "model_module": "@jupyter-widgets/controls",
          "model_name": "DescriptionStyleModel",
          "model_module_version": "1.5.0",
          "state": {
            "_model_module": "@jupyter-widgets/controls",
            "_model_module_version": "1.5.0",
            "_model_name": "DescriptionStyleModel",
            "_view_count": null,
            "_view_module": "@jupyter-widgets/base",
            "_view_module_version": "1.2.0",
            "_view_name": "StyleView",
            "description_width": ""
          }
        },
        "4ee2d4ad7afd4d718ecf31c06d87c5e5": {
          "model_module": "@jupyter-widgets/base",
          "model_name": "LayoutModel",
          "model_module_version": "1.2.0",
          "state": {
            "_model_module": "@jupyter-widgets/base",
            "_model_module_version": "1.2.0",
            "_model_name": "LayoutModel",
            "_view_count": null,
            "_view_module": "@jupyter-widgets/base",
            "_view_module_version": "1.2.0",
            "_view_name": "LayoutView",
            "align_content": null,
            "align_items": null,
            "align_self": null,
            "border": null,
            "bottom": null,
            "display": null,
            "flex": null,
            "flex_flow": null,
            "grid_area": null,
            "grid_auto_columns": null,
            "grid_auto_flow": null,
            "grid_auto_rows": null,
            "grid_column": null,
            "grid_gap": null,
            "grid_row": null,
            "grid_template_areas": null,
            "grid_template_columns": null,
            "grid_template_rows": null,
            "height": null,
            "justify_content": null,
            "justify_items": null,
            "left": null,
            "margin": null,
            "max_height": null,
            "max_width": null,
            "min_height": null,
            "min_width": null,
            "object_fit": null,
            "object_position": null,
            "order": null,
            "overflow": null,
            "overflow_x": null,
            "overflow_y": null,
            "padding": null,
            "right": null,
            "top": null,
            "visibility": null,
            "width": null
          }
        },
        "5fb5bfea41d84ac0a4eed2a33fb5a1ec": {
          "model_module": "@jupyter-widgets/controls",
          "model_name": "ProgressStyleModel",
          "model_module_version": "1.5.0",
          "state": {
            "_model_module": "@jupyter-widgets/controls",
            "_model_module_version": "1.5.0",
            "_model_name": "ProgressStyleModel",
            "_view_count": null,
            "_view_module": "@jupyter-widgets/base",
            "_view_module_version": "1.2.0",
            "_view_name": "StyleView",
            "bar_color": null,
            "description_width": ""
          }
        },
        "a3b3cecec6cd45bcadb8dab7a399944a": {
          "model_module": "@jupyter-widgets/base",
          "model_name": "LayoutModel",
          "model_module_version": "1.2.0",
          "state": {
            "_model_module": "@jupyter-widgets/base",
            "_model_module_version": "1.2.0",
            "_model_name": "LayoutModel",
            "_view_count": null,
            "_view_module": "@jupyter-widgets/base",
            "_view_module_version": "1.2.0",
            "_view_name": "LayoutView",
            "align_content": null,
            "align_items": null,
            "align_self": null,
            "border": null,
            "bottom": null,
            "display": null,
            "flex": null,
            "flex_flow": null,
            "grid_area": null,
            "grid_auto_columns": null,
            "grid_auto_flow": null,
            "grid_auto_rows": null,
            "grid_column": null,
            "grid_gap": null,
            "grid_row": null,
            "grid_template_areas": null,
            "grid_template_columns": null,
            "grid_template_rows": null,
            "height": null,
            "justify_content": null,
            "justify_items": null,
            "left": null,
            "margin": null,
            "max_height": null,
            "max_width": null,
            "min_height": null,
            "min_width": null,
            "object_fit": null,
            "object_position": null,
            "order": null,
            "overflow": null,
            "overflow_x": null,
            "overflow_y": null,
            "padding": null,
            "right": null,
            "top": null,
            "visibility": null,
            "width": null
          }
        },
        "0cf17e62200349e9a08b9332a12b9186": {
          "model_module": "@jupyter-widgets/controls",
          "model_name": "DescriptionStyleModel",
          "model_module_version": "1.5.0",
          "state": {
            "_model_module": "@jupyter-widgets/controls",
            "_model_module_version": "1.5.0",
            "_model_name": "DescriptionStyleModel",
            "_view_count": null,
            "_view_module": "@jupyter-widgets/base",
            "_view_module_version": "1.2.0",
            "_view_name": "StyleView",
            "description_width": ""
          }
        },
        "9c47f3cd159d475cbd12a1f3f2635300": {
          "model_module": "@jupyter-widgets/controls",
          "model_name": "HBoxModel",
          "model_module_version": "1.5.0",
          "state": {
            "_dom_classes": [],
            "_model_module": "@jupyter-widgets/controls",
            "_model_module_version": "1.5.0",
            "_model_name": "HBoxModel",
            "_view_count": null,
            "_view_module": "@jupyter-widgets/controls",
            "_view_module_version": "1.5.0",
            "_view_name": "HBoxView",
            "box_style": "",
            "children": [
              "IPY_MODEL_7048492d39204c16a8b53375acecae45",
              "IPY_MODEL_40e5a54b479b4e21beed3170a621dd2e",
              "IPY_MODEL_6cf0a5456d1c4e8cad54de6c8b9bcdfb"
            ],
            "layout": "IPY_MODEL_5b1c4064af3b40ffb975b63b181d7c64"
          }
        },
        "7048492d39204c16a8b53375acecae45": {
          "model_module": "@jupyter-widgets/controls",
          "model_name": "HTMLModel",
          "model_module_version": "1.5.0",
          "state": {
            "_dom_classes": [],
            "_model_module": "@jupyter-widgets/controls",
            "_model_module_version": "1.5.0",
            "_model_name": "HTMLModel",
            "_view_count": null,
            "_view_module": "@jupyter-widgets/controls",
            "_view_module_version": "1.5.0",
            "_view_name": "HTMLView",
            "description": "",
            "description_tooltip": null,
            "layout": "IPY_MODEL_6cf9ed8cfc9e45a7bcb6ce7a1360d44d",
            "placeholder": "​",
            "style": "IPY_MODEL_e3036484d50e4eb9bf4856af251e1f8a",
            "value": "Downloading: 100%"
          }
        },
        "40e5a54b479b4e21beed3170a621dd2e": {
          "model_module": "@jupyter-widgets/controls",
          "model_name": "FloatProgressModel",
          "model_module_version": "1.5.0",
          "state": {
            "_dom_classes": [],
            "_model_module": "@jupyter-widgets/controls",
            "_model_module_version": "1.5.0",
            "_model_name": "FloatProgressModel",
            "_view_count": null,
            "_view_module": "@jupyter-widgets/controls",
            "_view_module_version": "1.5.0",
            "_view_name": "ProgressView",
            "bar_style": "success",
            "description": "",
            "description_tooltip": null,
            "layout": "IPY_MODEL_faf441eb07914086a29555a1a1c43067",
            "max": 90895153,
            "min": 0,
            "orientation": "horizontal",
            "style": "IPY_MODEL_b2af1d0c4d394020b5b9cb1eab3cdd59",
            "value": 90895153
          }
        },
        "6cf0a5456d1c4e8cad54de6c8b9bcdfb": {
          "model_module": "@jupyter-widgets/controls",
          "model_name": "HTMLModel",
          "model_module_version": "1.5.0",
          "state": {
            "_dom_classes": [],
            "_model_module": "@jupyter-widgets/controls",
            "_model_module_version": "1.5.0",
            "_model_name": "HTMLModel",
            "_view_count": null,
            "_view_module": "@jupyter-widgets/controls",
            "_view_module_version": "1.5.0",
            "_view_name": "HTMLView",
            "description": "",
            "description_tooltip": null,
            "layout": "IPY_MODEL_1e7f5612a5ef4b4b8a6b0cab97965c44",
            "placeholder": "​",
            "style": "IPY_MODEL_a5e1a497f3044c91978ad2acff719091",
            "value": " 90.9M/90.9M [00:05&lt;00:00, 16.5MB/s]"
          }
        },
        "5b1c4064af3b40ffb975b63b181d7c64": {
          "model_module": "@jupyter-widgets/base",
          "model_name": "LayoutModel",
          "model_module_version": "1.2.0",
          "state": {
            "_model_module": "@jupyter-widgets/base",
            "_model_module_version": "1.2.0",
            "_model_name": "LayoutModel",
            "_view_count": null,
            "_view_module": "@jupyter-widgets/base",
            "_view_module_version": "1.2.0",
            "_view_name": "LayoutView",
            "align_content": null,
            "align_items": null,
            "align_self": null,
            "border": null,
            "bottom": null,
            "display": null,
            "flex": null,
            "flex_flow": null,
            "grid_area": null,
            "grid_auto_columns": null,
            "grid_auto_flow": null,
            "grid_auto_rows": null,
            "grid_column": null,
            "grid_gap": null,
            "grid_row": null,
            "grid_template_areas": null,
            "grid_template_columns": null,
            "grid_template_rows": null,
            "height": null,
            "justify_content": null,
            "justify_items": null,
            "left": null,
            "margin": null,
            "max_height": null,
            "max_width": null,
            "min_height": null,
            "min_width": null,
            "object_fit": null,
            "object_position": null,
            "order": null,
            "overflow": null,
            "overflow_x": null,
            "overflow_y": null,
            "padding": null,
            "right": null,
            "top": null,
            "visibility": null,
            "width": null
          }
        },
        "6cf9ed8cfc9e45a7bcb6ce7a1360d44d": {
          "model_module": "@jupyter-widgets/base",
          "model_name": "LayoutModel",
          "model_module_version": "1.2.0",
          "state": {
            "_model_module": "@jupyter-widgets/base",
            "_model_module_version": "1.2.0",
            "_model_name": "LayoutModel",
            "_view_count": null,
            "_view_module": "@jupyter-widgets/base",
            "_view_module_version": "1.2.0",
            "_view_name": "LayoutView",
            "align_content": null,
            "align_items": null,
            "align_self": null,
            "border": null,
            "bottom": null,
            "display": null,
            "flex": null,
            "flex_flow": null,
            "grid_area": null,
            "grid_auto_columns": null,
            "grid_auto_flow": null,
            "grid_auto_rows": null,
            "grid_column": null,
            "grid_gap": null,
            "grid_row": null,
            "grid_template_areas": null,
            "grid_template_columns": null,
            "grid_template_rows": null,
            "height": null,
            "justify_content": null,
            "justify_items": null,
            "left": null,
            "margin": null,
            "max_height": null,
            "max_width": null,
            "min_height": null,
            "min_width": null,
            "object_fit": null,
            "object_position": null,
            "order": null,
            "overflow": null,
            "overflow_x": null,
            "overflow_y": null,
            "padding": null,
            "right": null,
            "top": null,
            "visibility": null,
            "width": null
          }
        },
        "e3036484d50e4eb9bf4856af251e1f8a": {
          "model_module": "@jupyter-widgets/controls",
          "model_name": "DescriptionStyleModel",
          "model_module_version": "1.5.0",
          "state": {
            "_model_module": "@jupyter-widgets/controls",
            "_model_module_version": "1.5.0",
            "_model_name": "DescriptionStyleModel",
            "_view_count": null,
            "_view_module": "@jupyter-widgets/base",
            "_view_module_version": "1.2.0",
            "_view_name": "StyleView",
            "description_width": ""
          }
        },
        "faf441eb07914086a29555a1a1c43067": {
          "model_module": "@jupyter-widgets/base",
          "model_name": "LayoutModel",
          "model_module_version": "1.2.0",
          "state": {
            "_model_module": "@jupyter-widgets/base",
            "_model_module_version": "1.2.0",
            "_model_name": "LayoutModel",
            "_view_count": null,
            "_view_module": "@jupyter-widgets/base",
            "_view_module_version": "1.2.0",
            "_view_name": "LayoutView",
            "align_content": null,
            "align_items": null,
            "align_self": null,
            "border": null,
            "bottom": null,
            "display": null,
            "flex": null,
            "flex_flow": null,
            "grid_area": null,
            "grid_auto_columns": null,
            "grid_auto_flow": null,
            "grid_auto_rows": null,
            "grid_column": null,
            "grid_gap": null,
            "grid_row": null,
            "grid_template_areas": null,
            "grid_template_columns": null,
            "grid_template_rows": null,
            "height": null,
            "justify_content": null,
            "justify_items": null,
            "left": null,
            "margin": null,
            "max_height": null,
            "max_width": null,
            "min_height": null,
            "min_width": null,
            "object_fit": null,
            "object_position": null,
            "order": null,
            "overflow": null,
            "overflow_x": null,
            "overflow_y": null,
            "padding": null,
            "right": null,
            "top": null,
            "visibility": null,
            "width": null
          }
        },
        "b2af1d0c4d394020b5b9cb1eab3cdd59": {
          "model_module": "@jupyter-widgets/controls",
          "model_name": "ProgressStyleModel",
          "model_module_version": "1.5.0",
          "state": {
            "_model_module": "@jupyter-widgets/controls",
            "_model_module_version": "1.5.0",
            "_model_name": "ProgressStyleModel",
            "_view_count": null,
            "_view_module": "@jupyter-widgets/base",
            "_view_module_version": "1.2.0",
            "_view_name": "StyleView",
            "bar_color": null,
            "description_width": ""
          }
        },
        "1e7f5612a5ef4b4b8a6b0cab97965c44": {
          "model_module": "@jupyter-widgets/base",
          "model_name": "LayoutModel",
          "model_module_version": "1.2.0",
          "state": {
            "_model_module": "@jupyter-widgets/base",
            "_model_module_version": "1.2.0",
            "_model_name": "LayoutModel",
            "_view_count": null,
            "_view_module": "@jupyter-widgets/base",
            "_view_module_version": "1.2.0",
            "_view_name": "LayoutView",
            "align_content": null,
            "align_items": null,
            "align_self": null,
            "border": null,
            "bottom": null,
            "display": null,
            "flex": null,
            "flex_flow": null,
            "grid_area": null,
            "grid_auto_columns": null,
            "grid_auto_flow": null,
            "grid_auto_rows": null,
            "grid_column": null,
            "grid_gap": null,
            "grid_row": null,
            "grid_template_areas": null,
            "grid_template_columns": null,
            "grid_template_rows": null,
            "height": null,
            "justify_content": null,
            "justify_items": null,
            "left": null,
            "margin": null,
            "max_height": null,
            "max_width": null,
            "min_height": null,
            "min_width": null,
            "object_fit": null,
            "object_position": null,
            "order": null,
            "overflow": null,
            "overflow_x": null,
            "overflow_y": null,
            "padding": null,
            "right": null,
            "top": null,
            "visibility": null,
            "width": null
          }
        },
        "a5e1a497f3044c91978ad2acff719091": {
          "model_module": "@jupyter-widgets/controls",
          "model_name": "DescriptionStyleModel",
          "model_module_version": "1.5.0",
          "state": {
            "_model_module": "@jupyter-widgets/controls",
            "_model_module_version": "1.5.0",
            "_model_name": "DescriptionStyleModel",
            "_view_count": null,
            "_view_module": "@jupyter-widgets/base",
            "_view_module_version": "1.2.0",
            "_view_name": "StyleView",
            "description_width": ""
          }
        },
        "42518ace5e4f44eca7b77a43bd1e99e9": {
          "model_module": "@jupyter-widgets/controls",
          "model_name": "HBoxModel",
          "model_module_version": "1.5.0",
          "state": {
            "_dom_classes": [],
            "_model_module": "@jupyter-widgets/controls",
            "_model_module_version": "1.5.0",
            "_model_name": "HBoxModel",
            "_view_count": null,
            "_view_module": "@jupyter-widgets/controls",
            "_view_module_version": "1.5.0",
            "_view_name": "HBoxView",
            "box_style": "",
            "children": [
              "IPY_MODEL_51c6dd314c9d4bab850508e1eb840442",
              "IPY_MODEL_424586c8360844e78c9f05f2ab045b33",
              "IPY_MODEL_4bd17c8d5de94d24b6e4fb6475116fc7"
            ],
            "layout": "IPY_MODEL_200fc6cb974c4200a7e7eb37f175c659"
          }
        },
        "51c6dd314c9d4bab850508e1eb840442": {
          "model_module": "@jupyter-widgets/controls",
          "model_name": "HTMLModel",
          "model_module_version": "1.5.0",
          "state": {
            "_dom_classes": [],
            "_model_module": "@jupyter-widgets/controls",
            "_model_module_version": "1.5.0",
            "_model_name": "HTMLModel",
            "_view_count": null,
            "_view_module": "@jupyter-widgets/controls",
            "_view_module_version": "1.5.0",
            "_view_name": "HTMLView",
            "description": "",
            "description_tooltip": null,
            "layout": "IPY_MODEL_b829ee25f10246818d3268090c9cad26",
            "placeholder": "​",
            "style": "IPY_MODEL_51fe5a2acd6b421ebcf7a37247786c97",
            "value": "Downloading: 100%"
          }
        },
        "424586c8360844e78c9f05f2ab045b33": {
          "model_module": "@jupyter-widgets/controls",
          "model_name": "FloatProgressModel",
          "model_module_version": "1.5.0",
          "state": {
            "_dom_classes": [],
            "_model_module": "@jupyter-widgets/controls",
            "_model_module_version": "1.5.0",
            "_model_name": "FloatProgressModel",
            "_view_count": null,
            "_view_module": "@jupyter-widgets/controls",
            "_view_module_version": "1.5.0",
            "_view_name": "ProgressView",
            "bar_style": "success",
            "description": "",
            "description_tooltip": null,
            "layout": "IPY_MODEL_8b5136e6207a45edb2e8f4bf8ff9dac6",
            "max": 53,
            "min": 0,
            "orientation": "horizontal",
            "style": "IPY_MODEL_c0705e72162c48518320a17195d01e9f",
            "value": 53
          }
        },
        "4bd17c8d5de94d24b6e4fb6475116fc7": {
          "model_module": "@jupyter-widgets/controls",
          "model_name": "HTMLModel",
          "model_module_version": "1.5.0",
          "state": {
            "_dom_classes": [],
            "_model_module": "@jupyter-widgets/controls",
            "_model_module_version": "1.5.0",
            "_model_name": "HTMLModel",
            "_view_count": null,
            "_view_module": "@jupyter-widgets/controls",
            "_view_module_version": "1.5.0",
            "_view_name": "HTMLView",
            "description": "",
            "description_tooltip": null,
            "layout": "IPY_MODEL_78356b15d3ad4427bceb61a70589b0d0",
            "placeholder": "​",
            "style": "IPY_MODEL_90aa1a19960f42479507d131ac3aafcc",
            "value": " 53.0/53.0 [00:00&lt;00:00, 629B/s]"
          }
        },
        "200fc6cb974c4200a7e7eb37f175c659": {
          "model_module": "@jupyter-widgets/base",
          "model_name": "LayoutModel",
          "model_module_version": "1.2.0",
          "state": {
            "_model_module": "@jupyter-widgets/base",
            "_model_module_version": "1.2.0",
            "_model_name": "LayoutModel",
            "_view_count": null,
            "_view_module": "@jupyter-widgets/base",
            "_view_module_version": "1.2.0",
            "_view_name": "LayoutView",
            "align_content": null,
            "align_items": null,
            "align_self": null,
            "border": null,
            "bottom": null,
            "display": null,
            "flex": null,
            "flex_flow": null,
            "grid_area": null,
            "grid_auto_columns": null,
            "grid_auto_flow": null,
            "grid_auto_rows": null,
            "grid_column": null,
            "grid_gap": null,
            "grid_row": null,
            "grid_template_areas": null,
            "grid_template_columns": null,
            "grid_template_rows": null,
            "height": null,
            "justify_content": null,
            "justify_items": null,
            "left": null,
            "margin": null,
            "max_height": null,
            "max_width": null,
            "min_height": null,
            "min_width": null,
            "object_fit": null,
            "object_position": null,
            "order": null,
            "overflow": null,
            "overflow_x": null,
            "overflow_y": null,
            "padding": null,
            "right": null,
            "top": null,
            "visibility": null,
            "width": null
          }
        },
        "b829ee25f10246818d3268090c9cad26": {
          "model_module": "@jupyter-widgets/base",
          "model_name": "LayoutModel",
          "model_module_version": "1.2.0",
          "state": {
            "_model_module": "@jupyter-widgets/base",
            "_model_module_version": "1.2.0",
            "_model_name": "LayoutModel",
            "_view_count": null,
            "_view_module": "@jupyter-widgets/base",
            "_view_module_version": "1.2.0",
            "_view_name": "LayoutView",
            "align_content": null,
            "align_items": null,
            "align_self": null,
            "border": null,
            "bottom": null,
            "display": null,
            "flex": null,
            "flex_flow": null,
            "grid_area": null,
            "grid_auto_columns": null,
            "grid_auto_flow": null,
            "grid_auto_rows": null,
            "grid_column": null,
            "grid_gap": null,
            "grid_row": null,
            "grid_template_areas": null,
            "grid_template_columns": null,
            "grid_template_rows": null,
            "height": null,
            "justify_content": null,
            "justify_items": null,
            "left": null,
            "margin": null,
            "max_height": null,
            "max_width": null,
            "min_height": null,
            "min_width": null,
            "object_fit": null,
            "object_position": null,
            "order": null,
            "overflow": null,
            "overflow_x": null,
            "overflow_y": null,
            "padding": null,
            "right": null,
            "top": null,
            "visibility": null,
            "width": null
          }
        },
        "51fe5a2acd6b421ebcf7a37247786c97": {
          "model_module": "@jupyter-widgets/controls",
          "model_name": "DescriptionStyleModel",
          "model_module_version": "1.5.0",
          "state": {
            "_model_module": "@jupyter-widgets/controls",
            "_model_module_version": "1.5.0",
            "_model_name": "DescriptionStyleModel",
            "_view_count": null,
            "_view_module": "@jupyter-widgets/base",
            "_view_module_version": "1.2.0",
            "_view_name": "StyleView",
            "description_width": ""
          }
        },
        "8b5136e6207a45edb2e8f4bf8ff9dac6": {
          "model_module": "@jupyter-widgets/base",
          "model_name": "LayoutModel",
          "model_module_version": "1.2.0",
          "state": {
            "_model_module": "@jupyter-widgets/base",
            "_model_module_version": "1.2.0",
            "_model_name": "LayoutModel",
            "_view_count": null,
            "_view_module": "@jupyter-widgets/base",
            "_view_module_version": "1.2.0",
            "_view_name": "LayoutView",
            "align_content": null,
            "align_items": null,
            "align_self": null,
            "border": null,
            "bottom": null,
            "display": null,
            "flex": null,
            "flex_flow": null,
            "grid_area": null,
            "grid_auto_columns": null,
            "grid_auto_flow": null,
            "grid_auto_rows": null,
            "grid_column": null,
            "grid_gap": null,
            "grid_row": null,
            "grid_template_areas": null,
            "grid_template_columns": null,
            "grid_template_rows": null,
            "height": null,
            "justify_content": null,
            "justify_items": null,
            "left": null,
            "margin": null,
            "max_height": null,
            "max_width": null,
            "min_height": null,
            "min_width": null,
            "object_fit": null,
            "object_position": null,
            "order": null,
            "overflow": null,
            "overflow_x": null,
            "overflow_y": null,
            "padding": null,
            "right": null,
            "top": null,
            "visibility": null,
            "width": null
          }
        },
        "c0705e72162c48518320a17195d01e9f": {
          "model_module": "@jupyter-widgets/controls",
          "model_name": "ProgressStyleModel",
          "model_module_version": "1.5.0",
          "state": {
            "_model_module": "@jupyter-widgets/controls",
            "_model_module_version": "1.5.0",
            "_model_name": "ProgressStyleModel",
            "_view_count": null,
            "_view_module": "@jupyter-widgets/base",
            "_view_module_version": "1.2.0",
            "_view_name": "StyleView",
            "bar_color": null,
            "description_width": ""
          }
        },
        "78356b15d3ad4427bceb61a70589b0d0": {
          "model_module": "@jupyter-widgets/base",
          "model_name": "LayoutModel",
          "model_module_version": "1.2.0",
          "state": {
            "_model_module": "@jupyter-widgets/base",
            "_model_module_version": "1.2.0",
            "_model_name": "LayoutModel",
            "_view_count": null,
            "_view_module": "@jupyter-widgets/base",
            "_view_module_version": "1.2.0",
            "_view_name": "LayoutView",
            "align_content": null,
            "align_items": null,
            "align_self": null,
            "border": null,
            "bottom": null,
            "display": null,
            "flex": null,
            "flex_flow": null,
            "grid_area": null,
            "grid_auto_columns": null,
            "grid_auto_flow": null,
            "grid_auto_rows": null,
            "grid_column": null,
            "grid_gap": null,
            "grid_row": null,
            "grid_template_areas": null,
            "grid_template_columns": null,
            "grid_template_rows": null,
            "height": null,
            "justify_content": null,
            "justify_items": null,
            "left": null,
            "margin": null,
            "max_height": null,
            "max_width": null,
            "min_height": null,
            "min_width": null,
            "object_fit": null,
            "object_position": null,
            "order": null,
            "overflow": null,
            "overflow_x": null,
            "overflow_y": null,
            "padding": null,
            "right": null,
            "top": null,
            "visibility": null,
            "width": null
          }
        },
        "90aa1a19960f42479507d131ac3aafcc": {
          "model_module": "@jupyter-widgets/controls",
          "model_name": "DescriptionStyleModel",
          "model_module_version": "1.5.0",
          "state": {
            "_model_module": "@jupyter-widgets/controls",
            "_model_module_version": "1.5.0",
            "_model_name": "DescriptionStyleModel",
            "_view_count": null,
            "_view_module": "@jupyter-widgets/base",
            "_view_module_version": "1.2.0",
            "_view_name": "StyleView",
            "description_width": ""
          }
        },
        "83fcf9dde0b14b988d0c4f5aa871f179": {
          "model_module": "@jupyter-widgets/controls",
          "model_name": "HBoxModel",
          "model_module_version": "1.5.0",
          "state": {
            "_dom_classes": [],
            "_model_module": "@jupyter-widgets/controls",
            "_model_module_version": "1.5.0",
            "_model_name": "HBoxModel",
            "_view_count": null,
            "_view_module": "@jupyter-widgets/controls",
            "_view_module_version": "1.5.0",
            "_view_name": "HBoxView",
            "box_style": "",
            "children": [
              "IPY_MODEL_6f43329ffc2a4c91acdf06b6bc0ca060",
              "IPY_MODEL_39b27c20c47649e8b0ea2d3f025978c7",
              "IPY_MODEL_23d0c1b7490e4f45b5929dd00d71bdfc"
            ],
            "layout": "IPY_MODEL_e3cba89e56a448d785c656e06eebaf67"
          }
        },
        "6f43329ffc2a4c91acdf06b6bc0ca060": {
          "model_module": "@jupyter-widgets/controls",
          "model_name": "HTMLModel",
          "model_module_version": "1.5.0",
          "state": {
            "_dom_classes": [],
            "_model_module": "@jupyter-widgets/controls",
            "_model_module_version": "1.5.0",
            "_model_name": "HTMLModel",
            "_view_count": null,
            "_view_module": "@jupyter-widgets/controls",
            "_view_module_version": "1.5.0",
            "_view_name": "HTMLView",
            "description": "",
            "description_tooltip": null,
            "layout": "IPY_MODEL_661c1d3ee8b34ffab3ba9d17841d9de9",
            "placeholder": "​",
            "style": "IPY_MODEL_24c95791b6324802acb592b4ab7199bb",
            "value": "Downloading: 100%"
          }
        },
        "39b27c20c47649e8b0ea2d3f025978c7": {
          "model_module": "@jupyter-widgets/controls",
          "model_name": "FloatProgressModel",
          "model_module_version": "1.5.0",
          "state": {
            "_dom_classes": [],
            "_model_module": "@jupyter-widgets/controls",
            "_model_module_version": "1.5.0",
            "_model_name": "FloatProgressModel",
            "_view_count": null,
            "_view_module": "@jupyter-widgets/controls",
            "_view_module_version": "1.5.0",
            "_view_name": "ProgressView",
            "bar_style": "success",
            "description": "",
            "description_tooltip": null,
            "layout": "IPY_MODEL_82c41bda82bb48e6a5fdc85a5aec21f7",
            "max": 112,
            "min": 0,
            "orientation": "horizontal",
            "style": "IPY_MODEL_8164265333c946c08259caddafc3533c",
            "value": 112
          }
        },
        "23d0c1b7490e4f45b5929dd00d71bdfc": {
          "model_module": "@jupyter-widgets/controls",
          "model_name": "HTMLModel",
          "model_module_version": "1.5.0",
          "state": {
            "_dom_classes": [],
            "_model_module": "@jupyter-widgets/controls",
            "_model_module_version": "1.5.0",
            "_model_name": "HTMLModel",
            "_view_count": null,
            "_view_module": "@jupyter-widgets/controls",
            "_view_module_version": "1.5.0",
            "_view_name": "HTMLView",
            "description": "",
            "description_tooltip": null,
            "layout": "IPY_MODEL_1bda2341e6f549ee878b135a072d71b2",
            "placeholder": "​",
            "style": "IPY_MODEL_4c4be4d42dbf401eb316bd53c5b93ae2",
            "value": " 112/112 [00:00&lt;00:00, 1.09kB/s]"
          }
        },
        "e3cba89e56a448d785c656e06eebaf67": {
          "model_module": "@jupyter-widgets/base",
          "model_name": "LayoutModel",
          "model_module_version": "1.2.0",
          "state": {
            "_model_module": "@jupyter-widgets/base",
            "_model_module_version": "1.2.0",
            "_model_name": "LayoutModel",
            "_view_count": null,
            "_view_module": "@jupyter-widgets/base",
            "_view_module_version": "1.2.0",
            "_view_name": "LayoutView",
            "align_content": null,
            "align_items": null,
            "align_self": null,
            "border": null,
            "bottom": null,
            "display": null,
            "flex": null,
            "flex_flow": null,
            "grid_area": null,
            "grid_auto_columns": null,
            "grid_auto_flow": null,
            "grid_auto_rows": null,
            "grid_column": null,
            "grid_gap": null,
            "grid_row": null,
            "grid_template_areas": null,
            "grid_template_columns": null,
            "grid_template_rows": null,
            "height": null,
            "justify_content": null,
            "justify_items": null,
            "left": null,
            "margin": null,
            "max_height": null,
            "max_width": null,
            "min_height": null,
            "min_width": null,
            "object_fit": null,
            "object_position": null,
            "order": null,
            "overflow": null,
            "overflow_x": null,
            "overflow_y": null,
            "padding": null,
            "right": null,
            "top": null,
            "visibility": null,
            "width": null
          }
        },
        "661c1d3ee8b34ffab3ba9d17841d9de9": {
          "model_module": "@jupyter-widgets/base",
          "model_name": "LayoutModel",
          "model_module_version": "1.2.0",
          "state": {
            "_model_module": "@jupyter-widgets/base",
            "_model_module_version": "1.2.0",
            "_model_name": "LayoutModel",
            "_view_count": null,
            "_view_module": "@jupyter-widgets/base",
            "_view_module_version": "1.2.0",
            "_view_name": "LayoutView",
            "align_content": null,
            "align_items": null,
            "align_self": null,
            "border": null,
            "bottom": null,
            "display": null,
            "flex": null,
            "flex_flow": null,
            "grid_area": null,
            "grid_auto_columns": null,
            "grid_auto_flow": null,
            "grid_auto_rows": null,
            "grid_column": null,
            "grid_gap": null,
            "grid_row": null,
            "grid_template_areas": null,
            "grid_template_columns": null,
            "grid_template_rows": null,
            "height": null,
            "justify_content": null,
            "justify_items": null,
            "left": null,
            "margin": null,
            "max_height": null,
            "max_width": null,
            "min_height": null,
            "min_width": null,
            "object_fit": null,
            "object_position": null,
            "order": null,
            "overflow": null,
            "overflow_x": null,
            "overflow_y": null,
            "padding": null,
            "right": null,
            "top": null,
            "visibility": null,
            "width": null
          }
        },
        "24c95791b6324802acb592b4ab7199bb": {
          "model_module": "@jupyter-widgets/controls",
          "model_name": "DescriptionStyleModel",
          "model_module_version": "1.5.0",
          "state": {
            "_model_module": "@jupyter-widgets/controls",
            "_model_module_version": "1.5.0",
            "_model_name": "DescriptionStyleModel",
            "_view_count": null,
            "_view_module": "@jupyter-widgets/base",
            "_view_module_version": "1.2.0",
            "_view_name": "StyleView",
            "description_width": ""
          }
        },
        "82c41bda82bb48e6a5fdc85a5aec21f7": {
          "model_module": "@jupyter-widgets/base",
          "model_name": "LayoutModel",
          "model_module_version": "1.2.0",
          "state": {
            "_model_module": "@jupyter-widgets/base",
            "_model_module_version": "1.2.0",
            "_model_name": "LayoutModel",
            "_view_count": null,
            "_view_module": "@jupyter-widgets/base",
            "_view_module_version": "1.2.0",
            "_view_name": "LayoutView",
            "align_content": null,
            "align_items": null,
            "align_self": null,
            "border": null,
            "bottom": null,
            "display": null,
            "flex": null,
            "flex_flow": null,
            "grid_area": null,
            "grid_auto_columns": null,
            "grid_auto_flow": null,
            "grid_auto_rows": null,
            "grid_column": null,
            "grid_gap": null,
            "grid_row": null,
            "grid_template_areas": null,
            "grid_template_columns": null,
            "grid_template_rows": null,
            "height": null,
            "justify_content": null,
            "justify_items": null,
            "left": null,
            "margin": null,
            "max_height": null,
            "max_width": null,
            "min_height": null,
            "min_width": null,
            "object_fit": null,
            "object_position": null,
            "order": null,
            "overflow": null,
            "overflow_x": null,
            "overflow_y": null,
            "padding": null,
            "right": null,
            "top": null,
            "visibility": null,
            "width": null
          }
        },
        "8164265333c946c08259caddafc3533c": {
          "model_module": "@jupyter-widgets/controls",
          "model_name": "ProgressStyleModel",
          "model_module_version": "1.5.0",
          "state": {
            "_model_module": "@jupyter-widgets/controls",
            "_model_module_version": "1.5.0",
            "_model_name": "ProgressStyleModel",
            "_view_count": null,
            "_view_module": "@jupyter-widgets/base",
            "_view_module_version": "1.2.0",
            "_view_name": "StyleView",
            "bar_color": null,
            "description_width": ""
          }
        },
        "1bda2341e6f549ee878b135a072d71b2": {
          "model_module": "@jupyter-widgets/base",
          "model_name": "LayoutModel",
          "model_module_version": "1.2.0",
          "state": {
            "_model_module": "@jupyter-widgets/base",
            "_model_module_version": "1.2.0",
            "_model_name": "LayoutModel",
            "_view_count": null,
            "_view_module": "@jupyter-widgets/base",
            "_view_module_version": "1.2.0",
            "_view_name": "LayoutView",
            "align_content": null,
            "align_items": null,
            "align_self": null,
            "border": null,
            "bottom": null,
            "display": null,
            "flex": null,
            "flex_flow": null,
            "grid_area": null,
            "grid_auto_columns": null,
            "grid_auto_flow": null,
            "grid_auto_rows": null,
            "grid_column": null,
            "grid_gap": null,
            "grid_row": null,
            "grid_template_areas": null,
            "grid_template_columns": null,
            "grid_template_rows": null,
            "height": null,
            "justify_content": null,
            "justify_items": null,
            "left": null,
            "margin": null,
            "max_height": null,
            "max_width": null,
            "min_height": null,
            "min_width": null,
            "object_fit": null,
            "object_position": null,
            "order": null,
            "overflow": null,
            "overflow_x": null,
            "overflow_y": null,
            "padding": null,
            "right": null,
            "top": null,
            "visibility": null,
            "width": null
          }
        },
        "4c4be4d42dbf401eb316bd53c5b93ae2": {
          "model_module": "@jupyter-widgets/controls",
          "model_name": "DescriptionStyleModel",
          "model_module_version": "1.5.0",
          "state": {
            "_model_module": "@jupyter-widgets/controls",
            "_model_module_version": "1.5.0",
            "_model_name": "DescriptionStyleModel",
            "_view_count": null,
            "_view_module": "@jupyter-widgets/base",
            "_view_module_version": "1.2.0",
            "_view_name": "StyleView",
            "description_width": ""
          }
        },
        "115a02db9b34464fa5fffcbacd7118b3": {
          "model_module": "@jupyter-widgets/controls",
          "model_name": "HBoxModel",
          "model_module_version": "1.5.0",
          "state": {
            "_dom_classes": [],
            "_model_module": "@jupyter-widgets/controls",
            "_model_module_version": "1.5.0",
            "_model_name": "HBoxModel",
            "_view_count": null,
            "_view_module": "@jupyter-widgets/controls",
            "_view_module_version": "1.5.0",
            "_view_name": "HBoxView",
            "box_style": "",
            "children": [
              "IPY_MODEL_697f2a58fa9b4220a594745fab79c0b9",
              "IPY_MODEL_0154ffb578e2408db32ca02b655bdb78",
              "IPY_MODEL_80f46984365f425da55f0ce8763efcc2"
            ],
            "layout": "IPY_MODEL_b4d8d63ae46749179e90763700e54c0d"
          }
        },
        "697f2a58fa9b4220a594745fab79c0b9": {
          "model_module": "@jupyter-widgets/controls",
          "model_name": "HTMLModel",
          "model_module_version": "1.5.0",
          "state": {
            "_dom_classes": [],
            "_model_module": "@jupyter-widgets/controls",
            "_model_module_version": "1.5.0",
            "_model_name": "HTMLModel",
            "_view_count": null,
            "_view_module": "@jupyter-widgets/controls",
            "_view_module_version": "1.5.0",
            "_view_name": "HTMLView",
            "description": "",
            "description_tooltip": null,
            "layout": "IPY_MODEL_664e11546b424a42b1b0dc72a4dbc227",
            "placeholder": "​",
            "style": "IPY_MODEL_e46dad67e60f42c0b39480a4ea4d1e7a",
            "value": "Downloading: 100%"
          }
        },
        "0154ffb578e2408db32ca02b655bdb78": {
          "model_module": "@jupyter-widgets/controls",
          "model_name": "FloatProgressModel",
          "model_module_version": "1.5.0",
          "state": {
            "_dom_classes": [],
            "_model_module": "@jupyter-widgets/controls",
            "_model_module_version": "1.5.0",
            "_model_name": "FloatProgressModel",
            "_view_count": null,
            "_view_module": "@jupyter-widgets/controls",
            "_view_module_version": "1.5.0",
            "_view_name": "ProgressView",
            "bar_style": "success",
            "description": "",
            "description_tooltip": null,
            "layout": "IPY_MODEL_5fdf302f50434ca3b34860dbff98e2f2",
            "max": 466081,
            "min": 0,
            "orientation": "horizontal",
            "style": "IPY_MODEL_ab7cd513e6c04e39a24476cd337b1262",
            "value": 466081
          }
        },
        "80f46984365f425da55f0ce8763efcc2": {
          "model_module": "@jupyter-widgets/controls",
          "model_name": "HTMLModel",
          "model_module_version": "1.5.0",
          "state": {
            "_dom_classes": [],
            "_model_module": "@jupyter-widgets/controls",
            "_model_module_version": "1.5.0",
            "_model_name": "HTMLModel",
            "_view_count": null,
            "_view_module": "@jupyter-widgets/controls",
            "_view_module_version": "1.5.0",
            "_view_name": "HTMLView",
            "description": "",
            "description_tooltip": null,
            "layout": "IPY_MODEL_1b6611587dc74be69d6daf7f2beb28d0",
            "placeholder": "​",
            "style": "IPY_MODEL_a39fad2e34d7492497a55837ede6ff01",
            "value": " 466k/466k [00:00&lt;00:00, 6.52kB/s]"
          }
        },
        "b4d8d63ae46749179e90763700e54c0d": {
          "model_module": "@jupyter-widgets/base",
          "model_name": "LayoutModel",
          "model_module_version": "1.2.0",
          "state": {
            "_model_module": "@jupyter-widgets/base",
            "_model_module_version": "1.2.0",
            "_model_name": "LayoutModel",
            "_view_count": null,
            "_view_module": "@jupyter-widgets/base",
            "_view_module_version": "1.2.0",
            "_view_name": "LayoutView",
            "align_content": null,
            "align_items": null,
            "align_self": null,
            "border": null,
            "bottom": null,
            "display": null,
            "flex": null,
            "flex_flow": null,
            "grid_area": null,
            "grid_auto_columns": null,
            "grid_auto_flow": null,
            "grid_auto_rows": null,
            "grid_column": null,
            "grid_gap": null,
            "grid_row": null,
            "grid_template_areas": null,
            "grid_template_columns": null,
            "grid_template_rows": null,
            "height": null,
            "justify_content": null,
            "justify_items": null,
            "left": null,
            "margin": null,
            "max_height": null,
            "max_width": null,
            "min_height": null,
            "min_width": null,
            "object_fit": null,
            "object_position": null,
            "order": null,
            "overflow": null,
            "overflow_x": null,
            "overflow_y": null,
            "padding": null,
            "right": null,
            "top": null,
            "visibility": null,
            "width": null
          }
        },
        "664e11546b424a42b1b0dc72a4dbc227": {
          "model_module": "@jupyter-widgets/base",
          "model_name": "LayoutModel",
          "model_module_version": "1.2.0",
          "state": {
            "_model_module": "@jupyter-widgets/base",
            "_model_module_version": "1.2.0",
            "_model_name": "LayoutModel",
            "_view_count": null,
            "_view_module": "@jupyter-widgets/base",
            "_view_module_version": "1.2.0",
            "_view_name": "LayoutView",
            "align_content": null,
            "align_items": null,
            "align_self": null,
            "border": null,
            "bottom": null,
            "display": null,
            "flex": null,
            "flex_flow": null,
            "grid_area": null,
            "grid_auto_columns": null,
            "grid_auto_flow": null,
            "grid_auto_rows": null,
            "grid_column": null,
            "grid_gap": null,
            "grid_row": null,
            "grid_template_areas": null,
            "grid_template_columns": null,
            "grid_template_rows": null,
            "height": null,
            "justify_content": null,
            "justify_items": null,
            "left": null,
            "margin": null,
            "max_height": null,
            "max_width": null,
            "min_height": null,
            "min_width": null,
            "object_fit": null,
            "object_position": null,
            "order": null,
            "overflow": null,
            "overflow_x": null,
            "overflow_y": null,
            "padding": null,
            "right": null,
            "top": null,
            "visibility": null,
            "width": null
          }
        },
        "e46dad67e60f42c0b39480a4ea4d1e7a": {
          "model_module": "@jupyter-widgets/controls",
          "model_name": "DescriptionStyleModel",
          "model_module_version": "1.5.0",
          "state": {
            "_model_module": "@jupyter-widgets/controls",
            "_model_module_version": "1.5.0",
            "_model_name": "DescriptionStyleModel",
            "_view_count": null,
            "_view_module": "@jupyter-widgets/base",
            "_view_module_version": "1.2.0",
            "_view_name": "StyleView",
            "description_width": ""
          }
        },
        "5fdf302f50434ca3b34860dbff98e2f2": {
          "model_module": "@jupyter-widgets/base",
          "model_name": "LayoutModel",
          "model_module_version": "1.2.0",
          "state": {
            "_model_module": "@jupyter-widgets/base",
            "_model_module_version": "1.2.0",
            "_model_name": "LayoutModel",
            "_view_count": null,
            "_view_module": "@jupyter-widgets/base",
            "_view_module_version": "1.2.0",
            "_view_name": "LayoutView",
            "align_content": null,
            "align_items": null,
            "align_self": null,
            "border": null,
            "bottom": null,
            "display": null,
            "flex": null,
            "flex_flow": null,
            "grid_area": null,
            "grid_auto_columns": null,
            "grid_auto_flow": null,
            "grid_auto_rows": null,
            "grid_column": null,
            "grid_gap": null,
            "grid_row": null,
            "grid_template_areas": null,
            "grid_template_columns": null,
            "grid_template_rows": null,
            "height": null,
            "justify_content": null,
            "justify_items": null,
            "left": null,
            "margin": null,
            "max_height": null,
            "max_width": null,
            "min_height": null,
            "min_width": null,
            "object_fit": null,
            "object_position": null,
            "order": null,
            "overflow": null,
            "overflow_x": null,
            "overflow_y": null,
            "padding": null,
            "right": null,
            "top": null,
            "visibility": null,
            "width": null
          }
        },
        "ab7cd513e6c04e39a24476cd337b1262": {
          "model_module": "@jupyter-widgets/controls",
          "model_name": "ProgressStyleModel",
          "model_module_version": "1.5.0",
          "state": {
            "_model_module": "@jupyter-widgets/controls",
            "_model_module_version": "1.5.0",
            "_model_name": "ProgressStyleModel",
            "_view_count": null,
            "_view_module": "@jupyter-widgets/base",
            "_view_module_version": "1.2.0",
            "_view_name": "StyleView",
            "bar_color": null,
            "description_width": ""
          }
        },
        "1b6611587dc74be69d6daf7f2beb28d0": {
          "model_module": "@jupyter-widgets/base",
          "model_name": "LayoutModel",
          "model_module_version": "1.2.0",
          "state": {
            "_model_module": "@jupyter-widgets/base",
            "_model_module_version": "1.2.0",
            "_model_name": "LayoutModel",
            "_view_count": null,
            "_view_module": "@jupyter-widgets/base",
            "_view_module_version": "1.2.0",
            "_view_name": "LayoutView",
            "align_content": null,
            "align_items": null,
            "align_self": null,
            "border": null,
            "bottom": null,
            "display": null,
            "flex": null,
            "flex_flow": null,
            "grid_area": null,
            "grid_auto_columns": null,
            "grid_auto_flow": null,
            "grid_auto_rows": null,
            "grid_column": null,
            "grid_gap": null,
            "grid_row": null,
            "grid_template_areas": null,
            "grid_template_columns": null,
            "grid_template_rows": null,
            "height": null,
            "justify_content": null,
            "justify_items": null,
            "left": null,
            "margin": null,
            "max_height": null,
            "max_width": null,
            "min_height": null,
            "min_width": null,
            "object_fit": null,
            "object_position": null,
            "order": null,
            "overflow": null,
            "overflow_x": null,
            "overflow_y": null,
            "padding": null,
            "right": null,
            "top": null,
            "visibility": null,
            "width": null
          }
        },
        "a39fad2e34d7492497a55837ede6ff01": {
          "model_module": "@jupyter-widgets/controls",
          "model_name": "DescriptionStyleModel",
          "model_module_version": "1.5.0",
          "state": {
            "_model_module": "@jupyter-widgets/controls",
            "_model_module_version": "1.5.0",
            "_model_name": "DescriptionStyleModel",
            "_view_count": null,
            "_view_module": "@jupyter-widgets/base",
            "_view_module_version": "1.2.0",
            "_view_name": "StyleView",
            "description_width": ""
          }
        },
        "ae3ae30190cd4bc5b3968e10c46361eb": {
          "model_module": "@jupyter-widgets/controls",
          "model_name": "HBoxModel",
          "model_module_version": "1.5.0",
          "state": {
            "_dom_classes": [],
            "_model_module": "@jupyter-widgets/controls",
            "_model_module_version": "1.5.0",
            "_model_name": "HBoxModel",
            "_view_count": null,
            "_view_module": "@jupyter-widgets/controls",
            "_view_module_version": "1.5.0",
            "_view_name": "HBoxView",
            "box_style": "",
            "children": [
              "IPY_MODEL_4b5c554ea6904de9be704b2bc57b69f1",
              "IPY_MODEL_e98ae14d47814c70b4bb6665ea1088fe",
              "IPY_MODEL_c00b33793c5545898b0e7adb2ead9897"
            ],
            "layout": "IPY_MODEL_5b3fdd72346d456d91d5fb30780a942c"
          }
        },
        "4b5c554ea6904de9be704b2bc57b69f1": {
          "model_module": "@jupyter-widgets/controls",
          "model_name": "HTMLModel",
          "model_module_version": "1.5.0",
          "state": {
            "_dom_classes": [],
            "_model_module": "@jupyter-widgets/controls",
            "_model_module_version": "1.5.0",
            "_model_name": "HTMLModel",
            "_view_count": null,
            "_view_module": "@jupyter-widgets/controls",
            "_view_module_version": "1.5.0",
            "_view_name": "HTMLView",
            "description": "",
            "description_tooltip": null,
            "layout": "IPY_MODEL_0f9da0b5da684c56a7541e0bb6544965",
            "placeholder": "​",
            "style": "IPY_MODEL_6ec7f125862843c8bbc05d91a72c3e02",
            "value": "Downloading: 100%"
          }
        },
        "e98ae14d47814c70b4bb6665ea1088fe": {
          "model_module": "@jupyter-widgets/controls",
          "model_name": "FloatProgressModel",
          "model_module_version": "1.5.0",
          "state": {
            "_dom_classes": [],
            "_model_module": "@jupyter-widgets/controls",
            "_model_module_version": "1.5.0",
            "_model_name": "FloatProgressModel",
            "_view_count": null,
            "_view_module": "@jupyter-widgets/controls",
            "_view_module_version": "1.5.0",
            "_view_name": "ProgressView",
            "bar_style": "success",
            "description": "",
            "description_tooltip": null,
            "layout": "IPY_MODEL_d596412bd2b3468083da11c32027601f",
            "max": 314,
            "min": 0,
            "orientation": "horizontal",
            "style": "IPY_MODEL_f823271b321d4ae8a358702015b00956",
            "value": 314
          }
        },
        "c00b33793c5545898b0e7adb2ead9897": {
          "model_module": "@jupyter-widgets/controls",
          "model_name": "HTMLModel",
          "model_module_version": "1.5.0",
          "state": {
            "_dom_classes": [],
            "_model_module": "@jupyter-widgets/controls",
            "_model_module_version": "1.5.0",
            "_model_name": "HTMLModel",
            "_view_count": null,
            "_view_module": "@jupyter-widgets/controls",
            "_view_module_version": "1.5.0",
            "_view_name": "HTMLView",
            "description": "",
            "description_tooltip": null,
            "layout": "IPY_MODEL_1ae08a522de0471697d0f439f082fc36",
            "placeholder": "​",
            "style": "IPY_MODEL_e4f3c46b26564233aa9b38a6d256a21a",
            "value": " 314/314 [00:00&lt;00:00, 5.54kB/s]"
          }
        },
        "5b3fdd72346d456d91d5fb30780a942c": {
          "model_module": "@jupyter-widgets/base",
          "model_name": "LayoutModel",
          "model_module_version": "1.2.0",
          "state": {
            "_model_module": "@jupyter-widgets/base",
            "_model_module_version": "1.2.0",
            "_model_name": "LayoutModel",
            "_view_count": null,
            "_view_module": "@jupyter-widgets/base",
            "_view_module_version": "1.2.0",
            "_view_name": "LayoutView",
            "align_content": null,
            "align_items": null,
            "align_self": null,
            "border": null,
            "bottom": null,
            "display": null,
            "flex": null,
            "flex_flow": null,
            "grid_area": null,
            "grid_auto_columns": null,
            "grid_auto_flow": null,
            "grid_auto_rows": null,
            "grid_column": null,
            "grid_gap": null,
            "grid_row": null,
            "grid_template_areas": null,
            "grid_template_columns": null,
            "grid_template_rows": null,
            "height": null,
            "justify_content": null,
            "justify_items": null,
            "left": null,
            "margin": null,
            "max_height": null,
            "max_width": null,
            "min_height": null,
            "min_width": null,
            "object_fit": null,
            "object_position": null,
            "order": null,
            "overflow": null,
            "overflow_x": null,
            "overflow_y": null,
            "padding": null,
            "right": null,
            "top": null,
            "visibility": null,
            "width": null
          }
        },
        "0f9da0b5da684c56a7541e0bb6544965": {
          "model_module": "@jupyter-widgets/base",
          "model_name": "LayoutModel",
          "model_module_version": "1.2.0",
          "state": {
            "_model_module": "@jupyter-widgets/base",
            "_model_module_version": "1.2.0",
            "_model_name": "LayoutModel",
            "_view_count": null,
            "_view_module": "@jupyter-widgets/base",
            "_view_module_version": "1.2.0",
            "_view_name": "LayoutView",
            "align_content": null,
            "align_items": null,
            "align_self": null,
            "border": null,
            "bottom": null,
            "display": null,
            "flex": null,
            "flex_flow": null,
            "grid_area": null,
            "grid_auto_columns": null,
            "grid_auto_flow": null,
            "grid_auto_rows": null,
            "grid_column": null,
            "grid_gap": null,
            "grid_row": null,
            "grid_template_areas": null,
            "grid_template_columns": null,
            "grid_template_rows": null,
            "height": null,
            "justify_content": null,
            "justify_items": null,
            "left": null,
            "margin": null,
            "max_height": null,
            "max_width": null,
            "min_height": null,
            "min_width": null,
            "object_fit": null,
            "object_position": null,
            "order": null,
            "overflow": null,
            "overflow_x": null,
            "overflow_y": null,
            "padding": null,
            "right": null,
            "top": null,
            "visibility": null,
            "width": null
          }
        },
        "6ec7f125862843c8bbc05d91a72c3e02": {
          "model_module": "@jupyter-widgets/controls",
          "model_name": "DescriptionStyleModel",
          "model_module_version": "1.5.0",
          "state": {
            "_model_module": "@jupyter-widgets/controls",
            "_model_module_version": "1.5.0",
            "_model_name": "DescriptionStyleModel",
            "_view_count": null,
            "_view_module": "@jupyter-widgets/base",
            "_view_module_version": "1.2.0",
            "_view_name": "StyleView",
            "description_width": ""
          }
        },
        "d596412bd2b3468083da11c32027601f": {
          "model_module": "@jupyter-widgets/base",
          "model_name": "LayoutModel",
          "model_module_version": "1.2.0",
          "state": {
            "_model_module": "@jupyter-widgets/base",
            "_model_module_version": "1.2.0",
            "_model_name": "LayoutModel",
            "_view_count": null,
            "_view_module": "@jupyter-widgets/base",
            "_view_module_version": "1.2.0",
            "_view_name": "LayoutView",
            "align_content": null,
            "align_items": null,
            "align_self": null,
            "border": null,
            "bottom": null,
            "display": null,
            "flex": null,
            "flex_flow": null,
            "grid_area": null,
            "grid_auto_columns": null,
            "grid_auto_flow": null,
            "grid_auto_rows": null,
            "grid_column": null,
            "grid_gap": null,
            "grid_row": null,
            "grid_template_areas": null,
            "grid_template_columns": null,
            "grid_template_rows": null,
            "height": null,
            "justify_content": null,
            "justify_items": null,
            "left": null,
            "margin": null,
            "max_height": null,
            "max_width": null,
            "min_height": null,
            "min_width": null,
            "object_fit": null,
            "object_position": null,
            "order": null,
            "overflow": null,
            "overflow_x": null,
            "overflow_y": null,
            "padding": null,
            "right": null,
            "top": null,
            "visibility": null,
            "width": null
          }
        },
        "f823271b321d4ae8a358702015b00956": {
          "model_module": "@jupyter-widgets/controls",
          "model_name": "ProgressStyleModel",
          "model_module_version": "1.5.0",
          "state": {
            "_model_module": "@jupyter-widgets/controls",
            "_model_module_version": "1.5.0",
            "_model_name": "ProgressStyleModel",
            "_view_count": null,
            "_view_module": "@jupyter-widgets/base",
            "_view_module_version": "1.2.0",
            "_view_name": "StyleView",
            "bar_color": null,
            "description_width": ""
          }
        },
        "1ae08a522de0471697d0f439f082fc36": {
          "model_module": "@jupyter-widgets/base",
          "model_name": "LayoutModel",
          "model_module_version": "1.2.0",
          "state": {
            "_model_module": "@jupyter-widgets/base",
            "_model_module_version": "1.2.0",
            "_model_name": "LayoutModel",
            "_view_count": null,
            "_view_module": "@jupyter-widgets/base",
            "_view_module_version": "1.2.0",
            "_view_name": "LayoutView",
            "align_content": null,
            "align_items": null,
            "align_self": null,
            "border": null,
            "bottom": null,
            "display": null,
            "flex": null,
            "flex_flow": null,
            "grid_area": null,
            "grid_auto_columns": null,
            "grid_auto_flow": null,
            "grid_auto_rows": null,
            "grid_column": null,
            "grid_gap": null,
            "grid_row": null,
            "grid_template_areas": null,
            "grid_template_columns": null,
            "grid_template_rows": null,
            "height": null,
            "justify_content": null,
            "justify_items": null,
            "left": null,
            "margin": null,
            "max_height": null,
            "max_width": null,
            "min_height": null,
            "min_width": null,
            "object_fit": null,
            "object_position": null,
            "order": null,
            "overflow": null,
            "overflow_x": null,
            "overflow_y": null,
            "padding": null,
            "right": null,
            "top": null,
            "visibility": null,
            "width": null
          }
        },
        "e4f3c46b26564233aa9b38a6d256a21a": {
          "model_module": "@jupyter-widgets/controls",
          "model_name": "DescriptionStyleModel",
          "model_module_version": "1.5.0",
          "state": {
            "_model_module": "@jupyter-widgets/controls",
            "_model_module_version": "1.5.0",
            "_model_name": "DescriptionStyleModel",
            "_view_count": null,
            "_view_module": "@jupyter-widgets/base",
            "_view_module_version": "1.2.0",
            "_view_name": "StyleView",
            "description_width": ""
          }
        },
        "b8274370565749a78d78e7b6c0e8d081": {
          "model_module": "@jupyter-widgets/controls",
          "model_name": "HBoxModel",
          "model_module_version": "1.5.0",
          "state": {
            "_dom_classes": [],
            "_model_module": "@jupyter-widgets/controls",
            "_model_module_version": "1.5.0",
            "_model_name": "HBoxModel",
            "_view_count": null,
            "_view_module": "@jupyter-widgets/controls",
            "_view_module_version": "1.5.0",
            "_view_name": "HBoxView",
            "box_style": "",
            "children": [
              "IPY_MODEL_72d3f42a623749aea3b69202242f6c9a",
              "IPY_MODEL_a63a017cb55f4fd89edd8f216e602cee",
              "IPY_MODEL_1f58be935dc349ad84ae8c54630cb40b"
            ],
            "layout": "IPY_MODEL_ef9957e21ee64f859c7616f95a15fad9"
          }
        },
        "72d3f42a623749aea3b69202242f6c9a": {
          "model_module": "@jupyter-widgets/controls",
          "model_name": "HTMLModel",
          "model_module_version": "1.5.0",
          "state": {
            "_dom_classes": [],
            "_model_module": "@jupyter-widgets/controls",
            "_model_module_version": "1.5.0",
            "_model_name": "HTMLModel",
            "_view_count": null,
            "_view_module": "@jupyter-widgets/controls",
            "_view_module_version": "1.5.0",
            "_view_name": "HTMLView",
            "description": "",
            "description_tooltip": null,
            "layout": "IPY_MODEL_0f8de58b2e6743568bd4785a3844005b",
            "placeholder": "​",
            "style": "IPY_MODEL_4e5494be293541a8ba2e9f2bedf887cb",
            "value": "Downloading: 100%"
          }
        },
        "a63a017cb55f4fd89edd8f216e602cee": {
          "model_module": "@jupyter-widgets/controls",
          "model_name": "FloatProgressModel",
          "model_module_version": "1.5.0",
          "state": {
            "_dom_classes": [],
            "_model_module": "@jupyter-widgets/controls",
            "_model_module_version": "1.5.0",
            "_model_name": "FloatProgressModel",
            "_view_count": null,
            "_view_module": "@jupyter-widgets/controls",
            "_view_module_version": "1.5.0",
            "_view_name": "ProgressView",
            "bar_style": "success",
            "description": "",
            "description_tooltip": null,
            "layout": "IPY_MODEL_d4e73d1a4d14435997327df2636746f8",
            "max": 231508,
            "min": 0,
            "orientation": "horizontal",
            "style": "IPY_MODEL_d4142b5100e746409f86c6a5903e7476",
            "value": 231508
          }
        },
        "1f58be935dc349ad84ae8c54630cb40b": {
          "model_module": "@jupyter-widgets/controls",
          "model_name": "HTMLModel",
          "model_module_version": "1.5.0",
          "state": {
            "_dom_classes": [],
            "_model_module": "@jupyter-widgets/controls",
            "_model_module_version": "1.5.0",
            "_model_name": "HTMLModel",
            "_view_count": null,
            "_view_module": "@jupyter-widgets/controls",
            "_view_module_version": "1.5.0",
            "_view_name": "HTMLView",
            "description": "",
            "description_tooltip": null,
            "layout": "IPY_MODEL_605838306ede464cb667c42a85eb7ba0",
            "placeholder": "​",
            "style": "IPY_MODEL_8edafef554a9423fbd514c877cc9d1fa",
            "value": " 232k/232k [00:00&lt;00:00, 4.80kB/s]"
          }
        },
        "ef9957e21ee64f859c7616f95a15fad9": {
          "model_module": "@jupyter-widgets/base",
          "model_name": "LayoutModel",
          "model_module_version": "1.2.0",
          "state": {
            "_model_module": "@jupyter-widgets/base",
            "_model_module_version": "1.2.0",
            "_model_name": "LayoutModel",
            "_view_count": null,
            "_view_module": "@jupyter-widgets/base",
            "_view_module_version": "1.2.0",
            "_view_name": "LayoutView",
            "align_content": null,
            "align_items": null,
            "align_self": null,
            "border": null,
            "bottom": null,
            "display": null,
            "flex": null,
            "flex_flow": null,
            "grid_area": null,
            "grid_auto_columns": null,
            "grid_auto_flow": null,
            "grid_auto_rows": null,
            "grid_column": null,
            "grid_gap": null,
            "grid_row": null,
            "grid_template_areas": null,
            "grid_template_columns": null,
            "grid_template_rows": null,
            "height": null,
            "justify_content": null,
            "justify_items": null,
            "left": null,
            "margin": null,
            "max_height": null,
            "max_width": null,
            "min_height": null,
            "min_width": null,
            "object_fit": null,
            "object_position": null,
            "order": null,
            "overflow": null,
            "overflow_x": null,
            "overflow_y": null,
            "padding": null,
            "right": null,
            "top": null,
            "visibility": null,
            "width": null
          }
        },
        "0f8de58b2e6743568bd4785a3844005b": {
          "model_module": "@jupyter-widgets/base",
          "model_name": "LayoutModel",
          "model_module_version": "1.2.0",
          "state": {
            "_model_module": "@jupyter-widgets/base",
            "_model_module_version": "1.2.0",
            "_model_name": "LayoutModel",
            "_view_count": null,
            "_view_module": "@jupyter-widgets/base",
            "_view_module_version": "1.2.0",
            "_view_name": "LayoutView",
            "align_content": null,
            "align_items": null,
            "align_self": null,
            "border": null,
            "bottom": null,
            "display": null,
            "flex": null,
            "flex_flow": null,
            "grid_area": null,
            "grid_auto_columns": null,
            "grid_auto_flow": null,
            "grid_auto_rows": null,
            "grid_column": null,
            "grid_gap": null,
            "grid_row": null,
            "grid_template_areas": null,
            "grid_template_columns": null,
            "grid_template_rows": null,
            "height": null,
            "justify_content": null,
            "justify_items": null,
            "left": null,
            "margin": null,
            "max_height": null,
            "max_width": null,
            "min_height": null,
            "min_width": null,
            "object_fit": null,
            "object_position": null,
            "order": null,
            "overflow": null,
            "overflow_x": null,
            "overflow_y": null,
            "padding": null,
            "right": null,
            "top": null,
            "visibility": null,
            "width": null
          }
        },
        "4e5494be293541a8ba2e9f2bedf887cb": {
          "model_module": "@jupyter-widgets/controls",
          "model_name": "DescriptionStyleModel",
          "model_module_version": "1.5.0",
          "state": {
            "_model_module": "@jupyter-widgets/controls",
            "_model_module_version": "1.5.0",
            "_model_name": "DescriptionStyleModel",
            "_view_count": null,
            "_view_module": "@jupyter-widgets/base",
            "_view_module_version": "1.2.0",
            "_view_name": "StyleView",
            "description_width": ""
          }
        },
        "d4e73d1a4d14435997327df2636746f8": {
          "model_module": "@jupyter-widgets/base",
          "model_name": "LayoutModel",
          "model_module_version": "1.2.0",
          "state": {
            "_model_module": "@jupyter-widgets/base",
            "_model_module_version": "1.2.0",
            "_model_name": "LayoutModel",
            "_view_count": null,
            "_view_module": "@jupyter-widgets/base",
            "_view_module_version": "1.2.0",
            "_view_name": "LayoutView",
            "align_content": null,
            "align_items": null,
            "align_self": null,
            "border": null,
            "bottom": null,
            "display": null,
            "flex": null,
            "flex_flow": null,
            "grid_area": null,
            "grid_auto_columns": null,
            "grid_auto_flow": null,
            "grid_auto_rows": null,
            "grid_column": null,
            "grid_gap": null,
            "grid_row": null,
            "grid_template_areas": null,
            "grid_template_columns": null,
            "grid_template_rows": null,
            "height": null,
            "justify_content": null,
            "justify_items": null,
            "left": null,
            "margin": null,
            "max_height": null,
            "max_width": null,
            "min_height": null,
            "min_width": null,
            "object_fit": null,
            "object_position": null,
            "order": null,
            "overflow": null,
            "overflow_x": null,
            "overflow_y": null,
            "padding": null,
            "right": null,
            "top": null,
            "visibility": null,
            "width": null
          }
        },
        "d4142b5100e746409f86c6a5903e7476": {
          "model_module": "@jupyter-widgets/controls",
          "model_name": "ProgressStyleModel",
          "model_module_version": "1.5.0",
          "state": {
            "_model_module": "@jupyter-widgets/controls",
            "_model_module_version": "1.5.0",
            "_model_name": "ProgressStyleModel",
            "_view_count": null,
            "_view_module": "@jupyter-widgets/base",
            "_view_module_version": "1.2.0",
            "_view_name": "StyleView",
            "bar_color": null,
            "description_width": ""
          }
        },
        "605838306ede464cb667c42a85eb7ba0": {
          "model_module": "@jupyter-widgets/base",
          "model_name": "LayoutModel",
          "model_module_version": "1.2.0",
          "state": {
            "_model_module": "@jupyter-widgets/base",
            "_model_module_version": "1.2.0",
            "_model_name": "LayoutModel",
            "_view_count": null,
            "_view_module": "@jupyter-widgets/base",
            "_view_module_version": "1.2.0",
            "_view_name": "LayoutView",
            "align_content": null,
            "align_items": null,
            "align_self": null,
            "border": null,
            "bottom": null,
            "display": null,
            "flex": null,
            "flex_flow": null,
            "grid_area": null,
            "grid_auto_columns": null,
            "grid_auto_flow": null,
            "grid_auto_rows": null,
            "grid_column": null,
            "grid_gap": null,
            "grid_row": null,
            "grid_template_areas": null,
            "grid_template_columns": null,
            "grid_template_rows": null,
            "height": null,
            "justify_content": null,
            "justify_items": null,
            "left": null,
            "margin": null,
            "max_height": null,
            "max_width": null,
            "min_height": null,
            "min_width": null,
            "object_fit": null,
            "object_position": null,
            "order": null,
            "overflow": null,
            "overflow_x": null,
            "overflow_y": null,
            "padding": null,
            "right": null,
            "top": null,
            "visibility": null,
            "width": null
          }
        },
        "8edafef554a9423fbd514c877cc9d1fa": {
          "model_module": "@jupyter-widgets/controls",
          "model_name": "DescriptionStyleModel",
          "model_module_version": "1.5.0",
          "state": {
            "_model_module": "@jupyter-widgets/controls",
            "_model_module_version": "1.5.0",
            "_model_name": "DescriptionStyleModel",
            "_view_count": null,
            "_view_module": "@jupyter-widgets/base",
            "_view_module_version": "1.2.0",
            "_view_name": "StyleView",
            "description_width": ""
          }
        }
      }
    }
  },
  "nbformat_minor": 0,
  "nbformat": 4,
  "cells": [
    {
      "cell_type": "markdown",
      "source": [
        "# Assignment 3\n",
        "\n",
        "## Instructions\n",
        "- Run this notebook on ```Google Colab(preferable)```\n",
        "- Write your code and analysis in the indicated cells.\n",
        "- Ensure that this notebook runs without errors when the cells are run in sequence.\n",
        "- Do not attempt to change the contents of other cells. \n",
        "\n",
        "## Packages Used\n",
        "- sklearn [link](https://scikit-learn.org/)\n",
        "- Keras [link](https://keras.io/guides/)\n",
        "\n",
        "## Submission\n",
        "- Rename the notebook to `<roll_number>_Assignment3_Q3.ipynb`.\n",
        "\n",
        "\n",
        "## Question 3\n",
        "Fake news is a widespread problem and there are many methods for combating it.\n",
        "You have to build a fake news detection system using a ML model. Train any ML model (ANN, LSTM) over the given Dataset.\n",
        "The dataset has short statements spoken by people and has the meta-information and corresponding label for those sentences. \n",
        "Your target is label column which has 6 labels(in the increasing order of truthfullness): pants-fire, false, barely-true, half-true, mostly-true, true.\n",
        "\n",
        "The features are 'statement', 'subject', 'speaker', 'job', 'state', 'party', 'barely_true_c', 'false_c', 'half_true_c', 'mostly_true_c', 'pants_on_fire_c', 'venue' and the target is column \"label\".\n",
        "\n",
        "The statement is made by speaker whose job, party are given along with 6 columns which are an account of the  type of news(labels) the person has shared before. \n",
        "The person who has shared fake content before is likely to share it in future and this can be accounted by the ML model as a feature. Column barely_true_c contains how many barely_true news has the speaker shared (and so is with column X_c, value of X_c is number of X the person shared).\n",
        "\n",
        "\n",
        "You have to perform two tasks:\n",
        "* task1: Binary classification <br>\n",
        "Classify the given news as true/false. Take the labels pants-fire, false, barely-true as false and rest (half-true, mostly-true, true) as true.\n",
        "* task2: Six-way classification <br>\n",
        "Classify the given news into six-classes \"pants-fire, false, barely-true, half-true, mostly-true, true\".\n",
        "\n",
        "For each of the tasks:\n",
        "1) Experiment with depth of network and try to fine-tune hyperparameters reporting your observations. <br>\n",
        "2) Report the accuracy, f1-score, confusion matrix on train, val and test sets. <br>\n",
        "3) Experiment with bag-of-words, glove and bert embeddings(code given in the below notebook) and report results. <br> Comment on what is the affect of embedding on the results.\n",
        "\n",
        "The pre-processing code is provided, you need to write the training and test.\n",
        "\n",
        "Note: You are supposed to train on trainset, fine-tune on val and just eval on test set. If found that you trained on val/test sets, the penalty will be incurred."
      ],
      "metadata": {
        "id": "OcaXIJS63C8Y"
      }
    },
    {
      "cell_type": "code",
      "source": [
        "# !pip install numpy\n",
        "# !pip install tensorflow\n",
        "# !pip install re\n",
        "# !pip install nltk\n",
        "# !pip install keras\n",
        "# !pip install sklearn"
      ],
      "metadata": {
        "execution": {
          "iopub.status.busy": "2022-04-13T12:27:25.418591Z",
          "iopub.execute_input": "2022-04-13T12:27:25.419389Z",
          "iopub.status.idle": "2022-04-13T12:27:25.442159Z",
          "shell.execute_reply.started": "2022-04-13T12:27:25.419294Z",
          "shell.execute_reply": "2022-04-13T12:27:25.441453Z"
        },
        "trusted": true,
        "id": "Y7kDaNlR3C8e"
      },
      "execution_count": null,
      "outputs": []
    },
    {
      "cell_type": "code",
      "source": [
        "# Importing libraries\n",
        "import numpy as np\n",
        "import pandas as pd\n",
        "from tensorflow import keras  #feel free to use any other library\n",
        "import numpy as np\n",
        "\n",
        "import re\n",
        "import nltk\n",
        "import numpy as np\n",
        "from nltk.corpus import stopwords\n",
        "from nltk.stem.porter import PorterStemmer\n",
        "nltk.download('stopwords')\n",
        "from sklearn.preprocessing import LabelEncoder, OneHotEncoder\n",
        "from sklearn.feature_extraction.text import CountVectorizer\n",
        "from keras.utils import np_utils\n",
        "from keras.layers import Dense\n",
        "from keras.models import Sequential\n",
        "from keras.layers import LSTM\n",
        "from keras.layers import Embedding\n",
        "from keras.layers import Dropout\n",
        "from sklearn.metrics import multilabel_confusion_matrix\n",
        "from sklearn.metrics import f1_score"
      ],
      "metadata": {
        "id": "Agl6JEo_gaBT",
        "outputId": "b7b50e89-4f56-4381-ff63-fda621d3d32a",
        "execution": {
          "iopub.status.busy": "2022-04-13T13:40:00.869806Z",
          "iopub.execute_input": "2022-04-13T13:40:00.870535Z",
          "iopub.status.idle": "2022-04-13T13:40:00.881305Z",
          "shell.execute_reply.started": "2022-04-13T13:40:00.870478Z",
          "shell.execute_reply": "2022-04-13T13:40:00.880545Z"
        },
        "trusted": true,
        "colab": {
          "base_uri": "https://localhost:8080/"
        }
      },
      "execution_count": 1,
      "outputs": [
        {
          "output_type": "stream",
          "name": "stdout",
          "text": [
            "[nltk_data] Downloading package stopwords to /root/nltk_data...\n",
            "[nltk_data]   Unzipping corpora/stopwords.zip.\n"
          ]
        }
      ]
    },
    {
      "cell_type": "code",
      "source": [
        "# train = pd.read_csv('q3_data/train.csv')\n",
        "# val = pd.read_csv('q3_data/val.csv')\n",
        "# test = pd.read_csv('q3_data/test.csv')\n",
        "\n",
        "train = pd.read_csv('../content/q3_data/train.csv')\n",
        "val = pd.read_csv('../content/q3_data/val.csv')\n",
        "test = pd.read_csv('../content/q3_data/test.csv')"
      ],
      "metadata": {
        "execution": {
          "iopub.status.busy": "2022-04-13T13:04:37.111759Z",
          "iopub.execute_input": "2022-04-13T13:04:37.112182Z",
          "iopub.status.idle": "2022-04-13T13:04:37.243132Z",
          "shell.execute_reply.started": "2022-04-13T13:04:37.112143Z",
          "shell.execute_reply": "2022-04-13T13:04:37.242355Z"
        },
        "trusted": true,
        "id": "-IiEE7K63C8h"
      },
      "execution_count": 2,
      "outputs": []
    },
    {
      "cell_type": "code",
      "source": [
        "# Dropping the 'id' column\n",
        "train.drop('id', axis = 1, inplace = True)\n",
        "test.drop('id', axis = 1, inplace = True)\n",
        "val.drop('id', axis = 1, inplace = True)"
      ],
      "metadata": {
        "id": "enAZ4DvUffVr",
        "execution": {
          "iopub.status.busy": "2022-04-13T13:04:37.245441Z",
          "iopub.execute_input": "2022-04-13T13:04:37.245857Z",
          "iopub.status.idle": "2022-04-13T13:04:37.26571Z",
          "shell.execute_reply.started": "2022-04-13T13:04:37.245816Z",
          "shell.execute_reply": "2022-04-13T13:04:37.264975Z"
        },
        "trusted": true
      },
      "execution_count": 3,
      "outputs": []
    },
    {
      "cell_type": "code",
      "source": [
        "train.head(5)"
      ],
      "metadata": {
        "id": "7pEJ-G4yITrd",
        "outputId": "53bbfdef-01a3-4616-9f5f-fab8e20651a7",
        "execution": {
          "iopub.status.busy": "2022-04-13T13:04:37.267609Z",
          "iopub.execute_input": "2022-04-13T13:04:37.267884Z",
          "iopub.status.idle": "2022-04-13T13:04:37.29021Z",
          "shell.execute_reply.started": "2022-04-13T13:04:37.267847Z",
          "shell.execute_reply": "2022-04-13T13:04:37.289521Z"
        },
        "trusted": true,
        "colab": {
          "base_uri": "https://localhost:8080/",
          "height": 651
        }
      },
      "execution_count": 4,
      "outputs": [
        {
          "output_type": "execute_result",
          "data": {
            "text/plain": [
              "         label                                          statement  \\\n",
              "0        False  Says the Annies List political group supports ...   \n",
              "1    half-true  When did the decline of coal start? It started...   \n",
              "2  mostly-true  Hillary Clinton agrees with John McCain \"by vo...   \n",
              "3        False  Health care reform legislation is likely to ma...   \n",
              "4    half-true  The economic turnaround started at the end of ...   \n",
              "\n",
              "                              subject         speaker                   job  \\\n",
              "0                            abortion    dwayne-bohac  State representative   \n",
              "1  energy,history,job-accomplishments  scott-surovell        State delegate   \n",
              "2                      foreign-policy    barack-obama             President   \n",
              "3                         health-care    blog-posting                   NaN   \n",
              "4                        economy,jobs   charlie-crist                   NaN   \n",
              "\n",
              "      state       party  barely_true_c  false_c  half_true_c  mostly_true_c  \\\n",
              "0     Texas  republican              0        1            0              0   \n",
              "1  Virginia    democrat              0        0            1              1   \n",
              "2  Illinois    democrat             70       71          160            163   \n",
              "3       NaN        none              7       19            3              5   \n",
              "4   Florida    democrat             15        9           20             19   \n",
              "\n",
              "   pants_on_fire_c                venue  \n",
              "0                0             a mailer  \n",
              "1                0      a floor speech.  \n",
              "2                9               Denver  \n",
              "3               44       a news release  \n",
              "4                2  an interview on CNN  "
            ],
            "text/html": [
              "\n",
              "  <div id=\"df-6529d67f-fee1-4d12-bebf-f472bf9a6584\">\n",
              "    <div class=\"colab-df-container\">\n",
              "      <div>\n",
              "<style scoped>\n",
              "    .dataframe tbody tr th:only-of-type {\n",
              "        vertical-align: middle;\n",
              "    }\n",
              "\n",
              "    .dataframe tbody tr th {\n",
              "        vertical-align: top;\n",
              "    }\n",
              "\n",
              "    .dataframe thead th {\n",
              "        text-align: right;\n",
              "    }\n",
              "</style>\n",
              "<table border=\"1\" class=\"dataframe\">\n",
              "  <thead>\n",
              "    <tr style=\"text-align: right;\">\n",
              "      <th></th>\n",
              "      <th>label</th>\n",
              "      <th>statement</th>\n",
              "      <th>subject</th>\n",
              "      <th>speaker</th>\n",
              "      <th>job</th>\n",
              "      <th>state</th>\n",
              "      <th>party</th>\n",
              "      <th>barely_true_c</th>\n",
              "      <th>false_c</th>\n",
              "      <th>half_true_c</th>\n",
              "      <th>mostly_true_c</th>\n",
              "      <th>pants_on_fire_c</th>\n",
              "      <th>venue</th>\n",
              "    </tr>\n",
              "  </thead>\n",
              "  <tbody>\n",
              "    <tr>\n",
              "      <th>0</th>\n",
              "      <td>False</td>\n",
              "      <td>Says the Annies List political group supports ...</td>\n",
              "      <td>abortion</td>\n",
              "      <td>dwayne-bohac</td>\n",
              "      <td>State representative</td>\n",
              "      <td>Texas</td>\n",
              "      <td>republican</td>\n",
              "      <td>0</td>\n",
              "      <td>1</td>\n",
              "      <td>0</td>\n",
              "      <td>0</td>\n",
              "      <td>0</td>\n",
              "      <td>a mailer</td>\n",
              "    </tr>\n",
              "    <tr>\n",
              "      <th>1</th>\n",
              "      <td>half-true</td>\n",
              "      <td>When did the decline of coal start? It started...</td>\n",
              "      <td>energy,history,job-accomplishments</td>\n",
              "      <td>scott-surovell</td>\n",
              "      <td>State delegate</td>\n",
              "      <td>Virginia</td>\n",
              "      <td>democrat</td>\n",
              "      <td>0</td>\n",
              "      <td>0</td>\n",
              "      <td>1</td>\n",
              "      <td>1</td>\n",
              "      <td>0</td>\n",
              "      <td>a floor speech.</td>\n",
              "    </tr>\n",
              "    <tr>\n",
              "      <th>2</th>\n",
              "      <td>mostly-true</td>\n",
              "      <td>Hillary Clinton agrees with John McCain \"by vo...</td>\n",
              "      <td>foreign-policy</td>\n",
              "      <td>barack-obama</td>\n",
              "      <td>President</td>\n",
              "      <td>Illinois</td>\n",
              "      <td>democrat</td>\n",
              "      <td>70</td>\n",
              "      <td>71</td>\n",
              "      <td>160</td>\n",
              "      <td>163</td>\n",
              "      <td>9</td>\n",
              "      <td>Denver</td>\n",
              "    </tr>\n",
              "    <tr>\n",
              "      <th>3</th>\n",
              "      <td>False</td>\n",
              "      <td>Health care reform legislation is likely to ma...</td>\n",
              "      <td>health-care</td>\n",
              "      <td>blog-posting</td>\n",
              "      <td>NaN</td>\n",
              "      <td>NaN</td>\n",
              "      <td>none</td>\n",
              "      <td>7</td>\n",
              "      <td>19</td>\n",
              "      <td>3</td>\n",
              "      <td>5</td>\n",
              "      <td>44</td>\n",
              "      <td>a news release</td>\n",
              "    </tr>\n",
              "    <tr>\n",
              "      <th>4</th>\n",
              "      <td>half-true</td>\n",
              "      <td>The economic turnaround started at the end of ...</td>\n",
              "      <td>economy,jobs</td>\n",
              "      <td>charlie-crist</td>\n",
              "      <td>NaN</td>\n",
              "      <td>Florida</td>\n",
              "      <td>democrat</td>\n",
              "      <td>15</td>\n",
              "      <td>9</td>\n",
              "      <td>20</td>\n",
              "      <td>19</td>\n",
              "      <td>2</td>\n",
              "      <td>an interview on CNN</td>\n",
              "    </tr>\n",
              "  </tbody>\n",
              "</table>\n",
              "</div>\n",
              "      <button class=\"colab-df-convert\" onclick=\"convertToInteractive('df-6529d67f-fee1-4d12-bebf-f472bf9a6584')\"\n",
              "              title=\"Convert this dataframe to an interactive table.\"\n",
              "              style=\"display:none;\">\n",
              "        \n",
              "  <svg xmlns=\"http://www.w3.org/2000/svg\" height=\"24px\"viewBox=\"0 0 24 24\"\n",
              "       width=\"24px\">\n",
              "    <path d=\"M0 0h24v24H0V0z\" fill=\"none\"/>\n",
              "    <path d=\"M18.56 5.44l.94 2.06.94-2.06 2.06-.94-2.06-.94-.94-2.06-.94 2.06-2.06.94zm-11 1L8.5 8.5l.94-2.06 2.06-.94-2.06-.94L8.5 2.5l-.94 2.06-2.06.94zm10 10l.94 2.06.94-2.06 2.06-.94-2.06-.94-.94-2.06-.94 2.06-2.06.94z\"/><path d=\"M17.41 7.96l-1.37-1.37c-.4-.4-.92-.59-1.43-.59-.52 0-1.04.2-1.43.59L10.3 9.45l-7.72 7.72c-.78.78-.78 2.05 0 2.83L4 21.41c.39.39.9.59 1.41.59.51 0 1.02-.2 1.41-.59l7.78-7.78 2.81-2.81c.8-.78.8-2.07 0-2.86zM5.41 20L4 18.59l7.72-7.72 1.47 1.35L5.41 20z\"/>\n",
              "  </svg>\n",
              "      </button>\n",
              "      \n",
              "  <style>\n",
              "    .colab-df-container {\n",
              "      display:flex;\n",
              "      flex-wrap:wrap;\n",
              "      gap: 12px;\n",
              "    }\n",
              "\n",
              "    .colab-df-convert {\n",
              "      background-color: #E8F0FE;\n",
              "      border: none;\n",
              "      border-radius: 50%;\n",
              "      cursor: pointer;\n",
              "      display: none;\n",
              "      fill: #1967D2;\n",
              "      height: 32px;\n",
              "      padding: 0 0 0 0;\n",
              "      width: 32px;\n",
              "    }\n",
              "\n",
              "    .colab-df-convert:hover {\n",
              "      background-color: #E2EBFA;\n",
              "      box-shadow: 0px 1px 2px rgba(60, 64, 67, 0.3), 0px 1px 3px 1px rgba(60, 64, 67, 0.15);\n",
              "      fill: #174EA6;\n",
              "    }\n",
              "\n",
              "    [theme=dark] .colab-df-convert {\n",
              "      background-color: #3B4455;\n",
              "      fill: #D2E3FC;\n",
              "    }\n",
              "\n",
              "    [theme=dark] .colab-df-convert:hover {\n",
              "      background-color: #434B5C;\n",
              "      box-shadow: 0px 1px 3px 1px rgba(0, 0, 0, 0.15);\n",
              "      filter: drop-shadow(0px 1px 2px rgba(0, 0, 0, 0.3));\n",
              "      fill: #FFFFFF;\n",
              "    }\n",
              "  </style>\n",
              "\n",
              "      <script>\n",
              "        const buttonEl =\n",
              "          document.querySelector('#df-6529d67f-fee1-4d12-bebf-f472bf9a6584 button.colab-df-convert');\n",
              "        buttonEl.style.display =\n",
              "          google.colab.kernel.accessAllowed ? 'block' : 'none';\n",
              "\n",
              "        async function convertToInteractive(key) {\n",
              "          const element = document.querySelector('#df-6529d67f-fee1-4d12-bebf-f472bf9a6584');\n",
              "          const dataTable =\n",
              "            await google.colab.kernel.invokeFunction('convertToInteractive',\n",
              "                                                     [key], {});\n",
              "          if (!dataTable) return;\n",
              "\n",
              "          const docLinkHtml = 'Like what you see? Visit the ' +\n",
              "            '<a target=\"_blank\" href=https://colab.research.google.com/notebooks/data_table.ipynb>data table notebook</a>'\n",
              "            + ' to learn more about interactive tables.';\n",
              "          element.innerHTML = '';\n",
              "          dataTable['output_type'] = 'display_data';\n",
              "          await google.colab.output.renderOutput(dataTable, element);\n",
              "          const docLink = document.createElement('div');\n",
              "          docLink.innerHTML = docLinkHtml;\n",
              "          element.appendChild(docLink);\n",
              "        }\n",
              "      </script>\n",
              "    </div>\n",
              "  </div>\n",
              "  "
            ]
          },
          "metadata": {},
          "execution_count": 4
        }
      ]
    },
    {
      "cell_type": "code",
      "source": [
        "# Checking the shape of data\n",
        "print(train.shape)\n",
        "print(val.shape)\n",
        "print(test.shape)"
      ],
      "metadata": {
        "id": "UbFqDO8_U6df",
        "outputId": "6bf1361c-f294-4743-f798-c3f2ef956ecb",
        "execution": {
          "iopub.status.busy": "2022-04-13T13:04:37.291474Z",
          "iopub.execute_input": "2022-04-13T13:04:37.291737Z",
          "iopub.status.idle": "2022-04-13T13:04:37.296874Z",
          "shell.execute_reply.started": "2022-04-13T13:04:37.2917Z",
          "shell.execute_reply": "2022-04-13T13:04:37.295944Z"
        },
        "trusted": true,
        "colab": {
          "base_uri": "https://localhost:8080/"
        }
      },
      "execution_count": 5,
      "outputs": [
        {
          "output_type": "stream",
          "name": "stdout",
          "text": [
            "(10269, 13)\n",
            "(1284, 13)\n",
            "(1283, 13)\n"
          ]
        }
      ]
    },
    {
      "cell_type": "markdown",
      "source": [
        "## Clean and pre-process data\n",
        "* Replace missing values\n",
        "* Remove numbers and special characters\n",
        "* Convert to upper-case\n",
        "\n",
        "We experiment with two types of processing, one directly appending the other attributes like subject, job, state, party to sentence and then applying bag of words on it.\n",
        "\n",
        "Other being encoding sentence with glove embeddings and passing just that."
      ],
      "metadata": {
        "id": "BeKr3G0p3C8k"
      }
    },
    {
      "cell_type": "code",
      "source": [
        "\n",
        "def dataPreprocessing(data):\n",
        "    '''Function for cleaning the dataset\n",
        "    '''\n",
        "    corpus = []\n",
        "    # Missing values\n",
        "    data[\"job\"].fillna(\"no-job\", inplace = True)\n",
        "    data[\"state\"].fillna(\"no-state\", inplace = True)\n",
        "\n",
        "    for x in range(data.shape[0]):\n",
        "        statement = re.sub('[^a-zA-Z]', ' ', data['statement'][x]) # Removing all numbers and special characters\n",
        "        statement = statement.lower() # Converting uppercase to lowercase\n",
        "        statement = statement.split()\n",
        "        \n",
        "        # you can experiment with any other stemmers\n",
        "        ps = PorterStemmer()\n",
        "        statement = [ps.stem(word) for word in statement if not word in set(stopwords.words('english'))] # Stemming the dataset and removing stopwords\n",
        "        statement = ' '.join(statement)\n",
        "        subject = data['subject'][x].replace(',', ' ')\n",
        "        speaker = data['speaker'][x]\n",
        "        job = data['job'][x].lower()\n",
        "        # job = job.replace(' ', '-')\n",
        "        state = data['state'][x].lower()\n",
        "        party = data['party'][x].lower()\n",
        "        corpus.append(statement + ' '  + subject + ' ' + job + ' ' + state + ' ' + party)\n",
        "    return corpus"
      ],
      "metadata": {
        "id": "w7tTpAClApgJ",
        "execution": {
          "iopub.status.busy": "2022-04-13T13:04:41.794188Z",
          "iopub.execute_input": "2022-04-13T13:04:41.794463Z",
          "iopub.status.idle": "2022-04-13T13:04:41.804242Z",
          "shell.execute_reply.started": "2022-04-13T13:04:41.794429Z",
          "shell.execute_reply": "2022-04-13T13:04:41.803546Z"
        },
        "trusted": true
      },
      "execution_count": 6,
      "outputs": []
    },
    {
      "cell_type": "code",
      "source": [
        "x_train = dataPreprocessing(train)\n",
        "x_val = dataPreprocessing(val) \n",
        "x_test = dataPreprocessing(test) "
      ],
      "metadata": {
        "id": "uy1ikPhJ9LoS",
        "execution": {
          "iopub.status.busy": "2022-04-13T13:04:44.366464Z",
          "iopub.execute_input": "2022-04-13T13:04:44.367501Z",
          "iopub.status.idle": "2022-04-13T13:05:18.609586Z",
          "shell.execute_reply.started": "2022-04-13T13:04:44.367443Z",
          "shell.execute_reply": "2022-04-13T13:05:18.608762Z"
        },
        "trusted": true
      },
      "execution_count": 7,
      "outputs": []
    },
    {
      "cell_type": "code",
      "source": [
        "len(x_train), len(x_val), len(x_test)"
      ],
      "metadata": {
        "execution": {
          "iopub.status.busy": "2022-04-13T13:05:18.611325Z",
          "iopub.execute_input": "2022-04-13T13:05:18.611594Z",
          "iopub.status.idle": "2022-04-13T13:05:18.620055Z",
          "shell.execute_reply.started": "2022-04-13T13:05:18.611556Z",
          "shell.execute_reply": "2022-04-13T13:05:18.619159Z"
        },
        "trusted": true,
        "colab": {
          "base_uri": "https://localhost:8080/"
        },
        "id": "jgKo5_Qc3C8m",
        "outputId": "245ef8b5-8546-4dd8-d508-0142d929c933"
      },
      "execution_count": 8,
      "outputs": [
        {
          "output_type": "execute_result",
          "data": {
            "text/plain": [
              "(10269, 1284, 1283)"
            ]
          },
          "metadata": {},
          "execution_count": 8
        }
      ]
    },
    {
      "cell_type": "code",
      "source": [
        "corpus = x_train + x_val + x_test"
      ],
      "metadata": {
        "execution": {
          "iopub.status.busy": "2022-04-13T13:05:18.621692Z",
          "iopub.execute_input": "2022-04-13T13:05:18.622013Z",
          "iopub.status.idle": "2022-04-13T13:05:18.628438Z",
          "shell.execute_reply.started": "2022-04-13T13:05:18.621976Z",
          "shell.execute_reply": "2022-04-13T13:05:18.627302Z"
        },
        "trusted": true,
        "id": "SNaG4hZp3C8m"
      },
      "execution_count": 9,
      "outputs": []
    },
    {
      "cell_type": "markdown",
      "source": [
        "## Using bag-of-words embedding\n"
      ],
      "metadata": {
        "id": "_BhfWe-k3C8m"
      }
    },
    {
      "cell_type": "code",
      "source": [
        "# Converting the corpus into bag-of-words\n",
        "cv = CountVectorizer(max_features = 8000)\n",
        "X = cv.fit_transform(corpus).toarray()"
      ],
      "metadata": {
        "id": "sopw2zusZwn4",
        "execution": {
          "iopub.status.busy": "2022-04-13T13:05:18.630982Z",
          "iopub.execute_input": "2022-04-13T13:05:18.631319Z",
          "iopub.status.idle": "2022-04-13T13:05:19.190415Z",
          "shell.execute_reply.started": "2022-04-13T13:05:18.631283Z",
          "shell.execute_reply": "2022-04-13T13:05:19.189605Z"
        },
        "trusted": true
      },
      "execution_count": 10,
      "outputs": []
    },
    {
      "cell_type": "code",
      "source": [
        "X"
      ],
      "metadata": {
        "execution": {
          "iopub.status.busy": "2022-04-13T13:05:19.191917Z",
          "iopub.execute_input": "2022-04-13T13:05:19.192186Z",
          "iopub.status.idle": "2022-04-13T13:05:19.200872Z",
          "shell.execute_reply.started": "2022-04-13T13:05:19.192148Z",
          "shell.execute_reply": "2022-04-13T13:05:19.200197Z"
        },
        "trusted": true,
        "colab": {
          "base_uri": "https://localhost:8080/"
        },
        "id": "SsRguUIm3C8n",
        "outputId": "37edc255-0d0d-4d03-c5fb-788eebf23ad8"
      },
      "execution_count": 11,
      "outputs": [
        {
          "output_type": "execute_result",
          "data": {
            "text/plain": [
              "array([[0, 0, 0, ..., 0, 0, 0],\n",
              "       [0, 0, 0, ..., 0, 0, 0],\n",
              "       [0, 0, 0, ..., 0, 0, 0],\n",
              "       ...,\n",
              "       [0, 0, 0, ..., 0, 0, 0],\n",
              "       [1, 0, 0, ..., 0, 0, 0],\n",
              "       [0, 0, 0, ..., 0, 0, 0]])"
            ]
          },
          "metadata": {},
          "execution_count": 11
        }
      ]
    },
    {
      "cell_type": "code",
      "source": [
        "X.shape"
      ],
      "metadata": {
        "id": "o06bP9FJEaMU",
        "outputId": "1fe6d440-e9d3-440b-ca62-cc7929b3247a",
        "execution": {
          "iopub.status.busy": "2022-04-13T13:05:19.202049Z",
          "iopub.execute_input": "2022-04-13T13:05:19.202668Z",
          "iopub.status.idle": "2022-04-13T13:05:19.210409Z",
          "shell.execute_reply.started": "2022-04-13T13:05:19.202607Z",
          "shell.execute_reply": "2022-04-13T13:05:19.209673Z"
        },
        "trusted": true,
        "colab": {
          "base_uri": "https://localhost:8080/"
        }
      },
      "execution_count": 12,
      "outputs": [
        {
          "output_type": "execute_result",
          "data": {
            "text/plain": [
              "(12836, 8000)"
            ]
          },
          "metadata": {},
          "execution_count": 12
        }
      ]
    },
    {
      "cell_type": "code",
      "source": [
        "train.columns"
      ],
      "metadata": {
        "execution": {
          "iopub.status.busy": "2022-04-13T13:05:19.211758Z",
          "iopub.execute_input": "2022-04-13T13:05:19.212254Z",
          "iopub.status.idle": "2022-04-13T13:05:19.21982Z",
          "shell.execute_reply.started": "2022-04-13T13:05:19.212216Z",
          "shell.execute_reply": "2022-04-13T13:05:19.218998Z"
        },
        "trusted": true,
        "colab": {
          "base_uri": "https://localhost:8080/"
        },
        "id": "e6F5fYoa3C8o",
        "outputId": "17a929d6-9f57-4d5b-ea63-9084ca058b83"
      },
      "execution_count": 13,
      "outputs": [
        {
          "output_type": "execute_result",
          "data": {
            "text/plain": [
              "Index(['label', 'statement', 'subject', 'speaker', 'job', 'state', 'party',\n",
              "       'barely_true_c', 'false_c', 'half_true_c', 'mostly_true_c',\n",
              "       'pants_on_fire_c', 'venue'],\n",
              "      dtype='object')"
            ]
          },
          "metadata": {},
          "execution_count": 13
        }
      ]
    },
    {
      "cell_type": "code",
      "source": [
        "# Selecting the columns 'barely_true_c',\t'false_c',\t'half_true_c',\t'mostly_true_c',\t'pants_on_fire_c'\n",
        "label_cols = ['barely_true_c', 'false_c', 'half_true_c', 'mostly_true_c',\n",
        "       'pants_on_fire_c']\n",
        "x_train2 = train[label_cols]\n",
        "x_val2 = val[label_cols]\n",
        "x_test2 = test[label_cols]"
      ],
      "metadata": {
        "id": "RCqMgDpiLDhu",
        "execution": {
          "iopub.status.busy": "2022-04-13T13:05:19.221325Z",
          "iopub.execute_input": "2022-04-13T13:05:19.221602Z",
          "iopub.status.idle": "2022-04-13T13:05:19.230867Z",
          "shell.execute_reply.started": "2022-04-13T13:05:19.221564Z",
          "shell.execute_reply": "2022-04-13T13:05:19.230093Z"
        },
        "trusted": true
      },
      "execution_count": 14,
      "outputs": []
    },
    {
      "cell_type": "code",
      "source": [
        "# Stacking x_train and x_train2 horizontally\n",
        "x_train_bow = np.hstack((X[:len(x_train)], x_train2))\n",
        "x_val_bow = np.hstack((X[len(x_train):len(x_train)+len(x_val)], x_val2))\n",
        "x_test_bow = np.hstack((X[len(x_train)+len(x_val):], x_test2))"
      ],
      "metadata": {
        "id": "QglKXzA_w6DH",
        "execution": {
          "iopub.status.busy": "2022-04-13T13:05:19.232831Z",
          "iopub.execute_input": "2022-04-13T13:05:19.233911Z",
          "iopub.status.idle": "2022-04-13T13:05:19.549848Z",
          "shell.execute_reply.started": "2022-04-13T13:05:19.233878Z",
          "shell.execute_reply": "2022-04-13T13:05:19.549023Z"
        },
        "trusted": true
      },
      "execution_count": 15,
      "outputs": []
    },
    {
      "cell_type": "code",
      "source": [
        "x_train_bow.shape"
      ],
      "metadata": {
        "id": "E3pskgViw99U",
        "outputId": "2429424b-40ff-4f5d-913c-eac4a7edd92a",
        "execution": {
          "iopub.status.busy": "2022-04-13T13:05:19.554204Z",
          "iopub.execute_input": "2022-04-13T13:05:19.554748Z",
          "iopub.status.idle": "2022-04-13T13:05:19.560151Z",
          "shell.execute_reply.started": "2022-04-13T13:05:19.554713Z",
          "shell.execute_reply": "2022-04-13T13:05:19.559472Z"
        },
        "trusted": true,
        "colab": {
          "base_uri": "https://localhost:8080/"
        }
      },
      "execution_count": 16,
      "outputs": [
        {
          "output_type": "execute_result",
          "data": {
            "text/plain": [
              "(10269, 8005)"
            ]
          },
          "metadata": {},
          "execution_count": 16
        }
      ]
    },
    {
      "cell_type": "markdown",
      "source": [
        "## Use of Glove Embedding\n"
      ],
      "metadata": {
        "id": "4La5OJAP3C8p"
      }
    },
    {
      "cell_type": "markdown",
      "source": [
        "download glove embeddings from 'https://nlp.stanford.edu/data/glove.6B.zip','glove.6B.zip'\n",
        "and place in your current working folder\n"
      ],
      "metadata": {
        "id": "8RF9UKnV3C8p"
      }
    },
    {
      "cell_type": "code",
      "source": [
        "!wget https://nlp.stanford.edu/data/glove.6B.zip\n",
        "!unzip \"glove.6B.zip\" -d \"glove\""
      ],
      "metadata": {
        "execution": {
          "iopub.status.busy": "2022-04-13T12:28:07.430195Z",
          "iopub.execute_input": "2022-04-13T12:28:07.430648Z",
          "iopub.status.idle": "2022-04-13T12:31:09.467539Z",
          "shell.execute_reply.started": "2022-04-13T12:28:07.430599Z",
          "shell.execute_reply": "2022-04-13T12:31:09.466679Z"
        },
        "trusted": true,
        "colab": {
          "base_uri": "https://localhost:8080/"
        },
        "id": "E6HW_Vpy3C8p",
        "outputId": "143e533f-f190-4f3e-9fd6-e2575d525f15"
      },
      "execution_count": 17,
      "outputs": [
        {
          "output_type": "stream",
          "name": "stdout",
          "text": [
            "--2022-04-16 00:57:38--  https://nlp.stanford.edu/data/glove.6B.zip\n",
            "Resolving nlp.stanford.edu (nlp.stanford.edu)... 171.64.67.140\n",
            "Connecting to nlp.stanford.edu (nlp.stanford.edu)|171.64.67.140|:443... connected.\n",
            "HTTP request sent, awaiting response... 301 Moved Permanently\n",
            "Location: http://downloads.cs.stanford.edu/nlp/data/glove.6B.zip [following]\n",
            "--2022-04-16 00:57:39--  http://downloads.cs.stanford.edu/nlp/data/glove.6B.zip\n",
            "Resolving downloads.cs.stanford.edu (downloads.cs.stanford.edu)... 171.64.64.22\n",
            "Connecting to downloads.cs.stanford.edu (downloads.cs.stanford.edu)|171.64.64.22|:80... connected.\n",
            "HTTP request sent, awaiting response... 200 OK\n",
            "Length: 862182613 (822M) [application/zip]\n",
            "Saving to: ‘glove.6B.zip’\n",
            "\n",
            "glove.6B.zip        100%[===================>] 822.24M  5.05MB/s    in 2m 40s  \n",
            "\n",
            "2022-04-16 01:00:19 (5.13 MB/s) - ‘glove.6B.zip’ saved [862182613/862182613]\n",
            "\n",
            "Archive:  glove.6B.zip\n",
            "  inflating: glove/glove.6B.50d.txt  \n",
            "  inflating: glove/glove.6B.100d.txt  \n",
            "  inflating: glove/glove.6B.200d.txt  \n",
            "  inflating: glove/glove.6B.300d.txt  \n"
          ]
        }
      ]
    },
    {
      "cell_type": "code",
      "source": [
        "emmbed_dict = {}\n",
        "with open('glove/glove.6B.200d.txt','r') as f:\n",
        "  for line in f:\n",
        "    values = line.split()\n",
        "    word = values[0]\n",
        "    vector = np.asarray(values[1:],'float32')\n",
        "    emmbed_dict[word]=vector\n"
      ],
      "metadata": {
        "execution": {
          "iopub.status.busy": "2022-04-13T13:05:19.561731Z",
          "iopub.execute_input": "2022-04-13T13:05:19.562206Z",
          "iopub.status.idle": "2022-04-13T13:05:40.894084Z",
          "shell.execute_reply.started": "2022-04-13T13:05:19.562168Z",
          "shell.execute_reply": "2022-04-13T13:05:40.893302Z"
        },
        "trusted": true,
        "id": "SDeBYkhQ3C8p"
      },
      "execution_count": 18,
      "outputs": []
    },
    {
      "cell_type": "code",
      "source": [
        "emmbed_dict['oov'] = np.zeros(200)"
      ],
      "metadata": {
        "execution": {
          "iopub.status.busy": "2022-04-13T13:05:40.896585Z",
          "iopub.execute_input": "2022-04-13T13:05:40.896869Z",
          "iopub.status.idle": "2022-04-13T13:05:40.902929Z",
          "shell.execute_reply.started": "2022-04-13T13:05:40.896832Z",
          "shell.execute_reply": "2022-04-13T13:05:40.902162Z"
        },
        "trusted": true,
        "id": "UZq7eSHJ3C8q"
      },
      "execution_count": 19,
      "outputs": []
    },
    {
      "cell_type": "code",
      "source": [
        "pip install sentence-transformers"
      ],
      "metadata": {
        "execution": {
          "iopub.status.busy": "2022-04-13T13:05:40.904583Z",
          "iopub.execute_input": "2022-04-13T13:05:40.905165Z",
          "iopub.status.idle": "2022-04-13T13:05:49.602567Z",
          "shell.execute_reply.started": "2022-04-13T13:05:40.905123Z",
          "shell.execute_reply": "2022-04-13T13:05:49.601587Z"
        },
        "trusted": true,
        "colab": {
          "base_uri": "https://localhost:8080/"
        },
        "id": "Qz6JaCoL3C8q",
        "outputId": "0b5011f6-ac4d-4460-8b1e-600888bb003f"
      },
      "execution_count": 20,
      "outputs": [
        {
          "output_type": "stream",
          "name": "stdout",
          "text": [
            "Collecting sentence-transformers\n",
            "  Downloading sentence-transformers-2.2.0.tar.gz (79 kB)\n",
            "\u001b[K     |████████████████████████████████| 79 kB 3.2 MB/s \n",
            "\u001b[?25hCollecting transformers<5.0.0,>=4.6.0\n",
            "  Downloading transformers-4.18.0-py3-none-any.whl (4.0 MB)\n",
            "\u001b[K     |████████████████████████████████| 4.0 MB 11.2 MB/s \n",
            "\u001b[?25hRequirement already satisfied: tqdm in /usr/local/lib/python3.7/dist-packages (from sentence-transformers) (4.64.0)\n",
            "Requirement already satisfied: torch>=1.6.0 in /usr/local/lib/python3.7/dist-packages (from sentence-transformers) (1.10.0+cu111)\n",
            "Requirement already satisfied: torchvision in /usr/local/lib/python3.7/dist-packages (from sentence-transformers) (0.11.1+cu111)\n",
            "Requirement already satisfied: numpy in /usr/local/lib/python3.7/dist-packages (from sentence-transformers) (1.21.5)\n",
            "Requirement already satisfied: scikit-learn in /usr/local/lib/python3.7/dist-packages (from sentence-transformers) (1.0.2)\n",
            "Requirement already satisfied: scipy in /usr/local/lib/python3.7/dist-packages (from sentence-transformers) (1.4.1)\n",
            "Requirement already satisfied: nltk in /usr/local/lib/python3.7/dist-packages (from sentence-transformers) (3.2.5)\n",
            "Collecting sentencepiece\n",
            "  Downloading sentencepiece-0.1.96-cp37-cp37m-manylinux_2_17_x86_64.manylinux2014_x86_64.whl (1.2 MB)\n",
            "\u001b[K     |████████████████████████████████| 1.2 MB 51.6 MB/s \n",
            "\u001b[?25hCollecting huggingface-hub\n",
            "  Downloading huggingface_hub-0.5.1-py3-none-any.whl (77 kB)\n",
            "\u001b[K     |████████████████████████████████| 77 kB 6.6 MB/s \n",
            "\u001b[?25hRequirement already satisfied: typing-extensions in /usr/local/lib/python3.7/dist-packages (from torch>=1.6.0->sentence-transformers) (4.1.1)\n",
            "Requirement already satisfied: packaging>=20.0 in /usr/local/lib/python3.7/dist-packages (from transformers<5.0.0,>=4.6.0->sentence-transformers) (21.3)\n",
            "Requirement already satisfied: requests in /usr/local/lib/python3.7/dist-packages (from transformers<5.0.0,>=4.6.0->sentence-transformers) (2.23.0)\n",
            "Requirement already satisfied: regex!=2019.12.17 in /usr/local/lib/python3.7/dist-packages (from transformers<5.0.0,>=4.6.0->sentence-transformers) (2019.12.20)\n",
            "Collecting sacremoses\n",
            "  Downloading sacremoses-0.0.49-py3-none-any.whl (895 kB)\n",
            "\u001b[K     |████████████████████████████████| 895 kB 33.8 MB/s \n",
            "\u001b[?25hCollecting pyyaml>=5.1\n",
            "  Downloading PyYAML-6.0-cp37-cp37m-manylinux_2_5_x86_64.manylinux1_x86_64.manylinux_2_12_x86_64.manylinux2010_x86_64.whl (596 kB)\n",
            "\u001b[K     |████████████████████████████████| 596 kB 56.0 MB/s \n",
            "\u001b[?25hRequirement already satisfied: importlib-metadata in /usr/local/lib/python3.7/dist-packages (from transformers<5.0.0,>=4.6.0->sentence-transformers) (4.11.3)\n",
            "Collecting tokenizers!=0.11.3,<0.13,>=0.11.1\n",
            "  Downloading tokenizers-0.12.1-cp37-cp37m-manylinux_2_12_x86_64.manylinux2010_x86_64.whl (6.6 MB)\n",
            "\u001b[K     |████████████████████████████████| 6.6 MB 39.9 MB/s \n",
            "\u001b[?25hRequirement already satisfied: filelock in /usr/local/lib/python3.7/dist-packages (from transformers<5.0.0,>=4.6.0->sentence-transformers) (3.6.0)\n",
            "Requirement already satisfied: pyparsing!=3.0.5,>=2.0.2 in /usr/local/lib/python3.7/dist-packages (from packaging>=20.0->transformers<5.0.0,>=4.6.0->sentence-transformers) (3.0.8)\n",
            "Requirement already satisfied: zipp>=0.5 in /usr/local/lib/python3.7/dist-packages (from importlib-metadata->transformers<5.0.0,>=4.6.0->sentence-transformers) (3.8.0)\n",
            "Requirement already satisfied: six in /usr/local/lib/python3.7/dist-packages (from nltk->sentence-transformers) (1.15.0)\n",
            "Requirement already satisfied: chardet<4,>=3.0.2 in /usr/local/lib/python3.7/dist-packages (from requests->transformers<5.0.0,>=4.6.0->sentence-transformers) (3.0.4)\n",
            "Requirement already satisfied: certifi>=2017.4.17 in /usr/local/lib/python3.7/dist-packages (from requests->transformers<5.0.0,>=4.6.0->sentence-transformers) (2021.10.8)\n",
            "Requirement already satisfied: urllib3!=1.25.0,!=1.25.1,<1.26,>=1.21.1 in /usr/local/lib/python3.7/dist-packages (from requests->transformers<5.0.0,>=4.6.0->sentence-transformers) (1.24.3)\n",
            "Requirement already satisfied: idna<3,>=2.5 in /usr/local/lib/python3.7/dist-packages (from requests->transformers<5.0.0,>=4.6.0->sentence-transformers) (2.10)\n",
            "Requirement already satisfied: joblib in /usr/local/lib/python3.7/dist-packages (from sacremoses->transformers<5.0.0,>=4.6.0->sentence-transformers) (1.1.0)\n",
            "Requirement already satisfied: click in /usr/local/lib/python3.7/dist-packages (from sacremoses->transformers<5.0.0,>=4.6.0->sentence-transformers) (7.1.2)\n",
            "Requirement already satisfied: threadpoolctl>=2.0.0 in /usr/local/lib/python3.7/dist-packages (from scikit-learn->sentence-transformers) (3.1.0)\n",
            "Requirement already satisfied: pillow!=8.3.0,>=5.3.0 in /usr/local/lib/python3.7/dist-packages (from torchvision->sentence-transformers) (7.1.2)\n",
            "Building wheels for collected packages: sentence-transformers\n",
            "  Building wheel for sentence-transformers (setup.py) ... \u001b[?25l\u001b[?25hdone\n",
            "  Created wheel for sentence-transformers: filename=sentence_transformers-2.2.0-py3-none-any.whl size=120747 sha256=4ea5bb7358506016d3a05946176ead860de6e535b725567930d2b8300ac94533\n",
            "  Stored in directory: /root/.cache/pip/wheels/83/c0/df/b6873ab7aac3f2465aa9144b6b4c41c4391cfecc027c8b07e7\n",
            "Successfully built sentence-transformers\n",
            "Installing collected packages: pyyaml, tokenizers, sacremoses, huggingface-hub, transformers, sentencepiece, sentence-transformers\n",
            "  Attempting uninstall: pyyaml\n",
            "    Found existing installation: PyYAML 3.13\n",
            "    Uninstalling PyYAML-3.13:\n",
            "      Successfully uninstalled PyYAML-3.13\n",
            "Successfully installed huggingface-hub-0.5.1 pyyaml-6.0 sacremoses-0.0.49 sentence-transformers-2.2.0 sentencepiece-0.1.96 tokenizers-0.12.1 transformers-4.18.0\n"
          ]
        }
      ]
    },
    {
      "cell_type": "code",
      "source": [
        "from sentence_transformers import SentenceTransformer\n",
        "model = SentenceTransformer('paraphrase-MiniLM-L6-v2')"
      ],
      "metadata": {
        "execution": {
          "iopub.status.busy": "2022-04-13T13:05:49.605287Z",
          "iopub.execute_input": "2022-04-13T13:05:49.605534Z",
          "iopub.status.idle": "2022-04-13T13:05:56.538079Z",
          "shell.execute_reply.started": "2022-04-13T13:05:49.605502Z",
          "shell.execute_reply": "2022-04-13T13:05:56.537295Z"
        },
        "trusted": true,
        "colab": {
          "base_uri": "https://localhost:8080/",
          "height": 400,
          "referenced_widgets": [
            "c94efa41a6734aea84ecf72521528b18",
            "c47692d5b631429db5eeec79e678cab6",
            "9bb01666ea9e4b89b7fb6248758c48ea",
            "96cabdda314c4eebbdba5445a9561cd6",
            "f21aca0bbd63436d9a137e9f13c3433a",
            "55b5ce81c47c4485a552e47df3df764f",
            "7e109907b7784d2f8fbfb1ae3e3906b6",
            "3da60a25ba444f2a9a864315e465d5bd",
            "64f3618a16e8439ea3bfd26eb9ef2599",
            "7bf7666a0c334aeeb09287b2527d5fe0",
            "b3f09424f2194d8c88d069a7c9694f85",
            "017f1d6ef4b24281893a0f0c61336fb7",
            "cce7bce30d5143bfb51630e53f0f745b",
            "84e35b209f5c4ac5b589f06b10b64cf2",
            "4d4de27a7e3e45888feb296702ae8d3d",
            "901766e73d9a4c908fec0ef64a183d12",
            "21c7b6a2b26f4607a5df35925fc21f39",
            "2e2dfc3e032c4d078bd13d82cba28896",
            "c7aabea778a4427d92ada27d7b307e22",
            "405c8552f31a4b59acce5c05e13cdadb",
            "b20921250da84564a94d165fae396601",
            "12a42b513c9b440baeddac399587fc28",
            "3e29c0410b174587a85b7f119a3c6c38",
            "68df17f0245d43418ae1cfb0b94b4485",
            "dc33126c3bf447feba638be1a3fcef75",
            "d0eb5a30981f48679744896edfa51314",
            "918c27f8fee34382a10e96d0d092a9c4",
            "8ec98a47c2d7433f9b5964c61c62d7cb",
            "a0c778682f6643f4b84eec6d9dfbc30e",
            "947f282658fd46ba98944a9d08b3b8e2",
            "de5f216fa627426a81f1490cafcc1533",
            "776ff37818b649fcb19532ba2aa0f40f",
            "806a40e2a33d4304bc39899ceacb8392",
            "1c68cf78b1674300b383ce294ddf4fc4",
            "95ed8a6e64d9418cbc2ba6ba4691965c",
            "cdc92741dfc64886b661df5a5a4c84a6",
            "64a773cc2a6c406eabff9b3c281b8f3a",
            "2f08ec05f4e441db9bcdafa2d07503c4",
            "3486e3bc137d4b34bbaef55fd43545e9",
            "f9042240f128432b87cf41df3838ab0e",
            "b66f6d5596c047739a3cb87a4e5e0e90",
            "80e170465f764ffcb52eef3ba316904f",
            "e810c1b531c84e3e83863864c0b9d218",
            "f5ab4cf942bd46b395ec9049bf9531d1",
            "a5a6772e4fe84b3cbb4247d6cfab8f06",
            "88186fea8d304ce4808547ac92b9fe17",
            "57c20c321e3e45b48266df756b0f4e92",
            "498b4d6ba3754c7c8a7af2cd53c9b72c",
            "b7546ac2591c491fbd8712d759af5738",
            "23cdb178590144b6a4b02a732a568ac3",
            "97390c3761054a588e72af6eddd3cf97",
            "5ca124f5cc6a41f28dbad2d9b8a33873",
            "f854c30083d14598ac5b084ce7851758",
            "0744364fabe54b77b5e2c3d6f498b54b",
            "07dadbc5566f4b45ab9c4b1079960691",
            "b047768ecf284d869fabdbe547558d51",
            "f871bd53e82f4ee08710b1e8ffb79c82",
            "b9843a2742a9456d9ed00fb796a49bcf",
            "9c48fd689d5d460fb4ffc0e449cd2281",
            "7165d117d108408bb73c9e0e2478451a",
            "e65de5e1f04447dc8e57de3f7489c216",
            "e1c1edc1ca6c4c5c99c3b4be87fef7d2",
            "4ee2d4ad7afd4d718ecf31c06d87c5e5",
            "5fb5bfea41d84ac0a4eed2a33fb5a1ec",
            "a3b3cecec6cd45bcadb8dab7a399944a",
            "0cf17e62200349e9a08b9332a12b9186",
            "9c47f3cd159d475cbd12a1f3f2635300",
            "7048492d39204c16a8b53375acecae45",
            "40e5a54b479b4e21beed3170a621dd2e",
            "6cf0a5456d1c4e8cad54de6c8b9bcdfb",
            "5b1c4064af3b40ffb975b63b181d7c64",
            "6cf9ed8cfc9e45a7bcb6ce7a1360d44d",
            "e3036484d50e4eb9bf4856af251e1f8a",
            "faf441eb07914086a29555a1a1c43067",
            "b2af1d0c4d394020b5b9cb1eab3cdd59",
            "1e7f5612a5ef4b4b8a6b0cab97965c44",
            "a5e1a497f3044c91978ad2acff719091",
            "42518ace5e4f44eca7b77a43bd1e99e9",
            "51c6dd314c9d4bab850508e1eb840442",
            "424586c8360844e78c9f05f2ab045b33",
            "4bd17c8d5de94d24b6e4fb6475116fc7",
            "200fc6cb974c4200a7e7eb37f175c659",
            "b829ee25f10246818d3268090c9cad26",
            "51fe5a2acd6b421ebcf7a37247786c97",
            "8b5136e6207a45edb2e8f4bf8ff9dac6",
            "c0705e72162c48518320a17195d01e9f",
            "78356b15d3ad4427bceb61a70589b0d0",
            "90aa1a19960f42479507d131ac3aafcc",
            "83fcf9dde0b14b988d0c4f5aa871f179",
            "6f43329ffc2a4c91acdf06b6bc0ca060",
            "39b27c20c47649e8b0ea2d3f025978c7",
            "23d0c1b7490e4f45b5929dd00d71bdfc",
            "e3cba89e56a448d785c656e06eebaf67",
            "661c1d3ee8b34ffab3ba9d17841d9de9",
            "24c95791b6324802acb592b4ab7199bb",
            "82c41bda82bb48e6a5fdc85a5aec21f7",
            "8164265333c946c08259caddafc3533c",
            "1bda2341e6f549ee878b135a072d71b2",
            "4c4be4d42dbf401eb316bd53c5b93ae2",
            "115a02db9b34464fa5fffcbacd7118b3",
            "697f2a58fa9b4220a594745fab79c0b9",
            "0154ffb578e2408db32ca02b655bdb78",
            "80f46984365f425da55f0ce8763efcc2",
            "b4d8d63ae46749179e90763700e54c0d",
            "664e11546b424a42b1b0dc72a4dbc227",
            "e46dad67e60f42c0b39480a4ea4d1e7a",
            "5fdf302f50434ca3b34860dbff98e2f2",
            "ab7cd513e6c04e39a24476cd337b1262",
            "1b6611587dc74be69d6daf7f2beb28d0",
            "a39fad2e34d7492497a55837ede6ff01",
            "ae3ae30190cd4bc5b3968e10c46361eb",
            "4b5c554ea6904de9be704b2bc57b69f1",
            "e98ae14d47814c70b4bb6665ea1088fe",
            "c00b33793c5545898b0e7adb2ead9897",
            "5b3fdd72346d456d91d5fb30780a942c",
            "0f9da0b5da684c56a7541e0bb6544965",
            "6ec7f125862843c8bbc05d91a72c3e02",
            "d596412bd2b3468083da11c32027601f",
            "f823271b321d4ae8a358702015b00956",
            "1ae08a522de0471697d0f439f082fc36",
            "e4f3c46b26564233aa9b38a6d256a21a",
            "b8274370565749a78d78e7b6c0e8d081",
            "72d3f42a623749aea3b69202242f6c9a",
            "a63a017cb55f4fd89edd8f216e602cee",
            "1f58be935dc349ad84ae8c54630cb40b",
            "ef9957e21ee64f859c7616f95a15fad9",
            "0f8de58b2e6743568bd4785a3844005b",
            "4e5494be293541a8ba2e9f2bedf887cb",
            "d4e73d1a4d14435997327df2636746f8",
            "d4142b5100e746409f86c6a5903e7476",
            "605838306ede464cb667c42a85eb7ba0",
            "8edafef554a9423fbd514c877cc9d1fa"
          ]
        },
        "id": "yr1nhZ9u3C8q",
        "outputId": "c87c797b-98cf-42e8-b331-e9bb2909348e"
      },
      "execution_count": 21,
      "outputs": [
        {
          "output_type": "display_data",
          "data": {
            "text/plain": [
              "Downloading:   0%|          | 0.00/690 [00:00<?, ?B/s]"
            ],
            "application/vnd.jupyter.widget-view+json": {
              "version_major": 2,
              "version_minor": 0,
              "model_id": "c94efa41a6734aea84ecf72521528b18"
            }
          },
          "metadata": {}
        },
        {
          "output_type": "display_data",
          "data": {
            "text/plain": [
              "Downloading:   0%|          | 0.00/190 [00:00<?, ?B/s]"
            ],
            "application/vnd.jupyter.widget-view+json": {
              "version_major": 2,
              "version_minor": 0,
              "model_id": "017f1d6ef4b24281893a0f0c61336fb7"
            }
          },
          "metadata": {}
        },
        {
          "output_type": "display_data",
          "data": {
            "text/plain": [
              "Downloading:   0%|          | 0.00/3.69k [00:00<?, ?B/s]"
            ],
            "application/vnd.jupyter.widget-view+json": {
              "version_major": 2,
              "version_minor": 0,
              "model_id": "3e29c0410b174587a85b7f119a3c6c38"
            }
          },
          "metadata": {}
        },
        {
          "output_type": "display_data",
          "data": {
            "text/plain": [
              "Downloading:   0%|          | 0.00/629 [00:00<?, ?B/s]"
            ],
            "application/vnd.jupyter.widget-view+json": {
              "version_major": 2,
              "version_minor": 0,
              "model_id": "1c68cf78b1674300b383ce294ddf4fc4"
            }
          },
          "metadata": {}
        },
        {
          "output_type": "display_data",
          "data": {
            "text/plain": [
              "Downloading:   0%|          | 0.00/122 [00:00<?, ?B/s]"
            ],
            "application/vnd.jupyter.widget-view+json": {
              "version_major": 2,
              "version_minor": 0,
              "model_id": "a5a6772e4fe84b3cbb4247d6cfab8f06"
            }
          },
          "metadata": {}
        },
        {
          "output_type": "display_data",
          "data": {
            "text/plain": [
              "Downloading:   0%|          | 0.00/229 [00:00<?, ?B/s]"
            ],
            "application/vnd.jupyter.widget-view+json": {
              "version_major": 2,
              "version_minor": 0,
              "model_id": "b047768ecf284d869fabdbe547558d51"
            }
          },
          "metadata": {}
        },
        {
          "output_type": "display_data",
          "data": {
            "text/plain": [
              "Downloading:   0%|          | 0.00/90.9M [00:00<?, ?B/s]"
            ],
            "application/vnd.jupyter.widget-view+json": {
              "version_major": 2,
              "version_minor": 0,
              "model_id": "9c47f3cd159d475cbd12a1f3f2635300"
            }
          },
          "metadata": {}
        },
        {
          "output_type": "display_data",
          "data": {
            "text/plain": [
              "Downloading:   0%|          | 0.00/53.0 [00:00<?, ?B/s]"
            ],
            "application/vnd.jupyter.widget-view+json": {
              "version_major": 2,
              "version_minor": 0,
              "model_id": "42518ace5e4f44eca7b77a43bd1e99e9"
            }
          },
          "metadata": {}
        },
        {
          "output_type": "display_data",
          "data": {
            "text/plain": [
              "Downloading:   0%|          | 0.00/112 [00:00<?, ?B/s]"
            ],
            "application/vnd.jupyter.widget-view+json": {
              "version_major": 2,
              "version_minor": 0,
              "model_id": "83fcf9dde0b14b988d0c4f5aa871f179"
            }
          },
          "metadata": {}
        },
        {
          "output_type": "display_data",
          "data": {
            "text/plain": [
              "Downloading:   0%|          | 0.00/466k [00:00<?, ?B/s]"
            ],
            "application/vnd.jupyter.widget-view+json": {
              "version_major": 2,
              "version_minor": 0,
              "model_id": "115a02db9b34464fa5fffcbacd7118b3"
            }
          },
          "metadata": {}
        },
        {
          "output_type": "display_data",
          "data": {
            "text/plain": [
              "Downloading:   0%|          | 0.00/314 [00:00<?, ?B/s]"
            ],
            "application/vnd.jupyter.widget-view+json": {
              "version_major": 2,
              "version_minor": 0,
              "model_id": "ae3ae30190cd4bc5b3968e10c46361eb"
            }
          },
          "metadata": {}
        },
        {
          "output_type": "display_data",
          "data": {
            "text/plain": [
              "Downloading:   0%|          | 0.00/232k [00:00<?, ?B/s]"
            ],
            "application/vnd.jupyter.widget-view+json": {
              "version_major": 2,
              "version_minor": 0,
              "model_id": "b8274370565749a78d78e7b6c0e8d081"
            }
          },
          "metadata": {}
        }
      ]
    },
    {
      "cell_type": "code",
      "source": [
        "from nltk.tokenize import word_tokenize\n",
        "nltk.download('punkt')\n",
        "def dataPreprocessing_glove(data):\n",
        "    corpus = []\n",
        "    # Missing values\n",
        "    data[\"job\"].fillna(\"no-job\", inplace = True)\n",
        "    data[\"state\"].fillna(\"no-state\", inplace = True)\n",
        "\n",
        "    for x in range(data.shape[0]):\n",
        "        statement = re.sub('[^a-zA-Z]', ' ', data['statement'][x]) # Removing all numbers and special characters\n",
        "        statement = statement.lower() # Converting uppercase to lowercase\n",
        "        statement = word_tokenize(statement)\n",
        "\n",
        "        embed_statement = []\n",
        "        for w in statement:\n",
        "            if w in emmbed_dict:\n",
        "                embed_statement.append(emmbed_dict[w])\n",
        "            else:\n",
        "                embed_statement.append(emmbed_dict['oov'])\n",
        "         \n",
        "        # bonus: Think how you can encode the below features(hint: look upon label encoding or training your own word2vec or any other embedding model)\n",
        "    \n",
        "#         subject = data['subject'][x].replace(',', ' ')\n",
        "#         speaker = data['speaker'][x]\n",
        "#         job = data['job'][x].lower()\n",
        "#         # job = job.replace(' ', '-')\n",
        "#         state = data['state'][x].lower()\n",
        "#         party = data['party'][x].lower()\n",
        "        corpus.append(embed_statement)\n",
        "    \n",
        "    return np.array(corpus)"
      ],
      "metadata": {
        "execution": {
          "iopub.status.busy": "2022-04-13T13:05:56.539496Z",
          "iopub.execute_input": "2022-04-13T13:05:56.539782Z",
          "iopub.status.idle": "2022-04-13T13:05:56.604785Z",
          "shell.execute_reply.started": "2022-04-13T13:05:56.539745Z",
          "shell.execute_reply": "2022-04-13T13:05:56.60384Z"
        },
        "trusted": true,
        "colab": {
          "base_uri": "https://localhost:8080/"
        },
        "id": "u7Qi5OZX3C8q",
        "outputId": "d261dba3-5423-44ad-d62e-b9b881c25384"
      },
      "execution_count": 22,
      "outputs": [
        {
          "output_type": "stream",
          "name": "stdout",
          "text": [
            "[nltk_data] Downloading package punkt to /root/nltk_data...\n",
            "[nltk_data]   Unzipping tokenizers/punkt.zip.\n"
          ]
        }
      ]
    },
    {
      "cell_type": "code",
      "source": [
        "x_train_glove = dataPreprocessing_glove(train)\n",
        "x_val_glove = dataPreprocessing_glove(val) \n",
        "x_test_glove = dataPreprocessing_glove(test) "
      ],
      "metadata": {
        "execution": {
          "iopub.status.busy": "2022-04-13T13:13:06.326859Z",
          "iopub.execute_input": "2022-04-13T13:13:06.327546Z",
          "iopub.status.idle": "2022-04-13T13:13:09.467959Z",
          "shell.execute_reply.started": "2022-04-13T13:13:06.3275Z",
          "shell.execute_reply": "2022-04-13T13:13:09.467166Z"
        },
        "trusted": true,
        "colab": {
          "base_uri": "https://localhost:8080/"
        },
        "id": "2a8Pbexp3C8r",
        "outputId": "53ed2f5e-fd52-447c-f19f-358052a5b91e"
      },
      "execution_count": 23,
      "outputs": [
        {
          "output_type": "stream",
          "name": "stderr",
          "text": [
            "/usr/local/lib/python3.7/dist-packages/ipykernel_launcher.py:31: VisibleDeprecationWarning: Creating an ndarray from ragged nested sequences (which is a list-or-tuple of lists-or-tuples-or ndarrays with different lengths or shapes) is deprecated. If you meant to do this, you must specify 'dtype=object' when creating the ndarray.\n"
          ]
        }
      ]
    },
    {
      "cell_type": "code",
      "source": [
        "x_train_glove = np.hstack((x_train_glove.reshape(-1,1), x_train2))\n",
        "x_val_glove = np.hstack((x_val_glove.reshape(-1,1), x_val2))\n",
        "x_test_glove = np.hstack((x_test_glove.reshape(-1,1), x_test2))"
      ],
      "metadata": {
        "execution": {
          "iopub.status.busy": "2022-04-13T13:13:09.469522Z",
          "iopub.execute_input": "2022-04-13T13:13:09.469904Z",
          "iopub.status.idle": "2022-04-13T13:13:09.477291Z",
          "shell.execute_reply.started": "2022-04-13T13:13:09.469856Z",
          "shell.execute_reply": "2022-04-13T13:13:09.476628Z"
        },
        "trusted": true,
        "id": "nIHVXqDz3C8r"
      },
      "execution_count": 24,
      "outputs": []
    },
    {
      "cell_type": "code",
      "source": [
        "max_len = 0\n",
        "for i in range(x_train_glove.shape[0]):\n",
        "    max_len  = max(max_len, len(x_train_glove[i][0]))\n",
        "max_len"
      ],
      "metadata": {
        "execution": {
          "iopub.status.busy": "2022-04-13T13:13:09.744457Z",
          "iopub.execute_input": "2022-04-13T13:13:09.745144Z",
          "iopub.status.idle": "2022-04-13T13:13:09.761773Z",
          "shell.execute_reply.started": "2022-04-13T13:13:09.745107Z",
          "shell.execute_reply": "2022-04-13T13:13:09.760182Z"
        },
        "trusted": true,
        "colab": {
          "base_uri": "https://localhost:8080/"
        },
        "id": "FQasHCdB3C8r",
        "outputId": "e08a3137-41b2-41b7-ee64-5109fe8df163"
      },
      "execution_count": 25,
      "outputs": [
        {
          "output_type": "execute_result",
          "data": {
            "text/plain": [
              "65"
            ]
          },
          "metadata": {},
          "execution_count": 25
        }
      ]
    },
    {
      "cell_type": "code",
      "source": [
        "x_train_glove_new = np.zeros((x_train_glove.shape[0], 66, 200))\n",
        "x_val_glove_new = np.zeros((x_val_glove.shape[0], 66, 200))\n",
        "x_test_glove_new = np.zeros((x_test_glove.shape[0], 66, 200))"
      ],
      "metadata": {
        "execution": {
          "iopub.status.busy": "2022-04-13T13:13:41.835198Z",
          "iopub.execute_input": "2022-04-13T13:13:41.835469Z",
          "iopub.status.idle": "2022-04-13T13:13:41.861401Z",
          "shell.execute_reply.started": "2022-04-13T13:13:41.835436Z",
          "shell.execute_reply": "2022-04-13T13:13:41.8606Z"
        },
        "trusted": true,
        "id": "3kvwvUE93C8r"
      },
      "execution_count": 26,
      "outputs": []
    },
    {
      "cell_type": "code",
      "source": [
        "for i in range(x_train_glove.shape[0]):\n",
        "    embedding = np.array(x_train_glove[i][0])\n",
        "    x_train_glove_new[i,0:embedding.shape[0],:] = embedding"
      ],
      "metadata": {
        "execution": {
          "iopub.status.busy": "2022-04-13T13:19:36.590429Z",
          "iopub.execute_input": "2022-04-13T13:19:36.59071Z",
          "iopub.status.idle": "2022-04-13T13:19:36.756378Z",
          "shell.execute_reply.started": "2022-04-13T13:19:36.590676Z",
          "shell.execute_reply": "2022-04-13T13:19:36.755626Z"
        },
        "trusted": true,
        "id": "M9PS0Kxk3C8r"
      },
      "execution_count": 27,
      "outputs": []
    },
    {
      "cell_type": "code",
      "source": [
        "for i in range(x_val_glove.shape[0]):\n",
        "    embedding = np.array(x_val_glove[i][0])\n",
        "    x_val_glove_new[i,0:embedding.shape[0],:] = embedding"
      ],
      "metadata": {
        "execution": {
          "iopub.status.busy": "2022-04-13T13:19:38.944642Z",
          "iopub.execute_input": "2022-04-13T13:19:38.945223Z",
          "iopub.status.idle": "2022-04-13T13:19:38.992199Z",
          "shell.execute_reply.started": "2022-04-13T13:19:38.945182Z",
          "shell.execute_reply": "2022-04-13T13:19:38.991443Z"
        },
        "trusted": true,
        "id": "gBCzFGpd3C8s"
      },
      "execution_count": 28,
      "outputs": []
    },
    {
      "cell_type": "code",
      "source": [
        "for i in range(x_test_glove.shape[0]):\n",
        "    embedding = np.array(x_test_glove[i][0])\n",
        "    x_test_glove_new[i,0:embedding.shape[0],:] = embedding"
      ],
      "metadata": {
        "execution": {
          "iopub.status.busy": "2022-04-13T13:19:42.809194Z",
          "iopub.execute_input": "2022-04-13T13:19:42.809686Z",
          "iopub.status.idle": "2022-04-13T13:19:42.839101Z",
          "shell.execute_reply.started": "2022-04-13T13:19:42.809643Z",
          "shell.execute_reply": "2022-04-13T13:19:42.838373Z"
        },
        "trusted": true,
        "id": "a-mm-x4E3C8s"
      },
      "execution_count": 29,
      "outputs": []
    },
    {
      "cell_type": "code",
      "source": [
        "len(x_train_glove_new[69][0])"
      ],
      "metadata": {
        "execution": {
          "iopub.status.busy": "2022-04-13T13:20:00.657277Z",
          "iopub.execute_input": "2022-04-13T13:20:00.657539Z",
          "iopub.status.idle": "2022-04-13T13:20:00.663222Z",
          "shell.execute_reply.started": "2022-04-13T13:20:00.65751Z",
          "shell.execute_reply": "2022-04-13T13:20:00.662383Z"
        },
        "trusted": true,
        "colab": {
          "base_uri": "https://localhost:8080/"
        },
        "id": "iwcxnDdc3C8s",
        "outputId": "5ba17d74-ab00-420a-9a2a-cdc8d84e1b90"
      },
      "execution_count": 30,
      "outputs": [
        {
          "output_type": "execute_result",
          "data": {
            "text/plain": [
              "200"
            ]
          },
          "metadata": {},
          "execution_count": 30
        }
      ]
    },
    {
      "cell_type": "markdown",
      "source": [
        "## Use of bert embeddings\n",
        "note: we used our pre-processed code for bow which has the attributed appended to end the end of sentence. "
      ],
      "metadata": {
        "id": "69OURUHM3C8s"
      }
    },
    {
      "cell_type": "code",
      "source": [
        "from sentence_transformers import SentenceTransformer\n",
        "model = SentenceTransformer('paraphrase-MiniLM-L6-v2')\n",
        "\n",
        "x_train_bert = np.hstack((model.encode(x_train), x_train2))\n",
        "x_val_bert = np.hstack((model.encode(x_val), x_val2))\n",
        "x_test_bert = np.hstack((model.encode(x_test), x_test2))"
      ],
      "metadata": {
        "execution": {
          "iopub.status.busy": "2022-04-13T13:20:18.454191Z",
          "iopub.execute_input": "2022-04-13T13:20:18.454449Z",
          "iopub.status.idle": "2022-04-13T13:20:28.093381Z",
          "shell.execute_reply.started": "2022-04-13T13:20:18.454417Z",
          "shell.execute_reply": "2022-04-13T13:20:28.09268Z"
        },
        "trusted": true,
        "id": "iEZo1cLE3C8s"
      },
      "execution_count": 31,
      "outputs": []
    },
    {
      "cell_type": "code",
      "source": [
        "x_val_bert.shape"
      ],
      "metadata": {
        "execution": {
          "iopub.status.busy": "2022-04-13T13:20:28.094858Z",
          "iopub.execute_input": "2022-04-13T13:20:28.09555Z",
          "iopub.status.idle": "2022-04-13T13:20:28.100945Z",
          "shell.execute_reply.started": "2022-04-13T13:20:28.095509Z",
          "shell.execute_reply": "2022-04-13T13:20:28.100267Z"
        },
        "trusted": true,
        "colab": {
          "base_uri": "https://localhost:8080/"
        },
        "id": "08Fe9iOJ3C8t",
        "outputId": "93e9bb3f-9408-4b18-bed2-a19f06a63f99"
      },
      "execution_count": 32,
      "outputs": [
        {
          "output_type": "execute_result",
          "data": {
            "text/plain": [
              "(1284, 389)"
            ]
          },
          "metadata": {},
          "execution_count": 32
        }
      ]
    },
    {
      "cell_type": "markdown",
      "source": [
        "Now use the above 3 types of embedded inputs(bow, glove, bert embeddings) for the 2 classification tasks and compare their outputs\n"
      ],
      "metadata": {
        "id": "-RyYmIsw3C8t"
      }
    },
    {
      "cell_type": "markdown",
      "source": [
        "# Six-way classification"
      ],
      "metadata": {
        "id": "lmavEzWHrTC8"
      }
    },
    {
      "cell_type": "markdown",
      "source": [
        "## Preprocessing"
      ],
      "metadata": {
        "id": "1wAhr39Aq41J"
      }
    },
    {
      "cell_type": "code",
      "source": [
        "num_classes = 6\n",
        "# Preprocessing function for the labels\n",
        "def categorize(data):\n",
        "    y = data[\"label\"].tolist()\n",
        "\n",
        "    # Encoding the Dependent Variable\n",
        "    labelencoder_y = LabelEncoder()\n",
        "    y = labelencoder_y.fit_transform(y)\n",
        "\n",
        "    # Converting to binary class matrix\n",
        "    y = np_utils.to_categorical(y, num_classes)\n",
        "    return y"
      ],
      "metadata": {
        "id": "yJwZwMXANg9_",
        "execution": {
          "iopub.status.busy": "2022-04-13T13:20:31.244404Z",
          "iopub.execute_input": "2022-04-13T13:20:31.244989Z",
          "iopub.status.idle": "2022-04-13T13:20:31.250113Z",
          "shell.execute_reply.started": "2022-04-13T13:20:31.244945Z",
          "shell.execute_reply": "2022-04-13T13:20:31.249145Z"
        },
        "trusted": true
      },
      "execution_count": 33,
      "outputs": []
    },
    {
      "cell_type": "code",
      "source": [
        "y_train_six_way = categorize(train)\n",
        "y_test_six_way = categorize(test)\n",
        "y_val_six_way = categorize(val)"
      ],
      "metadata": {
        "id": "XIKTUSM3MJ-u",
        "execution": {
          "iopub.status.busy": "2022-04-13T13:20:33.231699Z",
          "iopub.execute_input": "2022-04-13T13:20:33.232368Z",
          "iopub.status.idle": "2022-04-13T13:20:33.244439Z",
          "shell.execute_reply.started": "2022-04-13T13:20:33.232326Z",
          "shell.execute_reply": "2022-04-13T13:20:33.243704Z"
        },
        "trusted": true
      },
      "execution_count": 34,
      "outputs": []
    },
    {
      "cell_type": "markdown",
      "source": [
        "Build a model and pass bow, glove and bert embedded inputs: x_train_bow, x_train_glove, x_train_bert(similarly validate for val and report results on test)\n"
      ],
      "metadata": {
        "id": "_s4bHYas3C8t"
      }
    },
    {
      "cell_type": "markdown",
      "source": [
        "## Model"
      ],
      "metadata": {
        "id": "2Y-dusAUolnI"
      }
    },
    {
      "cell_type": "code",
      "source": [
        "x_train_bow.shape"
      ],
      "metadata": {
        "execution": {
          "iopub.status.busy": "2022-04-13T13:20:39.038849Z",
          "iopub.execute_input": "2022-04-13T13:20:39.039174Z",
          "iopub.status.idle": "2022-04-13T13:20:39.04558Z",
          "shell.execute_reply.started": "2022-04-13T13:20:39.039139Z",
          "shell.execute_reply": "2022-04-13T13:20:39.044861Z"
        },
        "trusted": true,
        "colab": {
          "base_uri": "https://localhost:8080/"
        },
        "id": "zm5CoxDy3C8u",
        "outputId": "70d32f82-0cc7-42b2-f9a8-592ea9b4329b"
      },
      "execution_count": 35,
      "outputs": [
        {
          "output_type": "execute_result",
          "data": {
            "text/plain": [
              "(10269, 8005)"
            ]
          },
          "metadata": {},
          "execution_count": 35
        }
      ]
    },
    {
      "cell_type": "code",
      "source": [
        "y_test_six_way.shape"
      ],
      "metadata": {
        "execution": {
          "iopub.status.busy": "2022-04-13T13:46:22.129971Z",
          "iopub.execute_input": "2022-04-13T13:46:22.130247Z",
          "iopub.status.idle": "2022-04-13T13:46:22.135829Z",
          "shell.execute_reply.started": "2022-04-13T13:46:22.130218Z",
          "shell.execute_reply": "2022-04-13T13:46:22.135064Z"
        },
        "trusted": true,
        "colab": {
          "base_uri": "https://localhost:8080/"
        },
        "id": "ljpjOaOk3C8u",
        "outputId": "1468ed6d-f0f7-4888-bfe8-dc1eaa37b5a2"
      },
      "execution_count": 36,
      "outputs": [
        {
          "output_type": "execute_result",
          "data": {
            "text/plain": [
              "(1283, 6)"
            ]
          },
          "metadata": {},
          "execution_count": 36
        }
      ]
    },
    {
      "cell_type": "code",
      "source": [
        "def model_eval(x_test, y_test, model, no_of_labels):\n",
        "\n",
        "    y_pred = np.zeros((y_test.shape[0],no_of_labels))\n",
        "    scores = model.evaluate(x_test, y_test)\n",
        "    pred = model.predict(x_test)\n",
        "    for i in range(y_test.shape[0]):\n",
        "        index = np.argmax(pred[i])\n",
        "        y_pred[index] = 1 \n",
        "    print(\"Testing Accuracy : \", scores[1])\n",
        "    \n",
        "    print(\"Confusion Matrix : \")\n",
        "    cv = multilabel_confusion_matrix(y_test, y_pred)\n",
        "    print(cv)\n",
        "    \n",
        "    print(\"F1 scores :\", f1_score(y_test, y_pred, average = None))\n",
        "    "
      ],
      "metadata": {
        "execution": {
          "iopub.status.busy": "2022-04-13T13:50:47.494442Z",
          "iopub.execute_input": "2022-04-13T13:50:47.494724Z",
          "iopub.status.idle": "2022-04-13T13:50:47.501435Z",
          "shell.execute_reply.started": "2022-04-13T13:50:47.494692Z",
          "shell.execute_reply": "2022-04-13T13:50:47.500401Z"
        },
        "trusted": true,
        "id": "GvJJF8Jt3C8u"
      },
      "execution_count": 37,
      "outputs": []
    },
    {
      "cell_type": "markdown",
      "source": [
        "### Bag of Words Embedding"
      ],
      "metadata": {
        "id": "85PqRgau3C8u"
      }
    },
    {
      "cell_type": "code",
      "source": [
        "model_bow_6 = Sequential()\n",
        "model_bow_6.add(Dense(1000, activation='relu'))\n",
        "model_bow_6.add(Dropout(0.75))\n",
        "model_bow_6.add(Dense(200, activation='relu'))\n",
        "model_bow_6.add(Dropout(0.75))\n",
        "model_bow_6.add(Dense(6,activation='softmax'))\n",
        "model_bow_6.compile(loss = 'categorical_crossentropy', optimizer='adam',metrics = ['accuracy'])\n",
        "model_bow_6.fit(x_train_bow, y_train_six_way , validation_data = (x_val_bow, y_val_six_way), epochs=10)"
      ],
      "metadata": {
        "execution": {
          "iopub.status.busy": "2022-04-13T13:42:17.962491Z",
          "iopub.execute_input": "2022-04-13T13:42:17.963039Z",
          "iopub.status.idle": "2022-04-13T13:42:33.305475Z",
          "shell.execute_reply.started": "2022-04-13T13:42:17.962998Z",
          "shell.execute_reply": "2022-04-13T13:42:33.304781Z"
        },
        "trusted": true,
        "colab": {
          "base_uri": "https://localhost:8080/"
        },
        "id": "HYQ-VgCI3C8u",
        "outputId": "7524df43-0ad9-40aa-b199-becb6baa5fac"
      },
      "execution_count": 38,
      "outputs": [
        {
          "output_type": "stream",
          "name": "stdout",
          "text": [
            "Epoch 1/10\n",
            "321/321 [==============================] - 20s 59ms/step - loss: 2.0233 - accuracy: 0.2324 - val_loss: 1.6513 - val_accuracy: 0.3302\n",
            "Epoch 2/10\n",
            "321/321 [==============================] - 19s 58ms/step - loss: 1.6642 - accuracy: 0.3199 - val_loss: 1.5345 - val_accuracy: 0.3801\n",
            "Epoch 3/10\n",
            "321/321 [==============================] - 19s 58ms/step - loss: 1.5139 - accuracy: 0.3820 - val_loss: 1.4851 - val_accuracy: 0.3894\n",
            "Epoch 4/10\n",
            "321/321 [==============================] - 19s 58ms/step - loss: 1.4052 - accuracy: 0.4225 - val_loss: 1.4431 - val_accuracy: 0.3980\n",
            "Epoch 5/10\n",
            "321/321 [==============================] - 19s 58ms/step - loss: 1.3189 - accuracy: 0.4605 - val_loss: 1.4312 - val_accuracy: 0.4019\n",
            "Epoch 6/10\n",
            "321/321 [==============================] - 19s 58ms/step - loss: 1.2443 - accuracy: 0.4853 - val_loss: 1.4603 - val_accuracy: 0.3956\n",
            "Epoch 7/10\n",
            "321/321 [==============================] - 19s 60ms/step - loss: 1.1969 - accuracy: 0.5040 - val_loss: 1.4653 - val_accuracy: 0.3980\n",
            "Epoch 8/10\n",
            "321/321 [==============================] - 19s 58ms/step - loss: 1.1386 - accuracy: 0.5295 - val_loss: 1.5182 - val_accuracy: 0.3964\n",
            "Epoch 9/10\n",
            "321/321 [==============================] - 19s 58ms/step - loss: 1.0926 - accuracy: 0.5470 - val_loss: 1.5518 - val_accuracy: 0.3754\n",
            "Epoch 10/10\n",
            "321/321 [==============================] - 19s 60ms/step - loss: 1.0543 - accuracy: 0.5668 - val_loss: 1.5689 - val_accuracy: 0.3816\n"
          ]
        },
        {
          "output_type": "execute_result",
          "data": {
            "text/plain": [
              "<keras.callbacks.History at 0x7fd5b9adad90>"
            ]
          },
          "metadata": {},
          "execution_count": 38
        }
      ]
    },
    {
      "cell_type": "code",
      "source": [
        "model_eval(x_test_bow, y_test_six_way,model_bow_6,6)"
      ],
      "metadata": {
        "execution": {
          "iopub.status.busy": "2022-04-13T13:50:50.498179Z",
          "iopub.execute_input": "2022-04-13T13:50:50.498444Z",
          "iopub.status.idle": "2022-04-13T13:50:51.024349Z",
          "shell.execute_reply.started": "2022-04-13T13:50:50.498415Z",
          "shell.execute_reply": "2022-04-13T13:50:51.022776Z"
        },
        "trusted": true,
        "colab": {
          "base_uri": "https://localhost:8080/"
        },
        "id": "rQOVUtk23C8v",
        "outputId": "f01808c8-841e-43de-ce16-4749da67ce2d"
      },
      "execution_count": 39,
      "outputs": [
        {
          "output_type": "stream",
          "name": "stdout",
          "text": [
            "41/41 [==============================] - 1s 21ms/step - loss: 1.5680 - accuracy: 0.3819\n",
            "Testing Accuracy :  0.38191738724708557\n",
            "Confusion Matrix : \n",
            "[[[1029    4]\n",
            "  [ 248    2]]\n",
            "\n",
            " [[1068    4]\n",
            "  [ 209    2]]\n",
            "\n",
            " [[1063    6]\n",
            "  [ 214    0]]\n",
            "\n",
            " [[1011    5]\n",
            "  [ 266    1]]\n",
            "\n",
            " [[1028    6]\n",
            "  [ 249    0]]\n",
            "\n",
            " [[1186    5]\n",
            "  [  91    1]]]\n",
            "F1 scores : [0.015625   0.01843318 0.         0.00732601 0.         0.02040816]\n"
          ]
        }
      ]
    },
    {
      "cell_type": "markdown",
      "source": [
        "### Glove Embedding"
      ],
      "metadata": {
        "id": "jsMFPFtW3C8v"
      }
    },
    {
      "cell_type": "code",
      "source": [
        "model_glove_6 = Sequential()\n",
        "model_glove_6.add(LSTM(400))\n",
        "model_glove_6.add(Dense(100, activation='relu'))\n",
        "model_glove_6.add(Dropout(0.2))\n",
        "model_glove_6.add(Dense(6,activation='softmax'))\n",
        "model_glove_6.compile(loss = 'categorical_crossentropy', optimizer='adam',metrics = ['accuracy'])\n",
        "model_glove_6.fit(x_train_glove_new, y_train_six_way , validation_data = (x_val_glove_new, y_val_six_way), epochs=10)"
      ],
      "metadata": {
        "execution": {
          "iopub.status.busy": "2022-04-13T14:06:11.564262Z",
          "iopub.execute_input": "2022-04-13T14:06:11.564586Z",
          "iopub.status.idle": "2022-04-13T14:06:51.725373Z",
          "shell.execute_reply.started": "2022-04-13T14:06:11.564549Z",
          "shell.execute_reply": "2022-04-13T14:06:51.724535Z"
        },
        "trusted": true,
        "colab": {
          "base_uri": "https://localhost:8080/"
        },
        "id": "B_SLpazg3C8v",
        "outputId": "8d050859-4324-4e86-da8c-d0dfb01b6435"
      },
      "execution_count": 40,
      "outputs": [
        {
          "output_type": "stream",
          "name": "stdout",
          "text": [
            "Epoch 1/10\n",
            "321/321 [==============================] - 192s 590ms/step - loss: 1.7623 - accuracy: 0.2001 - val_loss: 1.7649 - val_accuracy: 0.1931\n",
            "Epoch 2/10\n",
            "321/321 [==============================] - 160s 500ms/step - loss: 1.7585 - accuracy: 0.2003 - val_loss: 1.7656 - val_accuracy: 0.1924\n",
            "Epoch 3/10\n",
            "321/321 [==============================] - 159s 496ms/step - loss: 1.7593 - accuracy: 0.1980 - val_loss: 1.7654 - val_accuracy: 0.1924\n",
            "Epoch 4/10\n",
            "321/321 [==============================] - 162s 506ms/step - loss: 1.7582 - accuracy: 0.1984 - val_loss: 1.7652 - val_accuracy: 0.1900\n",
            "Epoch 5/10\n",
            "321/321 [==============================] - 179s 557ms/step - loss: 1.7592 - accuracy: 0.2062 - val_loss: 1.7651 - val_accuracy: 0.1924\n",
            "Epoch 6/10\n",
            "321/321 [==============================] - 181s 562ms/step - loss: 1.7570 - accuracy: 0.2050 - val_loss: 1.7644 - val_accuracy: 0.1963\n",
            "Epoch 7/10\n",
            "321/321 [==============================] - 174s 542ms/step - loss: 1.7578 - accuracy: 0.2079 - val_loss: 1.7627 - val_accuracy: 0.2048\n",
            "Epoch 8/10\n",
            "321/321 [==============================] - 189s 589ms/step - loss: 1.7575 - accuracy: 0.2051 - val_loss: 1.7625 - val_accuracy: 0.1924\n",
            "Epoch 9/10\n",
            "321/321 [==============================] - 200s 622ms/step - loss: 1.7583 - accuracy: 0.2034 - val_loss: 1.7624 - val_accuracy: 0.1924\n",
            "Epoch 10/10\n",
            "321/321 [==============================] - 189s 589ms/step - loss: 1.7568 - accuracy: 0.2048 - val_loss: 1.7651 - val_accuracy: 0.1916\n"
          ]
        },
        {
          "output_type": "execute_result",
          "data": {
            "text/plain": [
              "<keras.callbacks.History at 0x7fd5b52b9ad0>"
            ]
          },
          "metadata": {},
          "execution_count": 40
        }
      ]
    },
    {
      "cell_type": "code",
      "source": [
        "model_eval(x_test_glove_new, y_test_six_way,model_glove_6,6)"
      ],
      "metadata": {
        "execution": {
          "iopub.status.busy": "2022-04-13T14:08:54.234449Z",
          "iopub.execute_input": "2022-04-13T14:08:54.235121Z",
          "iopub.status.idle": "2022-04-13T14:08:55.069201Z",
          "shell.execute_reply.started": "2022-04-13T14:08:54.235079Z",
          "shell.execute_reply": "2022-04-13T14:08:55.067688Z"
        },
        "trusted": true,
        "colab": {
          "base_uri": "https://localhost:8080/"
        },
        "id": "ar4RCUsD3C8v",
        "outputId": "8b5b9336-c7c7-477a-d193-18ad1a12d902"
      },
      "execution_count": 41,
      "outputs": [
        {
          "output_type": "stream",
          "name": "stdout",
          "text": [
            "41/41 [==============================] - 6s 152ms/step - loss: 1.7489 - accuracy: 0.2081\n",
            "Testing Accuracy :  0.20810599625110626\n",
            "Confusion Matrix : \n",
            "[[[1032    1]\n",
            "  [ 250    0]]\n",
            "\n",
            " [[1071    1]\n",
            "  [ 211    0]]\n",
            "\n",
            " [[1068    1]\n",
            "  [ 214    0]]\n",
            "\n",
            " [[1016    0]\n",
            "  [ 266    1]]\n",
            "\n",
            " [[1033    1]\n",
            "  [ 249    0]]\n",
            "\n",
            " [[1190    1]\n",
            "  [  92    0]]]\n",
            "F1 scores : [0.         0.         0.         0.00746269 0.         0.        ]\n"
          ]
        }
      ]
    },
    {
      "cell_type": "markdown",
      "source": [
        "### BERT Embedding"
      ],
      "metadata": {
        "id": "evj4q0Ft3C8v"
      }
    },
    {
      "cell_type": "code",
      "source": [
        "model_bert_6 = Sequential()\n",
        "model_bert_6.add(Dense(500, activation='relu'))\n",
        "model_bert_6.add(Dropout(0.75))\n",
        "model_bert_6.add(Dense(6,activation='softmax'))\n",
        "model_bert_6.compile(loss = 'categorical_crossentropy', optimizer='adam',metrics = ['accuracy'])\n",
        "model_bert_6.fit(x_train_bert, y_train_six_way , validation_data = (x_val_bert, y_val_six_way), epochs=10)"
      ],
      "metadata": {
        "execution": {
          "iopub.status.busy": "2022-04-13T13:30:09.151261Z",
          "iopub.execute_input": "2022-04-13T13:30:09.151524Z",
          "iopub.status.idle": "2022-04-13T13:30:19.750242Z",
          "shell.execute_reply.started": "2022-04-13T13:30:09.151494Z",
          "shell.execute_reply": "2022-04-13T13:30:19.749339Z"
        },
        "trusted": true,
        "colab": {
          "base_uri": "https://localhost:8080/"
        },
        "id": "ei8wUez73C8v",
        "outputId": "251b358d-edd6-4548-e4f3-6590fefcf340"
      },
      "execution_count": 42,
      "outputs": [
        {
          "output_type": "stream",
          "name": "stdout",
          "text": [
            "Epoch 1/10\n",
            "321/321 [==============================] - 2s 5ms/step - loss: 2.5971 - accuracy: 0.2554 - val_loss: 1.5996 - val_accuracy: 0.3746\n",
            "Epoch 2/10\n",
            "321/321 [==============================] - 2s 5ms/step - loss: 1.6488 - accuracy: 0.3288 - val_loss: 1.5285 - val_accuracy: 0.3871\n",
            "Epoch 3/10\n",
            "321/321 [==============================] - 1s 5ms/step - loss: 1.5469 - accuracy: 0.3654 - val_loss: 1.4686 - val_accuracy: 0.4159\n",
            "Epoch 4/10\n",
            "321/321 [==============================] - 1s 4ms/step - loss: 1.4990 - accuracy: 0.3814 - val_loss: 1.4459 - val_accuracy: 0.4338\n",
            "Epoch 5/10\n",
            "321/321 [==============================] - 1s 4ms/step - loss: 1.4539 - accuracy: 0.4047 - val_loss: 1.4044 - val_accuracy: 0.4354\n",
            "Epoch 6/10\n",
            "321/321 [==============================] - 1s 5ms/step - loss: 1.4120 - accuracy: 0.4191 - val_loss: 1.3746 - val_accuracy: 0.4393\n",
            "Epoch 7/10\n",
            "321/321 [==============================] - 2s 5ms/step - loss: 1.3860 - accuracy: 0.4314 - val_loss: 1.3535 - val_accuracy: 0.4525\n",
            "Epoch 8/10\n",
            "321/321 [==============================] - 1s 5ms/step - loss: 1.3492 - accuracy: 0.4408 - val_loss: 1.3321 - val_accuracy: 0.4369\n",
            "Epoch 9/10\n",
            "321/321 [==============================] - 1s 5ms/step - loss: 1.3234 - accuracy: 0.4535 - val_loss: 1.3218 - val_accuracy: 0.4393\n",
            "Epoch 10/10\n",
            "321/321 [==============================] - 2s 5ms/step - loss: 1.2981 - accuracy: 0.4664 - val_loss: 1.3114 - val_accuracy: 0.4478\n"
          ]
        },
        {
          "output_type": "execute_result",
          "data": {
            "text/plain": [
              "<keras.callbacks.History at 0x7fd5b93c54d0>"
            ]
          },
          "metadata": {},
          "execution_count": 42
        }
      ]
    },
    {
      "cell_type": "code",
      "source": [
        "model_eval(x_test_bert, y_test_six_way,model_bert_6,6)"
      ],
      "metadata": {
        "execution": {
          "iopub.status.busy": "2022-04-13T13:51:40.843379Z",
          "iopub.execute_input": "2022-04-13T13:51:40.843679Z",
          "iopub.status.idle": "2022-04-13T13:51:41.064626Z",
          "shell.execute_reply.started": "2022-04-13T13:51:40.843644Z",
          "shell.execute_reply": "2022-04-13T13:51:41.063869Z"
        },
        "trusted": true,
        "colab": {
          "base_uri": "https://localhost:8080/"
        },
        "id": "l-1MS_J73C8w",
        "outputId": "5b19cd87-c78e-4e7f-be9f-9218f249952d"
      },
      "execution_count": 43,
      "outputs": [
        {
          "output_type": "stream",
          "name": "stdout",
          "text": [
            "41/41 [==============================] - 0s 2ms/step - loss: 1.3415 - accuracy: 0.4552\n",
            "Testing Accuracy :  0.4551831781864166\n",
            "Confusion Matrix : \n",
            "[[[1029    4]\n",
            "  [ 248    2]]\n",
            "\n",
            " [[1068    4]\n",
            "  [ 209    2]]\n",
            "\n",
            " [[1063    6]\n",
            "  [ 214    0]]\n",
            "\n",
            " [[1011    5]\n",
            "  [ 266    1]]\n",
            "\n",
            " [[1028    6]\n",
            "  [ 249    0]]\n",
            "\n",
            " [[1186    5]\n",
            "  [  91    1]]]\n",
            "F1 scores : [0.015625   0.01843318 0.         0.00732601 0.         0.02040816]\n"
          ]
        }
      ]
    },
    {
      "cell_type": "markdown",
      "source": [
        "# Binary Classification"
      ],
      "metadata": {
        "id": "ctoTOw2uIK1G"
      }
    },
    {
      "cell_type": "markdown",
      "source": [
        "## Preprocessing"
      ],
      "metadata": {
        "id": "2ZJUrQ1SrEBa"
      }
    },
    {
      "cell_type": "code",
      "source": [
        "num_classes = 2"
      ],
      "metadata": {
        "id": "eA3wQH1JinNx",
        "execution": {
          "iopub.status.busy": "2022-04-13T13:51:51.712855Z",
          "iopub.execute_input": "2022-04-13T13:51:51.713124Z",
          "iopub.status.idle": "2022-04-13T13:51:51.718704Z",
          "shell.execute_reply.started": "2022-04-13T13:51:51.713093Z",
          "shell.execute_reply": "2022-04-13T13:51:51.716483Z"
        },
        "trusted": true
      },
      "execution_count": 44,
      "outputs": []
    },
    {
      "cell_type": "code",
      "source": [
        "# Function for preprocessing labels\n",
        "def dataPreprocessingBinary(data):\n",
        "    y = data[\"label\"].tolist()\n",
        "\n",
        "    # Changing the 'half-true', 'mostly-true', barely-true', 'pants-fire' labels to True/False for Binary Classification\n",
        "    for x in range(len(y)):\n",
        "        if(y[x] == 'half-true'):\n",
        "            y[x] = 'True'\n",
        "        elif(y[x] == 'mostly-true'):\n",
        "            y[x] = 'True'\n",
        "        elif(y[x] == 'barely-true'):\n",
        "            y[x] = 'False'\n",
        "        elif(y[x] == 'pants-fire'):\n",
        "            y[x] = 'False'\n",
        "\n",
        "    # Converting the lables into binary class matrix\n",
        "    labelencoder_y = LabelEncoder()\n",
        "    y = labelencoder_y.fit_transform(y)\n",
        "    y = np_utils.to_categorical(y, num_classes)\n",
        "    return y"
      ],
      "metadata": {
        "id": "Mk-q1zwVF5KZ",
        "execution": {
          "iopub.status.busy": "2022-04-13T13:51:54.069138Z",
          "iopub.execute_input": "2022-04-13T13:51:54.06941Z",
          "iopub.status.idle": "2022-04-13T13:51:54.07687Z",
          "shell.execute_reply.started": "2022-04-13T13:51:54.06938Z",
          "shell.execute_reply": "2022-04-13T13:51:54.075848Z"
        },
        "trusted": true
      },
      "execution_count": 45,
      "outputs": []
    },
    {
      "cell_type": "code",
      "source": [
        "y_train_binary = dataPreprocessingBinary(train)\n",
        "y_test_binary = dataPreprocessingBinary(test)\n",
        "y_val_binary = dataPreprocessingBinary(val)"
      ],
      "metadata": {
        "id": "REu1ue0xbuqp",
        "execution": {
          "iopub.status.busy": "2022-04-13T13:51:56.378529Z",
          "iopub.execute_input": "2022-04-13T13:51:56.378822Z",
          "iopub.status.idle": "2022-04-13T13:51:56.397773Z",
          "shell.execute_reply.started": "2022-04-13T13:51:56.37879Z",
          "shell.execute_reply": "2022-04-13T13:51:56.396907Z"
        },
        "trusted": true
      },
      "execution_count": 46,
      "outputs": []
    },
    {
      "cell_type": "markdown",
      "source": [
        "## Model\n",
        "Build a model and pass bow, glove and bert embedded inputs: x_train_bow, x_train_glove, x_train_bert(similarly validate for val and report results on test)\n"
      ],
      "metadata": {
        "id": "KI4PIrgR01Sd"
      }
    },
    {
      "cell_type": "markdown",
      "source": [
        "### Bag of Words Embedding"
      ],
      "metadata": {
        "id": "96pPB5G43C8x"
      }
    },
    {
      "cell_type": "code",
      "source": [
        "## write your code here\n",
        "# Initialize hyperparameters\n",
        "# Create model\n",
        "# train\n",
        "# test\n",
        "# report accuracy, f1-score and confusion matrix\n",
        "\n",
        "model_bow_2 = Sequential()\n",
        "model_bow_2.add(Dense(1000, activation='relu'))\n",
        "model_bow_2.add(Dropout(0.75))\n",
        "model_bow_2.add(Dense(200, activation='relu'))\n",
        "model_bow_2.add(Dropout(0.75))\n",
        "model_bow_2.add(Dense(2,activation='softmax'))\n",
        "model_bow_2.compile(optimizer='adam', loss='binary_crossentropy', metrics=['accuracy'])\n",
        "model_bow_2.fit(x_train_bow, y_train_binary , validation_data = (x_val_bow, y_val_binary), epochs=10)"
      ],
      "metadata": {
        "id": "-J0inPaQb-8Y",
        "execution": {
          "iopub.status.busy": "2022-04-13T13:52:00.770975Z",
          "iopub.execute_input": "2022-04-13T13:52:00.771242Z",
          "iopub.status.idle": "2022-04-13T13:52:15.646812Z",
          "shell.execute_reply.started": "2022-04-13T13:52:00.771213Z",
          "shell.execute_reply": "2022-04-13T13:52:15.646075Z"
        },
        "trusted": true,
        "colab": {
          "base_uri": "https://localhost:8080/"
        },
        "outputId": "a55da16c-beb4-44f7-dd95-c4424b5cfe34"
      },
      "execution_count": 47,
      "outputs": [
        {
          "output_type": "stream",
          "name": "stdout",
          "text": [
            "Epoch 1/10\n",
            "321/321 [==============================] - 21s 63ms/step - loss: 0.7518 - accuracy: 0.6247 - val_loss: 0.5852 - val_accuracy: 0.6893\n",
            "Epoch 2/10\n",
            "321/321 [==============================] - 20s 61ms/step - loss: 0.5934 - accuracy: 0.6934 - val_loss: 0.5784 - val_accuracy: 0.6791\n",
            "Epoch 3/10\n",
            "321/321 [==============================] - 20s 61ms/step - loss: 0.5330 - accuracy: 0.7242 - val_loss: 0.5694 - val_accuracy: 0.6900\n",
            "Epoch 4/10\n",
            "321/321 [==============================] - 20s 61ms/step - loss: 0.4900 - accuracy: 0.7469 - val_loss: 0.5815 - val_accuracy: 0.6924\n",
            "Epoch 5/10\n",
            "321/321 [==============================] - 19s 60ms/step - loss: 0.4532 - accuracy: 0.7695 - val_loss: 0.6178 - val_accuracy: 0.6799\n",
            "Epoch 6/10\n",
            "321/321 [==============================] - 19s 60ms/step - loss: 0.4206 - accuracy: 0.7830 - val_loss: 0.6399 - val_accuracy: 0.6783\n",
            "Epoch 7/10\n",
            "321/321 [==============================] - 19s 60ms/step - loss: 0.3953 - accuracy: 0.7898 - val_loss: 0.6970 - val_accuracy: 0.6768\n",
            "Epoch 8/10\n",
            "321/321 [==============================] - 19s 60ms/step - loss: 0.3739 - accuracy: 0.8086 - val_loss: 0.7505 - val_accuracy: 0.6760\n",
            "Epoch 9/10\n",
            "321/321 [==============================] - 19s 59ms/step - loss: 0.3492 - accuracy: 0.8158 - val_loss: 0.7683 - val_accuracy: 0.6846\n",
            "Epoch 10/10\n",
            "321/321 [==============================] - 19s 59ms/step - loss: 0.3329 - accuracy: 0.8259 - val_loss: 0.8356 - val_accuracy: 0.6721\n"
          ]
        },
        {
          "output_type": "execute_result",
          "data": {
            "text/plain": [
              "<keras.callbacks.History at 0x7fd5b6fbadd0>"
            ]
          },
          "metadata": {},
          "execution_count": 47
        }
      ]
    },
    {
      "cell_type": "code",
      "source": [
        "model_eval(x_test_bow, y_test_binary,model_bow_2,2)"
      ],
      "metadata": {
        "execution": {
          "iopub.status.busy": "2022-04-13T13:53:31.487797Z",
          "iopub.execute_input": "2022-04-13T13:53:31.488537Z",
          "iopub.status.idle": "2022-04-13T13:53:31.961791Z",
          "shell.execute_reply.started": "2022-04-13T13:53:31.488493Z",
          "shell.execute_reply": "2022-04-13T13:53:31.961045Z"
        },
        "trusted": true,
        "colab": {
          "base_uri": "https://localhost:8080/"
        },
        "id": "distSwHo3C8x",
        "outputId": "d1f3435c-8320-4d6f-a843-dec739cb2248"
      },
      "execution_count": 48,
      "outputs": [
        {
          "output_type": "stream",
          "name": "stdout",
          "text": [
            "41/41 [==============================] - 1s 19ms/step - loss: 0.8311 - accuracy: 0.6781\n",
            "Testing Accuracy :  0.678098201751709\n",
            "Confusion Matrix : \n",
            "[[[726   1]\n",
            "  [555   1]]\n",
            "\n",
            " [[555   1]\n",
            "  [726   1]]]\n",
            "F1 scores : [0.00358423 0.00274348]\n"
          ]
        }
      ]
    },
    {
      "cell_type": "markdown",
      "source": [
        "### Glove Embedding"
      ],
      "metadata": {
        "id": "j883YhYO3C8x"
      }
    },
    {
      "cell_type": "code",
      "source": [
        "model_glove_2 = Sequential()\n",
        "model_glove_2.add(LSTM(200))\n",
        "model_glove_2.add(Dense(2,activation='sigmoid'))\n",
        "model_glove_2.compile(optimizer='adam', loss='binary_crossentropy', metrics=['accuracy'])\n",
        "model_glove_2.fit(x_train_glove_new, y_train_binary , validation_data = (x_val_glove_new, y_val_binary), epochs=10)"
      ],
      "metadata": {
        "execution": {
          "iopub.status.busy": "2022-04-13T13:53:44.744337Z",
          "iopub.execute_input": "2022-04-13T13:53:44.744795Z",
          "iopub.status.idle": "2022-04-13T13:54:11.83963Z",
          "shell.execute_reply.started": "2022-04-13T13:53:44.744742Z",
          "shell.execute_reply": "2022-04-13T13:54:11.838787Z"
        },
        "trusted": true,
        "colab": {
          "base_uri": "https://localhost:8080/"
        },
        "id": "F4siSvz93C8y",
        "outputId": "df967747-3d06-4da8-edb3-25f903767ad2"
      },
      "execution_count": 49,
      "outputs": [
        {
          "output_type": "stream",
          "name": "stdout",
          "text": [
            "Epoch 1/10\n",
            "321/321 [==============================] - 64s 186ms/step - loss: 0.6861 - accuracy: 0.5613 - val_loss: 0.6964 - val_accuracy: 0.5202\n",
            "Epoch 2/10\n",
            "321/321 [==============================] - 59s 183ms/step - loss: 0.6858 - accuracy: 0.5621 - val_loss: 0.6951 - val_accuracy: 0.5202\n",
            "Epoch 3/10\n",
            "321/321 [==============================] - 60s 186ms/step - loss: 0.6858 - accuracy: 0.5623 - val_loss: 0.6947 - val_accuracy: 0.5202\n",
            "Epoch 4/10\n",
            "321/321 [==============================] - 61s 191ms/step - loss: 0.6854 - accuracy: 0.5622 - val_loss: 0.7007 - val_accuracy: 0.5202\n",
            "Epoch 5/10\n",
            "321/321 [==============================] - 62s 193ms/step - loss: 0.6854 - accuracy: 0.5620 - val_loss: 0.6937 - val_accuracy: 0.5202\n",
            "Epoch 6/10\n",
            "321/321 [==============================] - 64s 201ms/step - loss: 0.6874 - accuracy: 0.5588 - val_loss: 0.6943 - val_accuracy: 0.5202\n",
            "Epoch 7/10\n",
            "321/321 [==============================] - 63s 197ms/step - loss: 0.6857 - accuracy: 0.5607 - val_loss: 0.6928 - val_accuracy: 0.5202\n",
            "Epoch 8/10\n",
            "321/321 [==============================] - 61s 191ms/step - loss: 0.6841 - accuracy: 0.5629 - val_loss: 0.6810 - val_accuracy: 0.5202\n",
            "Epoch 9/10\n",
            "321/321 [==============================] - 61s 191ms/step - loss: 0.6707 - accuracy: 0.5876 - val_loss: 0.6609 - val_accuracy: 0.5966\n",
            "Epoch 10/10\n",
            "321/321 [==============================] - 60s 186ms/step - loss: 0.6550 - accuracy: 0.6111 - val_loss: 0.6608 - val_accuracy: 0.5981\n"
          ]
        },
        {
          "output_type": "execute_result",
          "data": {
            "text/plain": [
              "<keras.callbacks.History at 0x7fd5b6d70e90>"
            ]
          },
          "metadata": {},
          "execution_count": 49
        }
      ]
    },
    {
      "cell_type": "code",
      "source": [
        "model_eval(x_test_glove_new, y_test_binary,model_glove_2,2)"
      ],
      "metadata": {
        "execution": {
          "iopub.status.busy": "2022-04-13T13:54:11.844054Z",
          "iopub.execute_input": "2022-04-13T13:54:11.844312Z",
          "iopub.status.idle": "2022-04-13T13:54:12.57086Z",
          "shell.execute_reply.started": "2022-04-13T13:54:11.844278Z",
          "shell.execute_reply": "2022-04-13T13:54:12.57006Z"
        },
        "trusted": true,
        "colab": {
          "base_uri": "https://localhost:8080/"
        },
        "id": "QABwD1uP3C8y",
        "outputId": "0d442689-ede5-4a58-9a9b-1f0e4f151286"
      },
      "execution_count": 50,
      "outputs": [
        {
          "output_type": "stream",
          "name": "stdout",
          "text": [
            "41/41 [==============================] - 3s 64ms/step - loss: 0.6616 - accuracy: 0.5900\n",
            "Testing Accuracy :  0.590023398399353\n",
            "Confusion Matrix : \n",
            "[[[726   1]\n",
            "  [555   1]]\n",
            "\n",
            " [[555   1]\n",
            "  [726   1]]]\n",
            "F1 scores : [0.00358423 0.00274348]\n"
          ]
        }
      ]
    },
    {
      "cell_type": "markdown",
      "source": [
        "### BERT Embedding"
      ],
      "metadata": {
        "id": "omn73_Za3C8y"
      }
    },
    {
      "cell_type": "code",
      "source": [
        "model_bert_2 = Sequential()\n",
        "model_bert_2.add(Dense(500, activation='relu'))\n",
        "model_bert_2.add(Dropout(0.75))\n",
        "model_bert_2.add(Dense(2,activation='sigmoid'))\n",
        "model_bert_2.compile(optimizer='adam', loss='binary_crossentropy', metrics=['accuracy'])\n",
        "model_bert_2.fit(x_train_bert, y_train_binary , validation_data = (x_val_bert, y_val_binary), epochs=10)"
      ],
      "metadata": {
        "execution": {
          "iopub.status.busy": "2022-04-13T13:54:12.571998Z",
          "iopub.execute_input": "2022-04-13T13:54:12.572451Z",
          "iopub.status.idle": "2022-04-13T13:54:23.205352Z",
          "shell.execute_reply.started": "2022-04-13T13:54:12.572411Z",
          "shell.execute_reply": "2022-04-13T13:54:23.204604Z"
        },
        "trusted": true,
        "colab": {
          "base_uri": "https://localhost:8080/"
        },
        "id": "G4aOCWoG3C8y",
        "outputId": "3ec4554b-0824-401d-aae6-df7408e36c66"
      },
      "execution_count": 51,
      "outputs": [
        {
          "output_type": "stream",
          "name": "stdout",
          "text": [
            "Epoch 1/10\n",
            "321/321 [==============================] - 2s 4ms/step - loss: 0.9184 - accuracy: 0.6316 - val_loss: 0.6193 - val_accuracy: 0.6768\n",
            "Epoch 2/10\n",
            "321/321 [==============================] - 1s 4ms/step - loss: 0.6243 - accuracy: 0.6702 - val_loss: 0.5922 - val_accuracy: 0.6760\n",
            "Epoch 3/10\n",
            "321/321 [==============================] - 1s 4ms/step - loss: 0.5937 - accuracy: 0.6945 - val_loss: 0.5694 - val_accuracy: 0.6900\n",
            "Epoch 4/10\n",
            "321/321 [==============================] - 1s 4ms/step - loss: 0.5700 - accuracy: 0.7044 - val_loss: 0.5762 - val_accuracy: 0.6893\n",
            "Epoch 5/10\n",
            "321/321 [==============================] - 1s 4ms/step - loss: 0.5597 - accuracy: 0.7129 - val_loss: 0.5480 - val_accuracy: 0.7040\n",
            "Epoch 6/10\n",
            "321/321 [==============================] - 1s 4ms/step - loss: 0.5446 - accuracy: 0.7195 - val_loss: 0.5479 - val_accuracy: 0.6846\n",
            "Epoch 7/10\n",
            "321/321 [==============================] - 1s 4ms/step - loss: 0.5333 - accuracy: 0.7223 - val_loss: 0.5354 - val_accuracy: 0.7196\n",
            "Epoch 8/10\n",
            "321/321 [==============================] - 2s 5ms/step - loss: 0.5220 - accuracy: 0.7346 - val_loss: 0.5263 - val_accuracy: 0.7188\n",
            "Epoch 9/10\n",
            "321/321 [==============================] - 1s 4ms/step - loss: 0.5154 - accuracy: 0.7379 - val_loss: 0.5225 - val_accuracy: 0.7126\n",
            "Epoch 10/10\n",
            "321/321 [==============================] - 2s 5ms/step - loss: 0.5042 - accuracy: 0.7447 - val_loss: 0.5128 - val_accuracy: 0.7220\n"
          ]
        },
        {
          "output_type": "execute_result",
          "data": {
            "text/plain": [
              "<keras.callbacks.History at 0x7fd5b1fda610>"
            ]
          },
          "metadata": {},
          "execution_count": 51
        }
      ]
    },
    {
      "cell_type": "code",
      "source": [
        "model_eval(x_test_bert, y_test_binary,model_bert_2,2)"
      ],
      "metadata": {
        "execution": {
          "iopub.status.busy": "2022-04-13T13:54:23.207052Z",
          "iopub.execute_input": "2022-04-13T13:54:23.207275Z",
          "iopub.status.idle": "2022-04-13T13:54:23.49207Z",
          "shell.execute_reply.started": "2022-04-13T13:54:23.207237Z",
          "shell.execute_reply": "2022-04-13T13:54:23.491293Z"
        },
        "trusted": true,
        "colab": {
          "base_uri": "https://localhost:8080/"
        },
        "id": "QSCV3GGF3C8y",
        "outputId": "e7be9d1a-5862-4385-efe8-e9c7f322c46a"
      },
      "execution_count": 52,
      "outputs": [
        {
          "output_type": "stream",
          "name": "stdout",
          "text": [
            "41/41 [==============================] - 0s 2ms/step - loss: 0.5313 - accuracy: 0.7334\n",
            "Testing Accuracy :  0.7334372401237488\n",
            "Confusion Matrix : \n",
            "[[[726   1]\n",
            "  [555   1]]\n",
            "\n",
            " [[555   1]\n",
            "  [726   1]]]\n",
            "F1 scores : [0.00358423 0.00274348]\n"
          ]
        }
      ]
    },
    {
      "cell_type": "code",
      "source": [
        ""
      ],
      "metadata": {
        "id": "Dh3Em9253_hr"
      },
      "execution_count": 52,
      "outputs": []
    }
  ]
}