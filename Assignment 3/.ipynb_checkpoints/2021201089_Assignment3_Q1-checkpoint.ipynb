{
 "cells": [
  {
   "cell_type": "markdown",
   "metadata": {},
   "source": [
    "# Assignment 3\n",
    "\n",
    "## Instructions\n",
    "- Run this notebook on ```Google Colab(preferable)```\n",
    "- Write your code and analysis in the indicated cells.\n",
    "- Ensure that this notebook runs without errors when the cells are run in sequence.\n",
    "- Do not attempt to change the contents of other cells. \n",
    "\n",
    "## Packages Used\n",
    "- Keras [link](https://keras.io/guides/)\n",
    "\n",
    "## Submission\n",
    "- Rename the notebook to `<roll_number>_Assignment3_Q1.ipynb`."
   ]
  },
  {
   "cell_type": "markdown",
   "metadata": {},
   "source": [
    "## Question 1"
   ]
  },
  {
   "cell_type": "markdown",
   "metadata": {},
   "source": [
    "This question is based on seminal work by Zhang et al. The paper is titled 'Understanding deep learning requires rethinking generalization'. The paper talks about how the traditional methods fail to explain generalization of neural network. They show that a sufficiently parameterized network can easily fit a random labeling of the training data. This fitting cannot be curbed by explicit regularization.\n"
   ]
  },
  {
   "cell_type": "markdown",
   "metadata": {},
   "source": [
    "## Q) 1.1 \n",
    "Lets take a hello world dataset for ML algorithm the MNIST!\n",
    "This question requires you to train a convolutional neural network.\n",
    "Architecture: 4 layers of convolution with 64 filters in each layer. Keep activation map size same using padding."
   ]
  },
  {
   "cell_type": "code",
   "execution_count": 34,
   "metadata": {
    "execution": {
     "iopub.execute_input": "2022-04-06T19:02:45.586483Z",
     "iopub.status.busy": "2022-04-06T19:02:45.586225Z",
     "iopub.status.idle": "2022-04-06T19:02:45.591029Z",
     "shell.execute_reply": "2022-04-06T19:02:45.590168Z",
     "shell.execute_reply.started": "2022-04-06T19:02:45.586454Z"
    }
   },
   "outputs": [],
   "source": [
    "from tensorflow import keras   # feel free to use MNIST data from other sources \n",
    "import numpy as np\n",
    "from keras.models import Sequential\n",
    "from keras.layers import Dense, Conv2D, Flatten\n",
    "from keras.callbacks import EarlyStopping\n",
    "import matplotlib.pyplot as plt\n",
    "import random"
   ]
  },
  {
   "cell_type": "code",
   "execution_count": 2,
   "metadata": {
    "execution": {
     "iopub.execute_input": "2022-04-06T18:25:22.057690Z",
     "iopub.status.busy": "2022-04-06T18:25:22.057402Z",
     "iopub.status.idle": "2022-04-06T18:25:22.388144Z",
     "shell.execute_reply": "2022-04-06T18:25:22.387315Z",
     "shell.execute_reply.started": "2022-04-06T18:25:22.057652Z"
    }
   },
   "outputs": [],
   "source": [
    "(x_train, y_train), (x_test, y_test) = keras.datasets.mnist.load_data()"
   ]
  },
  {
   "cell_type": "code",
   "execution_count": 3,
   "metadata": {
    "execution": {
     "iopub.execute_input": "2022-04-06T18:25:22.389573Z",
     "iopub.status.busy": "2022-04-06T18:25:22.389305Z",
     "iopub.status.idle": "2022-04-06T18:25:22.473446Z",
     "shell.execute_reply": "2022-04-06T18:25:22.472572Z",
     "shell.execute_reply.started": "2022-04-06T18:25:22.389538Z"
    }
   },
   "outputs": [],
   "source": [
    "x_train = x_train.astype(\"float32\") / 255\n",
    "x_test = x_test.astype(\"float32\") / 255\n",
    "\n",
    "x_train = np.expand_dims(x_train, -1)\n",
    "x_test = np.expand_dims(x_test, -1)\n",
    "\n",
    "print(\"Train data shape:\", x_train.shape)\n",
    "print(x_train.shape[0], \"train samples\")\n",
    "print(x_test.shape[0], \"test samples\")"
   ]
  },
  {
   "cell_type": "markdown",
   "metadata": {},
   "source": [
    "#### One-hot-encode your labels here"
   ]
  },
  {
   "cell_type": "code",
   "execution_count": 4,
   "metadata": {
    "execution": {
     "iopub.execute_input": "2022-04-06T18:25:25.305773Z",
     "iopub.status.busy": "2022-04-06T18:25:25.305317Z",
     "iopub.status.idle": "2022-04-06T18:25:25.313976Z",
     "shell.execute_reply": "2022-04-06T18:25:25.313216Z",
     "shell.execute_reply.started": "2022-04-06T18:25:25.305734Z"
    }
   },
   "outputs": [],
   "source": [
    "print ('label shape: ',np.shape(y_train),np.shape(y_test))\n",
    "def encode(y):\n",
    "    return y\n",
    "\n",
    "y_train = encode(y_train)\n",
    "y_test = encode(y_test)\n",
    "print ('label shape: ',np.shape(y_train),np.shape(y_test))"
   ]
  },
  {
   "cell_type": "markdown",
   "metadata": {},
   "source": [
    "#### Define the model mentioned above\n",
    "    1) Print the number of trainable parameters\n",
    "     Use sgd optimizer with softmax at last layer \n",
    "     Train the model until convergence (use test data only for model selection and early stopping!)\n",
    "    2) Report the train and test accuracy\n",
    "    3) Plot the train and test accuracy and loss throughout the training"
   ]
  },
  {
   "cell_type": "code",
   "execution_count": 5,
   "metadata": {
    "execution": {
     "iopub.execute_input": "2022-04-06T18:25:35.112650Z",
     "iopub.status.busy": "2022-04-06T18:25:35.112082Z",
     "iopub.status.idle": "2022-04-06T18:25:35.119524Z",
     "shell.execute_reply": "2022-04-06T18:25:35.118251Z",
     "shell.execute_reply.started": "2022-04-06T18:25:35.112614Z"
    }
   },
   "outputs": [],
   "source": [
    "#code here\n",
    "def create_model():\n",
    "    \n",
    "    model = Sequential()\n",
    "    model.add(Conv2D(64, 3, activation='relu', padding='same', input_shape=(28,28,1)))\n",
    "    model.add(Conv2D(64, 3, activation='relu', padding='same'))\n",
    "    model.add(Conv2D(64, 3, activation='relu', padding='same'))\n",
    "    model.add(Conv2D(64, 3, activation='relu', padding='same'))\n",
    "    model.add(Flatten())\n",
    "    model.add(Dense(10, activation='softmax'))\n",
    "    model.compile(loss='sparse_categorical_crossentropy',optimizer='sgd',metrics=['accuracy'])\n",
    "    return model"
   ]
  },
  {
   "cell_type": "code",
   "execution_count": 6,
   "metadata": {
    "execution": {
     "iopub.execute_input": "2022-04-06T18:25:38.089990Z",
     "iopub.status.busy": "2022-04-06T18:25:38.089713Z",
     "iopub.status.idle": "2022-04-06T18:25:38.094658Z",
     "shell.execute_reply": "2022-04-06T18:25:38.093972Z",
     "shell.execute_reply.started": "2022-04-06T18:25:38.089961Z"
    }
   },
   "outputs": [],
   "source": [
    "def model_history(model):\n",
    "    \n",
    "    training_accuracy = model.history['accuracy']\n",
    "    testing_accuracy = model.history['val_accuracy']\n",
    "    training_loss = model.history['loss']\n",
    "    testing_loss = model.history['val_loss']\n",
    "    \n",
    "    return training_accuracy, testing_accuracy, training_loss, testing_loss"
   ]
  },
  {
   "cell_type": "code",
   "execution_count": 12,
   "metadata": {
    "execution": {
     "iopub.execute_input": "2022-04-06T18:28:24.675173Z",
     "iopub.status.busy": "2022-04-06T18:28:24.674604Z",
     "iopub.status.idle": "2022-04-06T18:28:24.682962Z",
     "shell.execute_reply": "2022-04-06T18:28:24.681560Z",
     "shell.execute_reply.started": "2022-04-06T18:28:24.675135Z"
    }
   },
   "outputs": [],
   "source": [
    "def plot_graphs(epochs,training_accuracy, testing_accuracy, training_loss, testing_loss):\n",
    "    \n",
    "    epochs = [x for x in range(1, epochs+1)]\n",
    "    fig, (ax1, ax2) = plt.subplots(1,2, figsize = (15,5))\n",
    "    ax1.plot(epochs, training_accuracy, color=\"red\", label=\"training accuracy\")\n",
    "    ax1.plot(epochs, testing_accuracy,color=\"blue\", label=\"testing accuracy\")\n",
    "    ax1.set_title(\"Number of epochs vs Accuracy Plot\")\n",
    "    ax1.set(xlabel = \"Number of epochs\", ylabel = \"Accuracy\")\n",
    "    ax1.legend()\n",
    "    ax2.plot(epochs, training_loss, color=\"red\", label=\"training loss\")\n",
    "    ax2.plot(epochs, testing_loss, color=\"blue\", label=\"testing loss\")\n",
    "    ax2.set_title(\"Number of epochs vs Loss Plot\")\n",
    "    ax2.set(xlabel = \"Number of epochs\", ylabel = \"Loss\")\n",
    "    ax2.legend()\n"
   ]
  },
  {
   "cell_type": "code",
   "execution_count": 20,
   "metadata": {
    "execution": {
     "iopub.execute_input": "2022-04-06T18:52:49.801111Z",
     "iopub.status.busy": "2022-04-06T18:52:49.800422Z",
     "iopub.status.idle": "2022-04-06T18:52:49.806744Z",
     "shell.execute_reply": "2022-04-06T18:52:49.805944Z",
     "shell.execute_reply.started": "2022-04-06T18:52:49.801077Z"
    }
   },
   "outputs": [],
   "source": [
    "def randomize(y_train, noise):\n",
    "    \n",
    "    l = len(y_train) * (noise/100)\n",
    "    for i in range(int(l)):\n",
    "        x = random.randint(0,9)\n",
    "        while x==y_train[i] :\n",
    "            x = random.randint(0,9)\n",
    "        \n",
    "        y_train[i] = x\n",
    "    \n",
    "    return y_train"
   ]
  },
  {
   "cell_type": "code",
   "execution_count": 29,
   "metadata": {
    "execution": {
     "iopub.execute_input": "2022-04-06T18:59:18.573863Z",
     "iopub.status.busy": "2022-04-06T18:59:18.573364Z",
     "iopub.status.idle": "2022-04-06T18:59:18.580442Z",
     "shell.execute_reply": "2022-04-06T18:59:18.579377Z",
     "shell.execute_reply.started": "2022-04-06T18:59:18.573824Z"
    }
   },
   "outputs": [],
   "source": [
    "def cnn_model(noise=0):\n",
    "    \n",
    "    model = create_model()\n",
    "    model.summary()\n",
    "    epochs = 10\n",
    "    earlystopping = EarlyStopping(monitor='val_accuracy', patience = 2)\n",
    "    y_train_new = randomize(y_train, noise)\n",
    "    model = model.fit(x_train, y_train_new, validation_data=(x_test,y_test), epochs = epochs, callbacks=[earlystopping])\n",
    "    training_accuracy, testing_accuracy, training_loss, testing_loss = model_history(model)\n",
    "    epochs = len(training_accuracy)\n",
    "    return epochs, training_accuracy, testing_accuracy, training_loss, testing_loss"
   ]
  },
  {
   "cell_type": "code",
   "execution_count": 30,
   "metadata": {
    "execution": {
     "iopub.execute_input": "2022-04-06T18:59:21.828081Z",
     "iopub.status.busy": "2022-04-06T18:59:21.827531Z",
     "iopub.status.idle": "2022-04-06T19:00:52.419073Z",
     "shell.execute_reply": "2022-04-06T19:00:52.418267Z",
     "shell.execute_reply.started": "2022-04-06T18:59:21.828035Z"
    }
   },
   "outputs": [],
   "source": [
    "epochs, training_accuracy, testing_accuracy, training_loss, testing_loss = cnn_model()"
   ]
  },
  {
   "cell_type": "code",
   "execution_count": 31,
   "metadata": {
    "execution": {
     "iopub.execute_input": "2022-04-06T19:01:45.659209Z",
     "iopub.status.busy": "2022-04-06T19:01:45.658939Z",
     "iopub.status.idle": "2022-04-06T19:01:45.667870Z",
     "shell.execute_reply": "2022-04-06T19:01:45.666097Z",
     "shell.execute_reply.started": "2022-04-06T19:01:45.659178Z"
    }
   },
   "outputs": [],
   "source": [
    "print(\"Training Accuracy : \", training_accuracy[epochs-1])\n",
    "print(\"Testing Accuracy : \",testing_accuracy[epochs-1])\n",
    "print(\"Training Loss : \", training_loss[epochs-1])\n",
    "print(\"Testing Loss : \", testing_loss[epochs-1])"
   ]
  },
  {
   "cell_type": "code",
   "execution_count": 32,
   "metadata": {
    "execution": {
     "iopub.execute_input": "2022-04-06T19:01:52.174610Z",
     "iopub.status.busy": "2022-04-06T19:01:52.174244Z",
     "iopub.status.idle": "2022-04-06T19:01:52.785854Z",
     "shell.execute_reply": "2022-04-06T19:01:52.785177Z",
     "shell.execute_reply.started": "2022-04-06T19:01:52.174576Z"
    }
   },
   "outputs": [],
   "source": [
    "plot_graphs(epochs, training_accuracy, testing_accuracy, training_loss, testing_loss)"
   ]
  },
  {
   "cell_type": "markdown",
   "metadata": {},
   "source": [
    "## Q) 1.2\n",
    "Now lets start adding label noise to the dataset\n"
   ]
  },
  {
   "cell_type": "markdown",
   "metadata": {},
   "source": [
    "1) Randomize 20% of train labels and repeat Q1 (1,2 & 3)\n",
    "\n",
    "2) Randomize 40% of train labels and repeat Q1 (3)\n",
    "\n",
    "3) Randomize 60% of train labels and repeat Q1 (3)\n",
    "\n",
    "4) Randomize 80% of train labels and repeat Q1 (3)\n",
    "\n",
    "5) Randomize 100% of train labels and repeat Q1 (3)\n"
   ]
  },
  {
   "cell_type": "markdown",
   "metadata": {},
   "source": [
    "# Noise = 20%"
   ]
  },
  {
   "cell_type": "code",
   "execution_count": 35,
   "metadata": {
    "execution": {
     "iopub.execute_input": "2022-04-06T19:02:51.403507Z",
     "iopub.status.busy": "2022-04-06T19:02:51.402815Z",
     "iopub.status.idle": "2022-04-06T19:04:13.653313Z",
     "shell.execute_reply": "2022-04-06T19:04:13.652615Z",
     "shell.execute_reply.started": "2022-04-06T19:02:51.403434Z"
    }
   },
   "outputs": [],
   "source": [
    "epochs, training_accuracy, testing_accuracy, training_loss, testing_loss = cnn_model(20)"
   ]
  },
  {
   "cell_type": "code",
   "execution_count": 38,
   "metadata": {
    "execution": {
     "iopub.execute_input": "2022-04-06T19:04:14.048673Z",
     "iopub.status.busy": "2022-04-06T19:04:14.048261Z",
     "iopub.status.idle": "2022-04-06T19:04:14.056444Z",
     "shell.execute_reply": "2022-04-06T19:04:14.055470Z",
     "shell.execute_reply.started": "2022-04-06T19:04:14.048635Z"
    }
   },
   "outputs": [],
   "source": [
    "print(\"Training Accuracy : \", training_accuracy[epochs-1])\n",
    "print(\"Testing Accuracy : \",testing_accuracy[epochs-1])\n",
    "print(\"Training Loss : \", training_loss[epochs-1])\n",
    "print(\"Testing Loss : \", testing_loss[epochs-1])"
   ]
  },
  {
   "cell_type": "code",
   "execution_count": 39,
   "metadata": {
    "execution": {
     "iopub.execute_input": "2022-04-06T19:04:14.058803Z",
     "iopub.status.busy": "2022-04-06T19:04:14.058223Z",
     "iopub.status.idle": "2022-04-06T19:04:14.427449Z",
     "shell.execute_reply": "2022-04-06T19:04:14.426778Z",
     "shell.execute_reply.started": "2022-04-06T19:04:14.058771Z"
    }
   },
   "outputs": [],
   "source": [
    "plot_graphs(epochs, training_accuracy, testing_accuracy, training_loss, testing_loss)"
   ]
  },
  {
   "cell_type": "markdown",
   "metadata": {},
   "source": [
    "# Noise = 40%"
   ]
  },
  {
   "cell_type": "code",
   "execution_count": 40,
   "metadata": {
    "execution": {
     "iopub.execute_input": "2022-04-06T19:04:14.429129Z",
     "iopub.status.busy": "2022-04-06T19:04:14.428715Z",
     "iopub.status.idle": "2022-04-06T19:06:37.071933Z",
     "shell.execute_reply": "2022-04-06T19:06:37.070969Z",
     "shell.execute_reply.started": "2022-04-06T19:04:14.429083Z"
    }
   },
   "outputs": [],
   "source": [
    "epochs, training_accuracy, testing_accuracy, training_loss, testing_loss = cnn_model(40)"
   ]
  },
  {
   "cell_type": "code",
   "execution_count": 41,
   "metadata": {
    "execution": {
     "iopub.execute_input": "2022-04-06T19:06:37.073849Z",
     "iopub.status.busy": "2022-04-06T19:06:37.073610Z",
     "iopub.status.idle": "2022-04-06T19:06:37.422064Z",
     "shell.execute_reply": "2022-04-06T19:06:37.421348Z",
     "shell.execute_reply.started": "2022-04-06T19:06:37.073816Z"
    }
   },
   "outputs": [],
   "source": [
    "plot_graphs(epochs, training_accuracy, testing_accuracy, training_loss, testing_loss)"
   ]
  },
  {
   "cell_type": "markdown",
   "metadata": {
    "execution": {
     "iopub.execute_input": "2022-04-06T18:11:21.650120Z",
     "iopub.status.busy": "2022-04-06T18:11:21.649867Z",
     "iopub.status.idle": "2022-04-06T18:11:21.653794Z",
     "shell.execute_reply": "2022-04-06T18:11:21.653099Z",
     "shell.execute_reply.started": "2022-04-06T18:11:21.650092Z"
    }
   },
   "source": [
    "# Noise = 60%"
   ]
  },
  {
   "cell_type": "code",
   "execution_count": 42,
   "metadata": {
    "execution": {
     "iopub.execute_input": "2022-04-06T19:06:37.423471Z",
     "iopub.status.busy": "2022-04-06T19:06:37.423217Z",
     "iopub.status.idle": "2022-04-06T19:07:50.298767Z",
     "shell.execute_reply": "2022-04-06T19:07:50.297868Z",
     "shell.execute_reply.started": "2022-04-06T19:06:37.423435Z"
    }
   },
   "outputs": [],
   "source": [
    "epochs, training_accuracy, testing_accuracy, training_loss, testing_loss = cnn_model(60)"
   ]
  },
  {
   "cell_type": "code",
   "execution_count": 43,
   "metadata": {
    "execution": {
     "iopub.execute_input": "2022-04-06T19:07:50.304739Z",
     "iopub.status.busy": "2022-04-06T19:07:50.304115Z",
     "iopub.status.idle": "2022-04-06T19:07:50.816694Z",
     "shell.execute_reply": "2022-04-06T19:07:50.815820Z",
     "shell.execute_reply.started": "2022-04-06T19:07:50.304699Z"
    }
   },
   "outputs": [],
   "source": [
    "plot_graphs(epochs, training_accuracy, testing_accuracy, training_loss, testing_loss)"
   ]
  },
  {
   "cell_type": "markdown",
   "metadata": {
    "execution": {
     "iopub.execute_input": "2022-04-06T18:11:29.902534Z",
     "iopub.status.busy": "2022-04-06T18:11:29.901750Z",
     "iopub.status.idle": "2022-04-06T18:11:29.905416Z",
     "shell.execute_reply": "2022-04-06T18:11:29.904722Z",
     "shell.execute_reply.started": "2022-04-06T18:11:29.902473Z"
    }
   },
   "source": [
    "# Noise = 80%"
   ]
  },
  {
   "cell_type": "code",
   "execution_count": 44,
   "metadata": {
    "execution": {
     "iopub.execute_input": "2022-04-06T19:07:50.825143Z",
     "iopub.status.busy": "2022-04-06T19:07:50.823106Z",
     "iopub.status.idle": "2022-04-06T19:09:13.448104Z",
     "shell.execute_reply": "2022-04-06T19:09:13.447351Z",
     "shell.execute_reply.started": "2022-04-06T19:07:50.825104Z"
    }
   },
   "outputs": [],
   "source": [
    "epochs, training_accuracy, testing_accuracy, training_loss, testing_loss = cnn_model(80)"
   ]
  },
  {
   "cell_type": "code",
   "execution_count": 45,
   "metadata": {
    "execution": {
     "iopub.execute_input": "2022-04-06T19:09:13.449921Z",
     "iopub.status.busy": "2022-04-06T19:09:13.449668Z",
     "iopub.status.idle": "2022-04-06T19:09:14.277505Z",
     "shell.execute_reply": "2022-04-06T19:09:14.276819Z",
     "shell.execute_reply.started": "2022-04-06T19:09:13.449888Z"
    }
   },
   "outputs": [],
   "source": [
    "plot_graphs(epochs, training_accuracy, testing_accuracy, training_loss, testing_loss)"
   ]
  },
  {
   "cell_type": "markdown",
   "metadata": {},
   "source": [
    "# Noise = 100%"
   ]
  },
  {
   "cell_type": "code",
   "execution_count": 46,
   "metadata": {
    "execution": {
     "iopub.execute_input": "2022-04-06T19:09:14.279194Z",
     "iopub.status.busy": "2022-04-06T19:09:14.278774Z",
     "iopub.status.idle": "2022-04-06T19:09:42.710189Z",
     "shell.execute_reply": "2022-04-06T19:09:42.709453Z",
     "shell.execute_reply.started": "2022-04-06T19:09:14.279155Z"
    }
   },
   "outputs": [],
   "source": [
    "epochs, training_accuracy, testing_accuracy, training_loss, testing_loss = cnn_model(100)"
   ]
  },
  {
   "cell_type": "code",
   "execution_count": 47,
   "metadata": {
    "execution": {
     "iopub.execute_input": "2022-04-06T19:09:42.711962Z",
     "iopub.status.busy": "2022-04-06T19:09:42.711713Z",
     "iopub.status.idle": "2022-04-06T19:09:56.576401Z",
     "shell.execute_reply": "2022-04-06T19:09:56.575714Z",
     "shell.execute_reply.started": "2022-04-06T19:09:42.711927Z"
    }
   },
   "outputs": [],
   "source": [
    "plot_graphs(epochs, training_accuracy, testing_accuracy, training_loss, testing_loss)"
   ]
  }
 ],
 "metadata": {
  "kernelspec": {
   "display_name": "Python 3 (ipykernel)",
   "language": "python",
   "name": "python3"
  },
  "language_info": {
   "codemirror_mode": {
    "name": "ipython",
    "version": 3
   },
   "file_extension": ".py",
   "mimetype": "text/x-python",
   "name": "python",
   "nbconvert_exporter": "python",
   "pygments_lexer": "ipython3",
   "version": "3.8.10"
  }
 },
 "nbformat": 4,
 "nbformat_minor": 4
}
