{
  "cells": [
    {
      "cell_type": "markdown",
      "metadata": {
        "id": "7b7992a1"
      },
      "source": [
        "# Image Recommendation System via Collaborative Filtering"
      ],
      "id": "7b7992a1"
    },
    {
      "cell_type": "markdown",
      "metadata": {
        "id": "bdbd69cd"
      },
      "source": [
        "# ***Please read the instructions very carefully***"
      ],
      "id": "bdbd69cd"
    },
    {
      "cell_type": "markdown",
      "metadata": {
        "id": "17602772"
      },
      "source": [
        "1.   Assignment must be implemented in Python 3 only.\n",
        "2.   You are allowed to use libraries for data preprocessing (numpy, pandas, nltk etc) and for evaluation metrics, data visualization (matplotlib etc.).\n",
        "3.   You will be evaluated not just on the overall performance of the model and also on the experimentation with hyper parameters, data prepossessing techniques etc.\n",
        "4.   ⚠️ The Assignment will be evaluated automatically. Please adhere to taking proper inputs from `config.csv` file. You can change your `config.csv` file to experiment with your code. But at the end, make sure that your outputs are corresponding to input values in `config.csv`\n",
        "5.   Strict plagiarism checking will be done. An F will be awarded for plagiarism."
      ],
      "id": "17602772"
    },
    {
      "cell_type": "markdown",
      "metadata": {
        "id": "3c9abf04"
      },
      "source": [
        "## About the Dataset\n",
        "Behance is a community art website where users showcase and discover creative work. Each user is able to “appreciate” (equivalent to a “like” on Instagram or a “react” on Facebook) an image, indicating that they like the image. It is in the website’s best interests to show users pictures that they would like, to keep them engaged for longer. For this question, given a set of pictures that a user has already appreciated, you have to show them a new picture that they would like based on what similar users appreciated.\n",
        "\n",
        "\n",
        "<br><br>\n",
        "**The dataset has information of 1 million appreciates of 63,497 users on 178,788 items. The file Behance appreciate 1M has a triplet in each line in the form of (user id, item id, unix timestamp).**"
      ],
      "id": "3c9abf04"
    },
    {
      "cell_type": "markdown",
      "metadata": {
        "id": "11f6eaf3"
      },
      "source": [
        "**Task: Take the inputs from the config.csv file and output the recommendations for a particular person**\n",
        "- Collaborative Filtering is a way to predict items to the user based on the the\n",
        "user’s history and the history of similar users. The similarity between users can be quantified by the number of images that both the users appreciated.\n",
        "- The images appreciated by a similar user would be the most suitable images to show a user. Since we can find the similarity between any two users, we would be able to find the “nearest” neighbours of any user, allowing us to use a KNN-based algorithm to recommend new images to a user.\n",
        "- Since people do not like seeing pictures that they have seen already. Make sure that you do not recommend pictures that a user has appreciated already.\n",
        "- Output the final response will be saved in the file named ```config['output_file']```.\n"
      ],
      "id": "11f6eaf3"
    },
    {
      "cell_type": "markdown",
      "metadata": {
        "id": "1c9a5e4f"
      },
      "source": [
        "**Output file format:**\n",
        "Populate the output file with images that the user has not seen of the k most\n",
        "similar users, in descending order of their similarity. Each line in the output\n",
        "file should be a duplet in the form of (item id, user id), where the user id is the\n",
        "id of the kth similar user. The order of the images corresponding to the same\n",
        "similar user would not matter. The output file would look something like this:\n",
        "```\n",
        "item_id_1_of_1st_similar_user 1st_most_similar_user_id\n",
        "item_id_2_of_1st_similar_user 1st_most_similar_user_id\n",
        "item_id_3_of_1st_similar_user 1st_most_similar_user_id\n",
        "...\n",
        "item_id_1_of_2nd_similar_user 2nd_most_similar_user_id\n",
        "item_id_2_of_2nd_similar_user 2nd_most_similar_user_id\n",
        "item_id_3_of_2nd_similar_user 2nd_most_similar_user_id\n",
        "...\n",
        "item_id_1_of_kth_similar_user kth_most_similar_user_id\n",
        "item_id_2_of_kth_similar_user kth_most_similar_user_id\n",
        "item_id_3_of_kth_similar_user kth_most_similar_user_id\n",
        "```"
      ],
      "id": "1c9a5e4f"
    },
    {
      "cell_type": "markdown",
      "metadata": {
        "id": "c6d0c592"
      },
      "source": [
        "The dataset was extracted using Behance’s API as a part of the paper\n",
        "“Vista: A visually, socially, and temporally-aware model for artistic\n",
        "recommendation, RecSys, 2016”. Check out this [Google Drive folder](https://drive.google.com/drive/folders/0B9Ck8jw-TZUEc3NlMjVXdDlPU1k?resourcekey=0-6_8ykn0o4fLc5fuTEm91xA) for\n",
        "more information about the dataset.\n",
        "\n",
        "\n",
        "Have fun! The users are waiting to see new pictures!"
      ],
      "id": "c6d0c592"
    },
    {
      "cell_type": "markdown",
      "metadata": {
        "id": "87b8072a"
      },
      "source": [
        "### Import necessary libraries"
      ],
      "id": "87b8072a"
    },
    {
      "cell_type": "code",
      "execution_count": 7,
      "metadata": {
        "id": "f153853d"
      },
      "outputs": [],
      "source": [
        "import numpy as np\n",
        "import pandas as pd\n",
        "from scipy.sparse import csr_matrix\n",
        "from sklearn.decomposition import TruncatedSVD\n",
        "from numpy.linalg import norm"
      ],
      "id": "f153853d"
    },
    {
      "cell_type": "code",
      "execution_count": 8,
      "metadata": {
        "id": "41ac6337"
      },
      "outputs": [],
      "source": [
        "# Config Generation Sample Code.\n",
        "# ⚠️ Only for experimentation on your side.\n",
        "# ⚠️ Should be commented during submission.\n",
        "\n",
        "# df = pd.DataFrame(data=[{'id':276633,\n",
        "#                   'k':5,\n",
        "#                   'dataset_file':'./Behance_appreciate_1M',\n",
        "#                   'output_file':'./output.txt'}])\n",
        "# df.to_csv('config.csv')"
      ],
      "id": "41ac6337"
    },
    {
      "cell_type": "code",
      "execution_count": 9,
      "metadata": {
        "id": "7af3e999"
      },
      "outputs": [],
      "source": [
        "config = pd.read_csv('config.csv').iloc[0]"
      ],
      "id": "7af3e999"
    },
    {
      "cell_type": "code",
      "execution_count": 10,
      "metadata": {
        "id": "f4d09c27"
      },
      "outputs": [],
      "source": [
        "user = config['id']\n",
        "k_value = config['k']"
      ],
      "id": "f4d09c27"
    },
    {
      "cell_type": "markdown",
      "metadata": {
        "id": "10935090"
      },
      "source": [
        "### Read the Data"
      ],
      "id": "10935090"
    },
    {
      "cell_type": "code",
      "execution_count": 11,
      "metadata": {
        "id": "5bbba85a"
      },
      "outputs": [],
      "source": [
        "with open(config['dataset_file'], 'r') as inFile:\n",
        "    appreciate_data = inFile.readlines()"
      ],
      "id": "5bbba85a"
    },
    {
      "cell_type": "markdown",
      "metadata": {
        "id": "99512e25"
      },
      "source": [
        "### Initialize a dictionary to store the item_ids that a user likes\n",
        "\n",
        "### Go through each line of the input file and construct the user_likes dictionary"
      ],
      "id": "99512e25"
    },
    {
      "cell_type": "code",
      "execution_count": 12,
      "metadata": {
        "id": "1d3d9be5"
      },
      "outputs": [],
      "source": [
        "user_likes = dict()"
      ],
      "id": "1d3d9be5"
    },
    {
      "cell_type": "code",
      "execution_count": 13,
      "metadata": {
        "id": "80a539f1"
      },
      "outputs": [],
      "source": [
        "for line in appreciate_data:\n",
        "    line = line.strip()\n",
        "    \n",
        "    user_id = int(line.split()[0])\n",
        "    item_id = int(line.split()[1])\n",
        "\n",
        "    if user_id not in user_likes:\n",
        "        user_likes[user_id] = list()\n",
        "    \n",
        "    user_likes[user_id].append(item_id)"
      ],
      "id": "80a539f1"
    },
    {
      "cell_type": "code",
      "execution_count": 14,
      "metadata": {
        "colab": {
          "base_uri": "https://localhost:8080/"
        },
        "id": "t9NH6BOv3RVu",
        "outputId": "3417a644-e565-460c-c216-99d8de9eeace"
      },
      "outputs": [
        {
          "output_type": "stream",
          "name": "stdout",
          "text": [
            "63497\n",
            "178788\n"
          ]
        }
      ],
      "source": [
        "set_of_users = []\n",
        "set_of_images = []\n",
        "\n",
        "for i in user_likes:\n",
        "    set_of_users.append(i)\n",
        "set_of_users = set(set_of_users)\n",
        "print(len(set_of_users))\n",
        "\n",
        "for i in user_likes.values():\n",
        "    for j in i:\n",
        "        set_of_images.append(j)\n",
        "\n",
        "set_of_images = set(set_of_images)\n",
        "print(len(set_of_images))\n",
        "\n",
        "count = 0\n",
        "index_of_image = {}\n",
        "for i in set_of_images:\n",
        "    index_of_image[i] = count\n",
        "    count = count + 1\n",
        "\n",
        "count = 0\n",
        "index_of_user = {}\n",
        "for i in set_of_users:\n",
        "    index_of_user[i] = count\n",
        "    count = count + 1    "
      ],
      "id": "t9NH6BOv3RVu"
    },
    {
      "cell_type": "code",
      "execution_count": 15,
      "metadata": {
        "id": "sM_37kLh3lmh"
      },
      "outputs": [],
      "source": [
        "row = []\n",
        "col = []\n",
        "data = []\n",
        "for i in set_of_users:\n",
        "    for j in user_likes[i]:\n",
        "        row.append(index_of_user[i])\n",
        "        col.append(index_of_image[j])\n",
        "        data.append(1)"
      ],
      "id": "sM_37kLh3lmh"
    },
    {
      "cell_type": "code",
      "execution_count": 16,
      "metadata": {
        "id": "6FlCVmDH32Es"
      },
      "outputs": [],
      "source": [
        "mat = csr_matrix((data, (row,col)))"
      ],
      "id": "6FlCVmDH32Es"
    },
    {
      "cell_type": "code",
      "execution_count": 17,
      "metadata": {
        "id": "0lNkHJbo32Lu"
      },
      "outputs": [],
      "source": [
        "svd = TruncatedSVD(n_components=1500, n_iter=5, random_state=10)\n",
        "mat = svd.fit_transform(mat)"
      ],
      "id": "0lNkHJbo32Lu"
    },
    {
      "cell_type": "code",
      "execution_count": 18,
      "metadata": {
        "id": "C19rXlpU7iQr"
      },
      "outputs": [],
      "source": [
        "def cosine_distance(v1,v2):\n",
        "    return 1 - (np.dot(v1, v2)/(norm(v1)*norm(v2)))"
      ],
      "id": "C19rXlpU7iQr"
    },
    {
      "cell_type": "markdown",
      "metadata": {
        "id": "9e199965"
      },
      "source": [
        "### Use KNN after Collaborative Filtering to find nearest neighbors"
      ],
      "id": "9e199965"
    },
    {
      "cell_type": "code",
      "execution_count": 19,
      "metadata": {
        "id": "2117df52"
      },
      "outputs": [],
      "source": [
        "def neighbors(user,k_value):\n",
        "    z = mat[index_of_user[user]]\n",
        "    set1 = set(user_likes[user])\n",
        "    final_d = []\n",
        "    for i,j in zip(range(0,len(mat)), index_of_user):\n",
        "        set2 = set(user_likes[j])\n",
        "        # print(j)\n",
        "        if len(set2 - set1) != 0:\n",
        "          d = cosine_distance(mat[i],z)\n",
        "          final_d.append([d,j])\n",
        "    final_d.sort()\n",
        "    final_d = final_d[0:k_value]\n",
        "    ans = []\n",
        "    for i in final_d:\n",
        "      ans.append(i[1])\n",
        "    return ans"
      ],
      "id": "2117df52"
    },
    {
      "cell_type": "markdown",
      "metadata": {
        "id": "892c395b"
      },
      "source": [
        "### Open the output file to write all the lines to the file"
      ],
      "id": "892c395b"
    },
    {
      "cell_type": "code",
      "execution_count": 21,
      "metadata": {
        "id": "428708d5"
      },
      "outputs": [],
      "source": [
        "outFile = open(config['output_file'], 'w')\n",
        "l = neighbors(user,k_value)\n",
        "# print(l)\n",
        "image_set = set(user_likes[user])\n",
        "for n_user in l:\n",
        "    user_id = n_user\n",
        "    for item_id in user_likes[user_id]:\n",
        "      if item_id not in image_set:\n",
        "        outFile.write(str(item_id) + ' ' + str(user_id) + '\\n')\n",
        "        # image_set.add(item_id)\n",
        "# print(image_set)\n",
        "outFile.close()"
      ],
      "id": "428708d5"
    },
    {
      "cell_type": "code",
      "source": [
        ""
      ],
      "metadata": {
        "id": "EdiRJVGyBW1_"
      },
      "id": "EdiRJVGyBW1_",
      "execution_count": 20,
      "outputs": []
    }
  ],
  "metadata": {
    "colab": {
      "name": "2021201089_Assignment1_Question1.ipynb",
      "provenance": []
    },
    "kernelspec": {
      "display_name": "Python 3 (ipykernel)",
      "language": "python",
      "name": "python3"
    },
    "language_info": {
      "codemirror_mode": {
        "name": "ipython",
        "version": 3
      },
      "file_extension": ".py",
      "mimetype": "text/x-python",
      "name": "python",
      "nbconvert_exporter": "python",
      "pygments_lexer": "ipython3",
      "version": "3.8.10"
    }
  },
  "nbformat": 4,
  "nbformat_minor": 5
}