{
  "cells": [
    {
      "cell_type": "markdown",
      "id": "02c54141",
      "metadata": {
        "id": "02c54141"
      },
      "source": [
        "## Spam Email Classifier with KNN using TF-IDF scores"
      ]
    },
    {
      "cell_type": "markdown",
      "id": "1c17102e",
      "metadata": {
        "id": "1c17102e"
      },
      "source": [
        "1.   Assignment must be implemented in Python 3 only.\n",
        "2.   You are allowed to use libraries for data preprocessing (numpy, pandas, nltk etc) and for evaluation metrics, data visualization (matplotlib etc.).\n",
        "3.   You will be evaluated not just on the overall performance of the model and also on the experimentation with hyper parameters, data prepossessing techniques etc.\n",
        "4.   The report file must be a well documented jupyter notebook, explaining the experiments you have performed, evaluation metrics and corresponding code. The code must run and be able to reproduce the accuracies, figures/graphs etc.\n",
        "5.   For all the questions, you must create a train-validation data split and test the hyperparameter tuning on the validation set. Your jupyter notebook must reflect the same.\n",
        "6.   Strict plagiarism checking will be done. An F will be awarded for plagiarism."
      ]
    },
    {
      "cell_type": "markdown",
      "id": "0d34a310",
      "metadata": {
        "id": "0d34a310"
      },
      "source": [
        "**Task: Given an email, classify it as spam or ham**\n",
        "\n",
        "Given input text file (\"emails.txt\") containing 5572 email messages, with each row having its corresponding label (spam/ham) attached to it.\n",
        "\n",
        "This task also requires basic pre-processing of text (like removing stopwords, stemming/lemmatizing, replacing email_address with 'email-tag', etc..).\n",
        "\n",
        "You are required to find the tf-idf scores for the given data and use them to perform KNN using Cosine Similarity."
      ]
    },
    {
      "cell_type": "markdown",
      "id": "b0c87696",
      "metadata": {
        "id": "b0c87696"
      },
      "source": [
        "### Import necessary libraries"
      ]
    },
    {
      "cell_type": "code",
      "execution_count": 1,
      "id": "3d5a1fe2",
      "metadata": {
        "id": "3d5a1fe2"
      },
      "outputs": [],
      "source": [
        "import pandas as pd\n",
        "import numpy as np\n",
        "from nltk.corpus import stopwords\n",
        "from nltk.stem.porter import PorterStemmer\n",
        "import re\n",
        "from sklearn.model_selection import train_test_split\n",
        "from sklearn.feature_extraction.text import TfidfVectorizer\n",
        "from math import sqrt\n",
        "import nltk\n",
        "from sklearn.neighbors import KNeighborsClassifier\n",
        "from sklearn.metrics import confusion_matrix\n",
        "from sklearn.metrics import r2_score\n",
        "import time\n",
        "from numpy.linalg import norm\n",
        "from nltk.stem import WordNetLemmatizer\n",
        "from sklearn.metrics import f1_score\n",
        "from matplotlib import pyplot as plt\n",
        "from sklearn.metrics import accuracy_score\n",
        "from sklearn.metrics import precision_score\n",
        "from sklearn.metrics import recall_score"
      ]
    },
    {
      "cell_type": "markdown",
      "id": "7aef4dff",
      "metadata": {
        "id": "7aef4dff"
      },
      "source": [
        "### Load dataset"
      ]
    },
    {
      "cell_type": "code",
      "execution_count": 2,
      "id": "f178f892",
      "metadata": {
        "colab": {
          "base_uri": "https://localhost:8080/",
          "height": 424
        },
        "id": "f178f892",
        "outputId": "fe7beac8-efa6-4ae5-c363-3daaa001e12f"
      },
      "outputs": [
        {
          "output_type": "execute_result",
          "data": {
            "text/html": [
              "\n",
              "  <div id=\"df-8dfe6137-cabc-4bd5-99a8-49577ce9dff9\">\n",
              "    <div class=\"colab-df-container\">\n",
              "      <div>\n",
              "<style scoped>\n",
              "    .dataframe tbody tr th:only-of-type {\n",
              "        vertical-align: middle;\n",
              "    }\n",
              "\n",
              "    .dataframe tbody tr th {\n",
              "        vertical-align: top;\n",
              "    }\n",
              "\n",
              "    .dataframe thead th {\n",
              "        text-align: right;\n",
              "    }\n",
              "</style>\n",
              "<table border=\"1\" class=\"dataframe\">\n",
              "  <thead>\n",
              "    <tr style=\"text-align: right;\">\n",
              "      <th></th>\n",
              "      <th>Label</th>\n",
              "      <th>Message</th>\n",
              "    </tr>\n",
              "  </thead>\n",
              "  <tbody>\n",
              "    <tr>\n",
              "      <th>0</th>\n",
              "      <td>0</td>\n",
              "      <td>Go until jurong point, crazy.. Available only ...</td>\n",
              "    </tr>\n",
              "    <tr>\n",
              "      <th>1</th>\n",
              "      <td>0</td>\n",
              "      <td>Ok lar... Joking wif u oni...</td>\n",
              "    </tr>\n",
              "    <tr>\n",
              "      <th>2</th>\n",
              "      <td>1</td>\n",
              "      <td>Free entry in 2 a wkly comp to win FA Cup fina...</td>\n",
              "    </tr>\n",
              "    <tr>\n",
              "      <th>3</th>\n",
              "      <td>0</td>\n",
              "      <td>U dun say so early hor... U c already then say...</td>\n",
              "    </tr>\n",
              "    <tr>\n",
              "      <th>4</th>\n",
              "      <td>0</td>\n",
              "      <td>Nah I don't think he goes to usf, he lives aro...</td>\n",
              "    </tr>\n",
              "    <tr>\n",
              "      <th>...</th>\n",
              "      <td>...</td>\n",
              "      <td>...</td>\n",
              "    </tr>\n",
              "    <tr>\n",
              "      <th>5567</th>\n",
              "      <td>1</td>\n",
              "      <td>This is the 2nd time we have tried 2 contact u...</td>\n",
              "    </tr>\n",
              "    <tr>\n",
              "      <th>5568</th>\n",
              "      <td>0</td>\n",
              "      <td>Will ü b going to esplanade fr home?</td>\n",
              "    </tr>\n",
              "    <tr>\n",
              "      <th>5569</th>\n",
              "      <td>0</td>\n",
              "      <td>Pity, * was in mood for that. So...any other s...</td>\n",
              "    </tr>\n",
              "    <tr>\n",
              "      <th>5570</th>\n",
              "      <td>0</td>\n",
              "      <td>The guy did some bitching but I acted like i'd...</td>\n",
              "    </tr>\n",
              "    <tr>\n",
              "      <th>5571</th>\n",
              "      <td>0</td>\n",
              "      <td>Rofl. Its true to its name</td>\n",
              "    </tr>\n",
              "  </tbody>\n",
              "</table>\n",
              "<p>5572 rows × 2 columns</p>\n",
              "</div>\n",
              "      <button class=\"colab-df-convert\" onclick=\"convertToInteractive('df-8dfe6137-cabc-4bd5-99a8-49577ce9dff9')\"\n",
              "              title=\"Convert this dataframe to an interactive table.\"\n",
              "              style=\"display:none;\">\n",
              "        \n",
              "  <svg xmlns=\"http://www.w3.org/2000/svg\" height=\"24px\"viewBox=\"0 0 24 24\"\n",
              "       width=\"24px\">\n",
              "    <path d=\"M0 0h24v24H0V0z\" fill=\"none\"/>\n",
              "    <path d=\"M18.56 5.44l.94 2.06.94-2.06 2.06-.94-2.06-.94-.94-2.06-.94 2.06-2.06.94zm-11 1L8.5 8.5l.94-2.06 2.06-.94-2.06-.94L8.5 2.5l-.94 2.06-2.06.94zm10 10l.94 2.06.94-2.06 2.06-.94-2.06-.94-.94-2.06-.94 2.06-2.06.94z\"/><path d=\"M17.41 7.96l-1.37-1.37c-.4-.4-.92-.59-1.43-.59-.52 0-1.04.2-1.43.59L10.3 9.45l-7.72 7.72c-.78.78-.78 2.05 0 2.83L4 21.41c.39.39.9.59 1.41.59.51 0 1.02-.2 1.41-.59l7.78-7.78 2.81-2.81c.8-.78.8-2.07 0-2.86zM5.41 20L4 18.59l7.72-7.72 1.47 1.35L5.41 20z\"/>\n",
              "  </svg>\n",
              "      </button>\n",
              "      \n",
              "  <style>\n",
              "    .colab-df-container {\n",
              "      display:flex;\n",
              "      flex-wrap:wrap;\n",
              "      gap: 12px;\n",
              "    }\n",
              "\n",
              "    .colab-df-convert {\n",
              "      background-color: #E8F0FE;\n",
              "      border: none;\n",
              "      border-radius: 50%;\n",
              "      cursor: pointer;\n",
              "      display: none;\n",
              "      fill: #1967D2;\n",
              "      height: 32px;\n",
              "      padding: 0 0 0 0;\n",
              "      width: 32px;\n",
              "    }\n",
              "\n",
              "    .colab-df-convert:hover {\n",
              "      background-color: #E2EBFA;\n",
              "      box-shadow: 0px 1px 2px rgba(60, 64, 67, 0.3), 0px 1px 3px 1px rgba(60, 64, 67, 0.15);\n",
              "      fill: #174EA6;\n",
              "    }\n",
              "\n",
              "    [theme=dark] .colab-df-convert {\n",
              "      background-color: #3B4455;\n",
              "      fill: #D2E3FC;\n",
              "    }\n",
              "\n",
              "    [theme=dark] .colab-df-convert:hover {\n",
              "      background-color: #434B5C;\n",
              "      box-shadow: 0px 1px 3px 1px rgba(0, 0, 0, 0.15);\n",
              "      filter: drop-shadow(0px 1px 2px rgba(0, 0, 0, 0.3));\n",
              "      fill: #FFFFFF;\n",
              "    }\n",
              "  </style>\n",
              "\n",
              "      <script>\n",
              "        const buttonEl =\n",
              "          document.querySelector('#df-8dfe6137-cabc-4bd5-99a8-49577ce9dff9 button.colab-df-convert');\n",
              "        buttonEl.style.display =\n",
              "          google.colab.kernel.accessAllowed ? 'block' : 'none';\n",
              "\n",
              "        async function convertToInteractive(key) {\n",
              "          const element = document.querySelector('#df-8dfe6137-cabc-4bd5-99a8-49577ce9dff9');\n",
              "          const dataTable =\n",
              "            await google.colab.kernel.invokeFunction('convertToInteractive',\n",
              "                                                     [key], {});\n",
              "          if (!dataTable) return;\n",
              "\n",
              "          const docLinkHtml = 'Like what you see? Visit the ' +\n",
              "            '<a target=\"_blank\" href=https://colab.research.google.com/notebooks/data_table.ipynb>data table notebook</a>'\n",
              "            + ' to learn more about interactive tables.';\n",
              "          element.innerHTML = '';\n",
              "          dataTable['output_type'] = 'display_data';\n",
              "          await google.colab.output.renderOutput(dataTable, element);\n",
              "          const docLink = document.createElement('div');\n",
              "          docLink.innerHTML = docLinkHtml;\n",
              "          element.appendChild(docLink);\n",
              "        }\n",
              "      </script>\n",
              "    </div>\n",
              "  </div>\n",
              "  "
            ],
            "text/plain": [
              "      Label                                            Message\n",
              "0         0  Go until jurong point, crazy.. Available only ...\n",
              "1         0                      Ok lar... Joking wif u oni...\n",
              "2         1  Free entry in 2 a wkly comp to win FA Cup fina...\n",
              "3         0  U dun say so early hor... U c already then say...\n",
              "4         0  Nah I don't think he goes to usf, he lives aro...\n",
              "...     ...                                                ...\n",
              "5567      1  This is the 2nd time we have tried 2 contact u...\n",
              "5568      0               Will ü b going to esplanade fr home?\n",
              "5569      0  Pity, * was in mood for that. So...any other s...\n",
              "5570      0  The guy did some bitching but I acted like i'd...\n",
              "5571      0                         Rofl. Its true to its name\n",
              "\n",
              "[5572 rows x 2 columns]"
            ]
          },
          "metadata": {},
          "execution_count": 2
        }
      ],
      "source": [
        "df = pd.read_csv('emails.txt', header = None, delimiter = \"\\t\")\n",
        "df.columns = ['Label', 'Message']\n",
        "df['Label'] = df['Label'].apply(lambda x:1 if x == \"spam\" else 0)\n",
        "df"
      ]
    },
    {
      "cell_type": "markdown",
      "id": "cd1ef5ba",
      "metadata": {
        "id": "cd1ef5ba"
      },
      "source": [
        "### Preprocess data"
      ]
    },
    {
      "cell_type": "code",
      "execution_count": 3,
      "id": "1eae660d",
      "metadata": {
        "colab": {
          "base_uri": "https://localhost:8080/"
        },
        "id": "1eae660d",
        "outputId": "4751bcca-fa6e-408f-df97-39f2910e09bd"
      },
      "outputs": [
        {
          "output_type": "stream",
          "name": "stdout",
          "text": [
            "[nltk_data] Downloading package stopwords to /root/nltk_data...\n",
            "[nltk_data]   Package stopwords is already up-to-date!\n"
          ]
        },
        {
          "output_type": "stream",
          "name": "stderr",
          "text": [
            "/usr/local/lib/python3.7/dist-packages/ipykernel_launcher.py:10: SettingWithCopyWarning: \n",
            "A value is trying to be set on a copy of a slice from a DataFrame\n",
            "\n",
            "See the caveats in the documentation: https://pandas.pydata.org/pandas-docs/stable/user_guide/indexing.html#returning-a-view-versus-a-copy\n",
            "  # Remove the CWD from sys.path while we load stuff.\n"
          ]
        }
      ],
      "source": [
        "def preprocess():\n",
        "  nltk.download('stopwords')\n",
        "  for i in range(0,len(df)):\n",
        "    msg = re.sub('[^a-zA-Z]',' ', df['Message'][i])\n",
        "    msg = msg.lower()\n",
        "    msg = msg.split()\n",
        "    ps = PorterStemmer()\n",
        "    msg = [ps.stem(word) for word in msg if not word in set(stopwords.words('english'))]\n",
        "    msg = ' '.join(msg)\n",
        "    df['Message'][i] = msg    \n",
        "\n",
        "preprocess()"
      ]
    },
    {
      "cell_type": "markdown",
      "source": [
        "### Create TF-IDF vectorizer"
      ],
      "metadata": {
        "id": "xX-ZZAtsP9zw"
      },
      "id": "xX-ZZAtsP9zw"
    },
    {
      "cell_type": "code",
      "source": [
        "corpus = []\n",
        "set_of_words = []\n",
        "\n",
        "for line in df['Message']:\n",
        "    corpus.append(line)\n",
        "    for word in line.split():\n",
        "        if word not in set_of_words:\n",
        "            set_of_words.append(word)\n",
        "        \n",
        "set_of_words = set(set_of_words)\n",
        "no_of_documents = len(corpus)\n",
        " \n",
        "dict_of_indexes = {}\n",
        "i = 0\n",
        "for word in set_of_words:\n",
        "    dict_of_indexes[word] = i\n",
        "    i += 1\n",
        "    \n",
        "def count_dict(corpus):\n",
        "    count_of_words = {}\n",
        "    for word in set_of_words:\n",
        "        count_of_words[word] = 0\n",
        "        for line in corpus:\n",
        "            if word in line:\n",
        "                count_of_words[word] += 1\n",
        "    return count_of_words\n",
        " \n",
        "count_of_words = count_dict(corpus)\n",
        "\n",
        "def term_freq(word, line):\n",
        "    s = line.split()\n",
        "    l = len(s)\n",
        "    count = 0\n",
        "    for i in line.split():\n",
        "        if i==word:\n",
        "            count = count +1\n",
        "    if l==0:\n",
        "        return 0\n",
        "    return count/l\n",
        "\n",
        "def inverse_doc_freq(word):\n",
        "    if word in count_of_words:\n",
        "        return np.log(no_of_documents)/(count_of_words[word]+1)\n",
        "    else:\n",
        "        return np.log(no_of_documents)\n",
        "    \n",
        "def tf_idf(sentence):\n",
        "    tf_idf_vec = np.zeros((len(set_of_words),))\n",
        "    for word in sentence.split():\n",
        "        tf = term_freq(word,sentence)\n",
        "        # print(tf)\n",
        "        idf = inverse_doc_freq(word)\n",
        "        # print(idf)\n",
        "        value = tf*idf\n",
        "        tf_idf_vec[dict_of_indexes[word]] = value \n",
        "    return tf_idf_vec\n",
        "\n",
        "\n",
        "tf_idf_vec = []\n",
        "for sentence in corpus:\n",
        "    vector = tf_idf(sentence)\n",
        "    tf_idf_vec.append(vector)"
      ],
      "metadata": {
        "id": "ZH-M9oNB2WiS"
      },
      "id": "ZH-M9oNB2WiS",
      "execution_count": 4,
      "outputs": []
    },
    {
      "cell_type": "markdown",
      "id": "f76767a7",
      "metadata": {
        "id": "f76767a7"
      },
      "source": [
        "### Split data"
      ]
    },
    {
      "cell_type": "code",
      "execution_count": 5,
      "id": "f75e6cd2",
      "metadata": {
        "id": "f75e6cd2"
      },
      "outputs": [],
      "source": [
        "X_train,X_test,y_train,y_test = train_test_split(tf_idf_vec, df['Label'],test_size=0.25, random_state = 0)"
      ]
    },
    {
      "cell_type": "markdown",
      "id": "ee6eb76b",
      "metadata": {
        "id": "ee6eb76b"
      },
      "source": [
        "### Train your KNN model (reuse previously iplemented model built from scratch) and test on your data"
      ]
    },
    {
      "cell_type": "markdown",
      "id": "22baf6b2",
      "metadata": {
        "id": "22baf6b2"
      },
      "source": [
        "***1. Experiment with different distance measures [Euclidean distance, Manhattan distance, Hamming Distance] and compare with the Cosine Similarity distance results.***"
      ]
    },
    {
      "cell_type": "code",
      "execution_count": 6,
      "id": "f3492a63",
      "metadata": {
        "id": "f3492a63"
      },
      "outputs": [],
      "source": [
        "# dist == 1 -> Euclidean Distance\n",
        "# dist == 2 -> Manhattan Distance\n",
        "# dist == 3 -> Cosine Distance\n",
        "\n",
        "def calc_distance(v1,v2,dist):\n",
        "  if dist == 1:\n",
        "    return (np.sqrt(np.sum(np.square(v1-v2))))\n",
        "  if dist == 2:\n",
        "    return (np.sum(np.abs(v1-v2)))\n",
        "  if dist == 3:\n",
        "    return (1 - np.dot(v1, v2)/(norm(v1)*norm(v2)))"
      ]
    },
    {
      "cell_type": "code",
      "source": [
        "def find_distance(X_train, y_train, X_test):\n",
        "\n",
        "  dist_euc = []\n",
        "  dist_man = []\n",
        "  dist_cos = []\n",
        "  for i in X_test:\n",
        "    distance1 = []\n",
        "    distance2 = []\n",
        "    distance3 = []\n",
        "    for j,l in zip(X_train,y_train):\n",
        "      d1 = calc_distance(i,j,1)\n",
        "      d2 = calc_distance(i,j,2)\n",
        "      d3 = calc_distance(i,j,3)\n",
        "      distance1.append([d1,l])\n",
        "      distance2.append([d2,l])\n",
        "      distance3.append([d3,l])\n",
        "    distance1.sort()\n",
        "    distance2.sort()\n",
        "    distance3.sort()\n",
        "    distance1 = distance1[:100]    \n",
        "    distance2 = distance2[:100]    \n",
        "    distance3 = distance3[:100]\n",
        "    dist_euc.append(distance1)\n",
        "    dist_man.append(distance2) \n",
        "    dist_cos.append(distance3) \n",
        "\n",
        "  return dist_euc, dist_man, dist_cos"
      ],
      "metadata": {
        "id": "EtP6alAAJbQK"
      },
      "id": "EtP6alAAJbQK",
      "execution_count": 7,
      "outputs": []
    },
    {
      "cell_type": "code",
      "source": [
        "dist_euc, dist_man, dist_cos = find_distance(X_train, y_train, X_test)"
      ],
      "metadata": {
        "colab": {
          "base_uri": "https://localhost:8080/"
        },
        "id": "ffUqMGYsK0RB",
        "outputId": "5f5d7871-c5b6-452d-9d74-cd50c8f8a20e"
      },
      "id": "ffUqMGYsK0RB",
      "execution_count": 8,
      "outputs": [
        {
          "output_type": "stream",
          "name": "stderr",
          "text": [
            "/usr/local/lib/python3.7/dist-packages/ipykernel_launcher.py:11: RuntimeWarning: invalid value encountered in double_scalars\n",
            "  # This is added back by InteractiveShellApp.init_path()\n"
          ]
        }
      ]
    },
    {
      "cell_type": "code",
      "source": [
        "def pred(distance):\n",
        "  one = 0\n",
        "  zero = 0\n",
        "  for label in distance:\n",
        "    if label[1]==1:\n",
        "      one = one +1\n",
        "    else:\n",
        "      zero = zero+1\n",
        "  if one>=zero:\n",
        "    return 1\n",
        "  else:\n",
        "    return 0"
      ],
      "metadata": {
        "id": "mqZ5GLJoHxXI"
      },
      "id": "mqZ5GLJoHxXI",
      "execution_count": 9,
      "outputs": []
    },
    {
      "cell_type": "code",
      "source": [
        "def knn_prediction(k,dist):\n",
        "  y_pred = []\n",
        "  dist_mat = []\n",
        "  if dist==1:\n",
        "    dist_mat = dist_euc\n",
        "  if dist==2:\n",
        "    dist_mat = dist_man\n",
        "  if dist == 3:\n",
        "    dist_mat = dist_cos\n",
        "  for distance in dist_mat:\n",
        "    y_pred.append(pred(distance[:k]))\n",
        "  return y_pred"
      ],
      "metadata": {
        "id": "2kwGay0mLAuk"
      },
      "id": "2kwGay0mLAuk",
      "execution_count": 10,
      "outputs": []
    },
    {
      "cell_type": "code",
      "execution_count": 11,
      "id": "b0eff323",
      "metadata": {
        "id": "b0eff323"
      },
      "outputs": [],
      "source": [
        "# def knn_pred(X_train,X_test,y_train,y_test, k,dist):\n",
        "    \n",
        "#     y_pred = []\n",
        "#     count = 1\n",
        "#     for i in X_test:\n",
        "#       distance = []\n",
        "#       for j,l in zip(X_train,y_train):\n",
        "#         d = calc_distance(i,j,dist)\n",
        "#         distance.append([d,l])\n",
        "#       distance.sort()\n",
        "#       distance = distance[:]\n",
        "#       one = zero = 0\n",
        "#       y_pred.append(pred(distance))\n",
        "#     return y_pred"
      ]
    },
    {
      "cell_type": "code",
      "execution_count": 12,
      "id": "4fc0cd90",
      "metadata": {
        "id": "4fc0cd90"
      },
      "outputs": [],
      "source": [
        "# def f1Score(y_pred,y_test):\n",
        "#     TP = TN = FP = FN = 0\n",
        "#     y_temp = y_test.to_list()\n",
        "#     for i in range(0,len(y_pred)):\n",
        "#         if y_pred[i] == 1 and y_temp[i] == 1:\n",
        "#             TP = TP + 1\n",
        "#         if y_pred[i] == 1 and y_temp[i] == 0:\n",
        "#             FP = FP + 1\n",
        "#         if y_pred[i] == 0 and y_temp[i] == 1:\n",
        "#             FN = FN + 1\n",
        "#         if y_pred[i] == 0 and y_temp[i] == 0:\n",
        "#             TN = TN + 1\n",
        "#     precision = TP / (TP+FP)\n",
        "#     recall = TP / (TP+FN)\n",
        "#     f1score = (2 * precision * recall) / (precision + recall)\n",
        "#     print(precision,recall,f1score)\n",
        "#     print(TP,TN,FP,FN)\n",
        "\n",
        "#     return f1score"
      ]
    },
    {
      "cell_type": "markdown",
      "id": "bcf6f3b1",
      "metadata": {
        "id": "bcf6f3b1"
      },
      "source": [
        "***2. Explain which distance measure works best and why? Explore the distance measures and weigh their pro and cons in different application settings.***"
      ]
    },
    {
      "cell_type": "markdown",
      "id": "bae57a01",
      "metadata": {
        "id": "bae57a01"
      },
      "source": [
        "Cosine Distance gives us better results than euclidean and Manhattan Distance. This is because cosine distance also takes angle into consideration while calculating distance and Euclidean and Manhattan Distance don't accounts for angle between vectors. Cosine Similarity is majorly used in model which involves sentiment Analysis.\n",
        "\n"
      ]
    },
    {
      "cell_type": "markdown",
      "id": "45a99c76",
      "metadata": {
        "id": "45a99c76"
      },
      "source": [
        "***3. For evaluating model, show confusion matrix, accuracy, recall, precision and F1-score. Answer why accuracy alone is not sufficient to evaluate the model. Why we need precision/recall/f1-score. ?***"
      ]
    },
    {
      "cell_type": "code",
      "source": [
        "# ALl the below caluations are for cosine distance\n",
        "l = [1,3,5,7,11,17,23,28]\n",
        "for i in l:\n",
        "  y_pred = knn_prediction(i,3)\n",
        "  print(\"For value of K = \", i)\n",
        "  cv = confusion_matrix(y_test,y_pred)\n",
        "  print(\"Confusion matrix = \" ,cv)\n",
        "  print(\"Accuracy Score = = \",accuracy_score(y_test, y_pred))\n",
        "  print(\"Recall = \", recall_score(y_test,y_pred))\n",
        "  print(\"Precision = \", precision_score(y_test, y_pred))\n",
        "  print(\"F1 Score = \", f1_score(y_test,y_pred))\n",
        "  print()\n",
        "  print()"
      ],
      "metadata": {
        "colab": {
          "base_uri": "https://localhost:8080/"
        },
        "id": "_CpEABedhE2x",
        "outputId": "6de3bba0-c664-49c3-8461-21608f35b49c"
      },
      "id": "_CpEABedhE2x",
      "execution_count": 13,
      "outputs": [
        {
          "output_type": "stream",
          "name": "stdout",
          "text": [
            "For value of K =  1\n",
            "Confusion matrix =  [[1169   39]\n",
            " [  57  128]]\n",
            "Accuracy Score = =  0.9310839913854989\n",
            "Recall =  0.6918918918918919\n",
            "Precision =  0.7664670658682635\n",
            "F1 Score =  0.7272727272727273\n",
            "\n",
            "\n",
            "For value of K =  3\n",
            "Confusion matrix =  [[1184   24]\n",
            " [  53  132]]\n",
            "Accuracy Score = =  0.9447236180904522\n",
            "Recall =  0.7135135135135136\n",
            "Precision =  0.8461538461538461\n",
            "F1 Score =  0.7741935483870969\n",
            "\n",
            "\n",
            "For value of K =  5\n",
            "Confusion matrix =  [[1194   14]\n",
            " [  63  122]]\n",
            "Accuracy Score = =  0.9447236180904522\n",
            "Recall =  0.6594594594594595\n",
            "Precision =  0.8970588235294118\n",
            "F1 Score =  0.7601246105919003\n",
            "\n",
            "\n",
            "For value of K =  7\n",
            "Confusion matrix =  [[1196   12]\n",
            " [  64  121]]\n",
            "Accuracy Score = =  0.9454414931801867\n",
            "Recall =  0.654054054054054\n",
            "Precision =  0.9097744360902256\n",
            "F1 Score =  0.761006289308176\n",
            "\n",
            "\n",
            "For value of K =  11\n",
            "Confusion matrix =  [[1201    7]\n",
            " [  64  121]]\n",
            "Accuracy Score = =  0.9490308686288585\n",
            "Recall =  0.654054054054054\n",
            "Precision =  0.9453125\n",
            "F1 Score =  0.7731629392971247\n",
            "\n",
            "\n",
            "For value of K =  17\n",
            "Confusion matrix =  [[1198   10]\n",
            " [  78  107]]\n",
            "Accuracy Score = =  0.9368269921033741\n",
            "Recall =  0.5783783783783784\n",
            "Precision =  0.9145299145299145\n",
            "F1 Score =  0.7086092715231788\n",
            "\n",
            "\n",
            "For value of K =  23\n",
            "Confusion matrix =  [[1195   13]\n",
            " [  84  101]]\n",
            "Accuracy Score = =  0.9303661162957645\n",
            "Recall =  0.5459459459459459\n",
            "Precision =  0.8859649122807017\n",
            "F1 Score =  0.6755852842809364\n",
            "\n",
            "\n",
            "For value of K =  28\n",
            "Confusion matrix =  [[1193   15]\n",
            " [  91   94]]\n",
            "Accuracy Score = =  0.923905240488155\n",
            "Recall =  0.5081081081081081\n",
            "Precision =  0.8623853211009175\n",
            "F1 Score =  0.6394557823129252\n",
            "\n",
            "\n"
          ]
        }
      ]
    },
    {
      "cell_type": "markdown",
      "source": [
        "**Confusion Matrix** \n",
        "A confusion matrix is a 2*2 matrix which is used to describe the performance of a classification model on a set of test data for which the true values are known. It have four entries namely True Positive (TP), True Negative(TN), False Positive(FP) and False Negative(FN).\n",
        "\n",
        "**Accuracy** -\n",
        "Accuracy of any binary classifier is calculated as sum of TP and TN divide by total number of points. Ideal value of accuracy is 1. Value of accuracy ranges between 0 to 1. Accuracy can be used for evaluation when the data is evenly distributed.But generally the data we get is very  unevenly distributed. As we can see in given dataset almost 85% mails are hams, and remaining emails are spams. If our model fails to predict the spams then due to unbalanced nature of our data accuracy cannot be used for evaluating the correctness of our model. \n",
        "\n",
        "**Precision** -\n",
        "Precision Score tells us what proportion of positive identifications were actually correct.\n",
        "\n",
        "**Recall** - \n",
        "Recall Score tells us how many actual positives were identified correctly.\n",
        "\n",
        "**F1 Score** -\n",
        "F1 which is a function of Precision and Recall.F1 Score is needed when you want to seek a balance between Precision and Recall. F1 Score might be a better measure to use if we need to seek a balance between Precision and Recall and  there is an uneven class distribution."
      ],
      "metadata": {
        "id": "tO-3bfF_k-zG"
      },
      "id": "tO-3bfF_k-zG"
    },
    {
      "cell_type": "markdown",
      "id": "d4dde8d3",
      "metadata": {
        "id": "d4dde8d3"
      },
      "source": [
        "***4. Choose different K values (k=1,3,5,7,11,17,23,28) and experiment. Plot a graph showing F1 score vs k.***"
      ]
    },
    {
      "cell_type": "markdown",
      "source": [
        "##### Euclidean Distance - Plot of k vs F1 score when euclidean distance is used to calculate distance between 2 vectors."
      ],
      "metadata": {
        "id": "45e0fd2f"
      },
      "id": "45e0fd2f"
    },
    {
      "cell_type": "code",
      "source": [
        "l = [1,3,5,7,11,17,23,28]\n",
        "fscore = []\n",
        "for i in l:\n",
        "  y_pred = knn_prediction(i,1)\n",
        "  # cv = confusion_matrix(y_test,y_pred)\n",
        "  # print(cv)\n",
        "  fscore.append(f1_score(y_test,y_pred))\n",
        "plt.plot(l, fscore)\n",
        "plt.xlabel('K')\n",
        "plt.ylabel('F1-score')\n",
        "plt.show()\n"
      ],
      "metadata": {
        "colab": {
          "base_uri": "https://localhost:8080/",
          "height": 282
        },
        "id": "Ed844juY0uC4",
        "outputId": "fb09a534-0e90-4875-bd47-89159d639ea5"
      },
      "id": "Ed844juY0uC4",
      "execution_count": 14,
      "outputs": [
        {
          "output_type": "display_data",
          "data": {
            "image/png": "[encoded data removed]",
            "text/plain": [
              "<Figure size 432x288 with 1 Axes>"
            ]
          },
          "metadata": {
            "needs_background": "light"
          }
        }
      ]
    },
    {
      "cell_type": "markdown",
      "source": [
        "##### Manhattan Distance - Plot of K vs F1 score when manhattan distance is used to calculate distance between 2 vectors."
      ],
      "metadata": {
        "id": "YePTUcMn0kmq"
      },
      "id": "YePTUcMn0kmq"
    },
    {
      "cell_type": "code",
      "source": [
        "l = [1,3,5,7,11,17,23,28]\n",
        "fscore = []\n",
        "for i in l:\n",
        "  y_pred = knn_prediction(i,2)\n",
        "  # cv = confusion_matrix(y_test,y_pred)\n",
        "  # print(cv)\n",
        "  fscore.append(f1_score(y_test,y_pred))\n",
        " \n",
        "plt.plot(l, fscore)\n",
        "plt.xlabel('K')\n",
        "plt.ylabel('F1-score')\n",
        "plt.show()"
      ],
      "metadata": {
        "colab": {
          "base_uri": "https://localhost:8080/",
          "height": 279
        },
        "id": "S1FuaPsF0uoj",
        "outputId": "d2fd311a-0afd-450f-cd17-1aa5ff1ccc4e"
      },
      "id": "S1FuaPsF0uoj",
      "execution_count": 15,
      "outputs": [
        {
          "output_type": "display_data",
          "data": {
            "image/png": "[encoded data removed]",
            "text/plain": [
              "<Figure size 432x288 with 1 Axes>"
            ]
          },
          "metadata": {
            "needs_background": "light"
          }
        }
      ]
    },
    {
      "cell_type": "markdown",
      "source": [
        "##### Cosine Distance - Plot of K vs F1 score when Cosine Distance is used to calculate distance between 2 vectors."
      ],
      "metadata": {
        "id": "dLSX3CCq0ko9"
      },
      "id": "dLSX3CCq0ko9"
    },
    {
      "cell_type": "code",
      "source": [
        "l = [1,3,5,7,11,17,23,28]\n",
        "fscore = []\n",
        "for i in l:\n",
        "  y_pred = knn_prediction(i,3)\n",
        "  # cv = confusion_matrix(y_test,y_pred)\n",
        "  # print(cv)\n",
        "  fscore.append(f1_score(y_test,y_pred))\n",
        "  \n",
        "  \n",
        "plt.plot(l, fscore)\n",
        "plt.xlabel('K')\n",
        "plt.ylabel('F1-score')\n",
        "plt.show()"
      ],
      "metadata": {
        "colab": {
          "base_uri": "https://localhost:8080/",
          "height": 282
        },
        "id": "jtkh-zeX0vMx",
        "outputId": "843fd50b-1048-4cd9-f465-3772e2b1849e"
      },
      "id": "jtkh-zeX0vMx",
      "execution_count": 16,
      "outputs": [
        {
          "output_type": "display_data",
          "data": {
            "image/png": "[encoded data removed]",
            "text/plain": [
              "<Figure size 432x288 with 1 Axes>"
            ]
          },
          "metadata": {
            "needs_background": "light"
          }
        }
      ]
    },
    {
      "cell_type": "markdown",
      "id": "15000352",
      "metadata": {
        "id": "15000352"
      },
      "source": [
        "### Train and test Sklearn's KNN classifier model on your data (use metric which gave best results on your experimentation with built-from-scratch model.)"
      ]
    },
    {
      "cell_type": "code",
      "execution_count": 17,
      "id": "48aab7d3",
      "metadata": {
        "id": "48aab7d3",
        "colab": {
          "base_uri": "https://localhost:8080/",
          "height": 265
        },
        "outputId": "ecc8878c-1482-43c9-9cea-7b15d466c5aa"
      },
      "outputs": [
        {
          "output_type": "display_data",
          "data": {
            "image/png": "[encoded data removed]",
            "text/plain": [
              "<Figure size 432x288 with 1 Axes>"
            ]
          },
          "metadata": {
            "needs_background": "light"
          }
        }
      ],
      "source": [
        "fscore = []\n",
        "l = [1,3,5,7,11,17,23,28]\n",
        "for i in l:\n",
        "    knn = KNeighborsClassifier(n_neighbors=i, metric = \"cosine\")\n",
        "    knn.fit(X_train, y_train)\n",
        "    y_pred = knn.predict(X_test)\n",
        "    fscore.append(f1_score(y_test,y_pred))\n",
        "    # print(accuracy_score(y_test, y_pred))\n",
        "\n",
        "plt.plot(l,fscore)\n",
        "plt.show()"
      ]
    },
    {
      "cell_type": "markdown",
      "id": "7d22aa47",
      "metadata": {
        "id": "7d22aa47"
      },
      "source": [
        "***Compare both the models result.***"
      ]
    },
    {
      "cell_type": "markdown",
      "source": [
        "If we compare both the knn models i.e. the one made from scratch and one made using sklearn library both gives maximum f1_score at k = 11 which is 0.77 for vanilla knn and 0.82 for sklearn knn. The nature of the graph between K and F1 score for both the KNNs is almost same with minor inaccuracies in vanilla knn model. As the value of k increase from 11 to 28 the f1_score for the model decreases gradually which signfies then at k=11 the model will give the best results."
      ],
      "metadata": {
        "id": "d33a72b2"
      },
      "id": "d33a72b2"
    },
    {
      "cell_type": "markdown",
      "id": "64987575",
      "metadata": {
        "id": "64987575"
      },
      "source": [
        "***What is the time complexity of training using KNN classifier?***"
      ]
    },
    {
      "cell_type": "markdown",
      "id": "2770c106",
      "metadata": {
        "id": "2770c106"
      },
      "source": [
        "The time complexity for training a KNN classifier is **O(1)**  i.e. constant. This is because knn classifier just store values of training points as a vector and do not do any kind of processing."
      ]
    },
    {
      "cell_type": "markdown",
      "id": "fad1f345",
      "metadata": {
        "id": "fad1f345"
      },
      "source": [
        "***What is the time complexity while testing? Is KNN a linear classifier or can it learn any boundary?***"
      ]
    },
    {
      "cell_type": "markdown",
      "id": "ce70eea5",
      "metadata": {
        "id": "ce70eea5"
      },
      "source": [
        "The time complexity for testing a single point in KNN classifier is **O(n*d)** where **n** is no. of training points available in the dataset and **d** is no. of dimensions of a vector. At the time of testing knn classifier calculates the distance between all the training points and the test point and return k points with least distance from the test point. Calculating distance takes **O(d)** time where d is dimension of the vector. \n",
        "\n",
        "The decision boundaries of knn are locally linear segments but in general they have more complex shape which is not equivalent to line in 2-D or hyperplane in higher dimesions."
      ]
    }
  ],
  "metadata": {
    "kernelspec": {
      "display_name": "Python 3 (ipykernel)",
      "language": "python",
      "name": "python3"
    },
    "language_info": {
      "codemirror_mode": {
        "name": "ipython",
        "version": 3
      },
      "file_extension": ".py",
      "mimetype": "text/x-python",
      "name": "python",
      "nbconvert_exporter": "python",
      "pygments_lexer": "ipython3",
      "version": "3.8.10"
    },
    "colab": {
      "name": "2021201089_Assignment1_Question3.ipynb",
      "provenance": []
    }
  },
  "nbformat": 4,
  "nbformat_minor": 5
}